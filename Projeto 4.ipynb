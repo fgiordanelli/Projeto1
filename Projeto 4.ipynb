{
 "cells": [
  {
   "cell_type": "markdown",
   "id": "0514232e-36f7-41ab-a140-c27cb936655e",
   "metadata": {},
   "source": [
    "# Projeto 4 - Titanic - Quem irá sobreviver? \n",
    "<img src=\"https://github.com/fgiordanelli/Projeto1/blob/main/imagens/img17.png?raw=true\" width=\"500\" height=\"100\"/>"
   ]
  },
  {
   "cell_type": "code",
   "execution_count": 33,
   "id": "bc83e397-24fb-4d3b-b432-5bc308cba72c",
   "metadata": {},
   "outputs": [],
   "source": [
    "import numpy as np\n",
    "import pandas as pd\n",
    "import matplotlib.pyplot as plt\n",
    "from sklearn.model_selection import train_test_split\n",
    "from sklearn.pipeline import *\n",
    "from sklearn.preprocessing import *\n",
    "from sklearn.linear_model import LogisticRegression\n",
    "from sklearn.tree import DecisionTreeClassifier\n",
    "from sklearn.neighbors import KNeighborsClassifier\n",
    "from sklearn.discriminant_analysis import LinearDiscriminantAnalysis\n",
    "from sklearn.ensemble import RandomForestClassifier\n",
    "from sklearn.svm import SVC\n",
    "from sklearn.metrics import *\n",
    "from sklearn.impute import *\n",
    "from sklearn.base import *\n",
    "from sklearn.compose import *\n",
    "from plotnine import *\n",
    "from sklearn.inspection import *\n",
    "import pickle\n",
    "from yellowbrick.model_selection import FeatureImportances"
   ]
  },
  {
   "cell_type": "code",
   "execution_count": 34,
   "id": "38f9f0f7-851b-4e75-97a1-ccf43248ae54",
   "metadata": {},
   "outputs": [
    {
     "data": {
      "text/html": [
       "<div>\n",
       "<style scoped>\n",
       "    .dataframe tbody tr th:only-of-type {\n",
       "        vertical-align: middle;\n",
       "    }\n",
       "\n",
       "    .dataframe tbody tr th {\n",
       "        vertical-align: top;\n",
       "    }\n",
       "\n",
       "    .dataframe thead th {\n",
       "        text-align: right;\n",
       "    }\n",
       "</style>\n",
       "<table border=\"1\" class=\"dataframe\">\n",
       "  <thead>\n",
       "    <tr style=\"text-align: right;\">\n",
       "      <th></th>\n",
       "      <th>PassengerId</th>\n",
       "      <th>Survived</th>\n",
       "      <th>Pclass</th>\n",
       "      <th>Name</th>\n",
       "      <th>Sex</th>\n",
       "      <th>Age</th>\n",
       "      <th>SibSp</th>\n",
       "      <th>Parch</th>\n",
       "      <th>Ticket</th>\n",
       "      <th>Fare</th>\n",
       "      <th>Cabin</th>\n",
       "      <th>Embarked</th>\n",
       "    </tr>\n",
       "  </thead>\n",
       "  <tbody>\n",
       "    <tr>\n",
       "      <th>0</th>\n",
       "      <td>1</td>\n",
       "      <td>0</td>\n",
       "      <td>3</td>\n",
       "      <td>Braund, Mr. Owen Harris</td>\n",
       "      <td>male</td>\n",
       "      <td>22.0</td>\n",
       "      <td>1</td>\n",
       "      <td>0</td>\n",
       "      <td>A/5 21171</td>\n",
       "      <td>7.2500</td>\n",
       "      <td>NaN</td>\n",
       "      <td>S</td>\n",
       "    </tr>\n",
       "    <tr>\n",
       "      <th>1</th>\n",
       "      <td>2</td>\n",
       "      <td>1</td>\n",
       "      <td>1</td>\n",
       "      <td>Cumings, Mrs. John Bradley (Florence Briggs Th...</td>\n",
       "      <td>female</td>\n",
       "      <td>38.0</td>\n",
       "      <td>1</td>\n",
       "      <td>0</td>\n",
       "      <td>PC 17599</td>\n",
       "      <td>71.2833</td>\n",
       "      <td>C85</td>\n",
       "      <td>C</td>\n",
       "    </tr>\n",
       "    <tr>\n",
       "      <th>2</th>\n",
       "      <td>3</td>\n",
       "      <td>1</td>\n",
       "      <td>3</td>\n",
       "      <td>Heikkinen, Miss. Laina</td>\n",
       "      <td>female</td>\n",
       "      <td>26.0</td>\n",
       "      <td>0</td>\n",
       "      <td>0</td>\n",
       "      <td>STON/O2. 3101282</td>\n",
       "      <td>7.9250</td>\n",
       "      <td>NaN</td>\n",
       "      <td>S</td>\n",
       "    </tr>\n",
       "    <tr>\n",
       "      <th>3</th>\n",
       "      <td>4</td>\n",
       "      <td>1</td>\n",
       "      <td>1</td>\n",
       "      <td>Futrelle, Mrs. Jacques Heath (Lily May Peel)</td>\n",
       "      <td>female</td>\n",
       "      <td>35.0</td>\n",
       "      <td>1</td>\n",
       "      <td>0</td>\n",
       "      <td>113803</td>\n",
       "      <td>53.1000</td>\n",
       "      <td>C123</td>\n",
       "      <td>S</td>\n",
       "    </tr>\n",
       "    <tr>\n",
       "      <th>4</th>\n",
       "      <td>5</td>\n",
       "      <td>0</td>\n",
       "      <td>3</td>\n",
       "      <td>Allen, Mr. William Henry</td>\n",
       "      <td>male</td>\n",
       "      <td>35.0</td>\n",
       "      <td>0</td>\n",
       "      <td>0</td>\n",
       "      <td>373450</td>\n",
       "      <td>8.0500</td>\n",
       "      <td>NaN</td>\n",
       "      <td>S</td>\n",
       "    </tr>\n",
       "    <tr>\n",
       "      <th>...</th>\n",
       "      <td>...</td>\n",
       "      <td>...</td>\n",
       "      <td>...</td>\n",
       "      <td>...</td>\n",
       "      <td>...</td>\n",
       "      <td>...</td>\n",
       "      <td>...</td>\n",
       "      <td>...</td>\n",
       "      <td>...</td>\n",
       "      <td>...</td>\n",
       "      <td>...</td>\n",
       "      <td>...</td>\n",
       "    </tr>\n",
       "    <tr>\n",
       "      <th>886</th>\n",
       "      <td>887</td>\n",
       "      <td>0</td>\n",
       "      <td>2</td>\n",
       "      <td>Montvila, Rev. Juozas</td>\n",
       "      <td>male</td>\n",
       "      <td>27.0</td>\n",
       "      <td>0</td>\n",
       "      <td>0</td>\n",
       "      <td>211536</td>\n",
       "      <td>13.0000</td>\n",
       "      <td>NaN</td>\n",
       "      <td>S</td>\n",
       "    </tr>\n",
       "    <tr>\n",
       "      <th>887</th>\n",
       "      <td>888</td>\n",
       "      <td>1</td>\n",
       "      <td>1</td>\n",
       "      <td>Graham, Miss. Margaret Edith</td>\n",
       "      <td>female</td>\n",
       "      <td>19.0</td>\n",
       "      <td>0</td>\n",
       "      <td>0</td>\n",
       "      <td>112053</td>\n",
       "      <td>30.0000</td>\n",
       "      <td>B42</td>\n",
       "      <td>S</td>\n",
       "    </tr>\n",
       "    <tr>\n",
       "      <th>888</th>\n",
       "      <td>889</td>\n",
       "      <td>0</td>\n",
       "      <td>3</td>\n",
       "      <td>Johnston, Miss. Catherine Helen \"Carrie\"</td>\n",
       "      <td>female</td>\n",
       "      <td>NaN</td>\n",
       "      <td>1</td>\n",
       "      <td>2</td>\n",
       "      <td>W./C. 6607</td>\n",
       "      <td>23.4500</td>\n",
       "      <td>NaN</td>\n",
       "      <td>S</td>\n",
       "    </tr>\n",
       "    <tr>\n",
       "      <th>889</th>\n",
       "      <td>890</td>\n",
       "      <td>1</td>\n",
       "      <td>1</td>\n",
       "      <td>Behr, Mr. Karl Howell</td>\n",
       "      <td>male</td>\n",
       "      <td>26.0</td>\n",
       "      <td>0</td>\n",
       "      <td>0</td>\n",
       "      <td>111369</td>\n",
       "      <td>30.0000</td>\n",
       "      <td>C148</td>\n",
       "      <td>C</td>\n",
       "    </tr>\n",
       "    <tr>\n",
       "      <th>890</th>\n",
       "      <td>891</td>\n",
       "      <td>0</td>\n",
       "      <td>3</td>\n",
       "      <td>Dooley, Mr. Patrick</td>\n",
       "      <td>male</td>\n",
       "      <td>32.0</td>\n",
       "      <td>0</td>\n",
       "      <td>0</td>\n",
       "      <td>370376</td>\n",
       "      <td>7.7500</td>\n",
       "      <td>NaN</td>\n",
       "      <td>Q</td>\n",
       "    </tr>\n",
       "  </tbody>\n",
       "</table>\n",
       "<p>891 rows × 12 columns</p>\n",
       "</div>"
      ],
      "text/plain": [
       "     PassengerId  Survived  Pclass  \\\n",
       "0              1         0       3   \n",
       "1              2         1       1   \n",
       "2              3         1       3   \n",
       "3              4         1       1   \n",
       "4              5         0       3   \n",
       "..           ...       ...     ...   \n",
       "886          887         0       2   \n",
       "887          888         1       1   \n",
       "888          889         0       3   \n",
       "889          890         1       1   \n",
       "890          891         0       3   \n",
       "\n",
       "                                                  Name     Sex   Age  SibSp  \\\n",
       "0                              Braund, Mr. Owen Harris    male  22.0      1   \n",
       "1    Cumings, Mrs. John Bradley (Florence Briggs Th...  female  38.0      1   \n",
       "2                               Heikkinen, Miss. Laina  female  26.0      0   \n",
       "3         Futrelle, Mrs. Jacques Heath (Lily May Peel)  female  35.0      1   \n",
       "4                             Allen, Mr. William Henry    male  35.0      0   \n",
       "..                                                 ...     ...   ...    ...   \n",
       "886                              Montvila, Rev. Juozas    male  27.0      0   \n",
       "887                       Graham, Miss. Margaret Edith  female  19.0      0   \n",
       "888           Johnston, Miss. Catherine Helen \"Carrie\"  female   NaN      1   \n",
       "889                              Behr, Mr. Karl Howell    male  26.0      0   \n",
       "890                                Dooley, Mr. Patrick    male  32.0      0   \n",
       "\n",
       "     Parch            Ticket     Fare Cabin Embarked  \n",
       "0        0         A/5 21171   7.2500   NaN        S  \n",
       "1        0          PC 17599  71.2833   C85        C  \n",
       "2        0  STON/O2. 3101282   7.9250   NaN        S  \n",
       "3        0            113803  53.1000  C123        S  \n",
       "4        0            373450   8.0500   NaN        S  \n",
       "..     ...               ...      ...   ...      ...  \n",
       "886      0            211536  13.0000   NaN        S  \n",
       "887      0            112053  30.0000   B42        S  \n",
       "888      2        W./C. 6607  23.4500   NaN        S  \n",
       "889      0            111369  30.0000  C148        C  \n",
       "890      0            370376   7.7500   NaN        Q  \n",
       "\n",
       "[891 rows x 12 columns]"
      ]
     },
     "execution_count": 34,
     "metadata": {},
     "output_type": "execute_result"
    }
   ],
   "source": [
    "df=pd.read_csv('https://raw.githubusercontent.com/fgiordanelli/Projeto1/main/Datasets/dataset4.csv')\n",
    "df"
   ]
  },
  {
   "cell_type": "markdown",
   "id": "b6dabb0a",
   "metadata": {},
   "source": [
    "## Ver o balanceamento da base de dados\n",
    "<img src=\"https://github.com/fgiordanelli/Projeto1/blob/main/imagens/img2.png?raw=true\" width=\"500\" height=\"100\"/>"
   ]
  },
  {
   "cell_type": "code",
   "execution_count": 35,
   "id": "d783826f-9126-4880-ae29-225a2d31ba2c",
   "metadata": {},
   "outputs": [],
   "source": [
    "total = df.groupby('Survived').agg(n = ('Survived','count')).reset_index()\n",
    "total['perc'] = 100*total['n']/total['n'].sum()"
   ]
  },
  {
   "cell_type": "code",
   "execution_count": 36,
   "id": "11516a80-4271-45eb-8f5b-62565f4534aa",
   "metadata": {},
   "outputs": [
    {
     "data": {
      "text/html": [
       "<div>\n",
       "<style scoped>\n",
       "    .dataframe tbody tr th:only-of-type {\n",
       "        vertical-align: middle;\n",
       "    }\n",
       "\n",
       "    .dataframe tbody tr th {\n",
       "        vertical-align: top;\n",
       "    }\n",
       "\n",
       "    .dataframe thead th {\n",
       "        text-align: right;\n",
       "    }\n",
       "</style>\n",
       "<table border=\"1\" class=\"dataframe\">\n",
       "  <thead>\n",
       "    <tr style=\"text-align: right;\">\n",
       "      <th></th>\n",
       "      <th>Survived</th>\n",
       "      <th>n</th>\n",
       "      <th>perc</th>\n",
       "    </tr>\n",
       "  </thead>\n",
       "  <tbody>\n",
       "    <tr>\n",
       "      <th>0</th>\n",
       "      <td>0</td>\n",
       "      <td>549</td>\n",
       "      <td>61.616162</td>\n",
       "    </tr>\n",
       "    <tr>\n",
       "      <th>1</th>\n",
       "      <td>1</td>\n",
       "      <td>342</td>\n",
       "      <td>38.383838</td>\n",
       "    </tr>\n",
       "  </tbody>\n",
       "</table>\n",
       "</div>"
      ],
      "text/plain": [
       "   Survived    n       perc\n",
       "0         0  549  61.616162\n",
       "1         1  342  38.383838"
      ]
     },
     "execution_count": 36,
     "metadata": {},
     "output_type": "execute_result"
    }
   ],
   "source": [
    "total"
   ]
  },
  {
   "cell_type": "markdown",
   "id": "7a5e5b99",
   "metadata": {},
   "source": [
    "# Ver se tem valores fora do padrão\n",
    "\n",
    "![image.png](data:image/png;base64,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)"
   ]
  },
  {
   "cell_type": "code",
   "execution_count": 37,
   "id": "b6a2fd7f",
   "metadata": {},
   "outputs": [
    {
     "data": {
      "image/png": "[encoded data removed]",
      "text/plain": [
       "<Figure size 640x480 with 1 Axes>"
      ]
     },
     "metadata": {},
     "output_type": "display_data"
    },
    {
     "data": {
      "text/plain": [
       "<ggplot: (163755022249)>"
      ]
     },
     "execution_count": 37,
     "metadata": {},
     "output_type": "execute_result"
    }
   ],
   "source": [
    "(\n",
    "    ggplot(df) +\n",
    "    geom_boxplot(aes(x = 0 , y='Fare'))\n",
    ")"
   ]
  },
  {
   "cell_type": "markdown",
   "id": "fec76282-00cb-473c-b57f-7ae5a571d7ea",
   "metadata": {},
   "source": [
    "## Separa em target e feature\n",
    "\n",
    "<img src=\"https://miro.medium.com/max/1664/1*HQQPUO8whJzuQsyJaWZL_A.jpeg\" width=\"300\" height=\"100\"/>"
   ]
  },
  {
   "cell_type": "code",
   "execution_count": 38,
   "id": "bc550b22-5c21-43db-bcb7-cb52e2974680",
   "metadata": {},
   "outputs": [],
   "source": [
    "X = df[['Pclass','Sex','Age','SibSp','Parch','Fare','Cabin','Embarked']]\n",
    "y = df['Survived']"
   ]
  },
  {
   "cell_type": "markdown",
   "id": "41a17573",
   "metadata": {},
   "source": [
    "## Separar em treino e teste e a variável target das features\n",
    "<img src=\"https://i.ibb.co/3csjYT2/image.png\" width=\"400\" height=\"100\"/>"
   ]
  },
  {
   "cell_type": "code",
   "execution_count": 39,
   "id": "c3c6f45a-8425-46c5-a510-50cdf7cfd277",
   "metadata": {},
   "outputs": [],
   "source": [
    "X_train, X_test, y_train, y_test = train_test_split(X, y, test_size=0.33, random_state=42)"
   ]
  },
  {
   "cell_type": "markdown",
   "id": "b873ec80-f253-4f50-a391-8c3a0904501d",
   "metadata": {},
   "source": [
    "## Tratar Valor Vazio\n",
    "\n",
    "<img src=\"https://github.com/fgiordanelli/Projeto1/blob/main/imagens/img6.png?raw=true\" width=\"400\" height=\"150\"/>"
   ]
  },
  {
   "cell_type": "markdown",
   "id": "b7917c11",
   "metadata": {},
   "source": [
    "## Tratar variável numéricas (se tiverem medidas diferentes)\n",
    "\n",
    "<img src=\"https://github.com/fgiordanelli/Projeto1/blob/main/imagens/img5.png?raw=true\" width=\"350\" height=\"100\"/>"
   ]
  },
  {
   "cell_type": "code",
   "execution_count": 40,
   "id": "51c695db",
   "metadata": {},
   "outputs": [],
   "source": [
    "numeric_transformer = make_pipeline(SimpleImputer(strategy='median', missing_values=np.nan))"
   ]
  },
  {
   "cell_type": "markdown",
   "id": "b27edb4e",
   "metadata": {},
   "source": [
    "## Tratar variáveis categóricas\n",
    "\n",
    "<img src=\"https://github.com/fgiordanelli/Projeto1/blob/main/imagens/img7.png?raw=true\" width=\"600\" height=\"100\"/>"
   ]
  },
  {
   "cell_type": "code",
   "execution_count": 41,
   "id": "3e5c3c37",
   "metadata": {},
   "outputs": [],
   "source": [
    "categorical_transformer = make_pipeline(SimpleImputer(strategy='constant', missing_values=np.nan),\n",
    "                                        OneHotEncoder(handle_unknown='ignore')\n",
    "                                       )"
   ]
  },
  {
   "cell_type": "code",
   "execution_count": 42,
   "id": "380e3f75",
   "metadata": {},
   "outputs": [],
   "source": [
    "preprocessor = make_column_transformer(\n",
    "        (numeric_transformer, ['Pclass',\n",
    "                               'Age',\n",
    "                               'SibSp',\n",
    "                               'Parch',\n",
    "                               'Fare']),\n",
    "        (categorical_transformer,['Sex',\n",
    "                                  'Cabin',\n",
    "                                  'Embarked']))"
   ]
  },
  {
   "cell_type": "code",
   "execution_count": 43,
   "id": "9800d2f4",
   "metadata": {},
   "outputs": [
    {
     "data": {
      "text/plain": [
       "<891x159 sparse matrix of type '<class 'numpy.float64'>'\n",
       "\twith 5827 stored elements in Compressed Sparse Row format>"
      ]
     },
     "execution_count": 43,
     "metadata": {},
     "output_type": "execute_result"
    }
   ],
   "source": [
    "preprocessor.fit_transform(X)"
   ]
  },
  {
   "cell_type": "markdown",
   "id": "c0a4426e-0025-40fb-a685-088f31fb173d",
   "metadata": {},
   "source": [
    "## Treinar o modelo com os principais algorítimos supervisionados de Classificação\n",
    "<img src=\"https://github.com/fgiordanelli/Projeto1/blob/main/imagens/img8.png?raw=true\" width=\"250\" height=\"80\"/>"
   ]
  },
  {
   "cell_type": "code",
   "execution_count": 44,
   "id": "56fde71f-cb13-442e-842c-26102a174c2e",
   "metadata": {},
   "outputs": [],
   "source": [
    "LR = make_pipeline(preprocessor,LogisticRegression(solver='lbfgs', max_iter=1000)).fit(X_train, y_train)\n",
    "#LDA = make_pipeline(preprocessor,LinearDiscriminantAnalysis()).fit(X_train, y_train)\n",
    "DT = make_pipeline(preprocessor,DecisionTreeClassifier()).fit(X_train, y_train)\n",
    "KN = make_pipeline(preprocessor,KNeighborsClassifier()).fit(X_train, y_train)\n",
    "SVM = make_pipeline(preprocessor,SVC(probability=True)).fit(X_train,y_train) \n",
    "RF = make_pipeline(preprocessor,RandomForestClassifier()).fit(X_train,y_train) "
   ]
  },
  {
   "cell_type": "markdown",
   "id": "683d2bd3",
   "metadata": {},
   "source": [
    "## Feature Importance\n",
    "<img src=\"https://www.scikit-yb.org/en/latest/_images/importances-1.png\" width=\"350\" height=\"40\"/>"
   ]
  },
  {
   "cell_type": "code",
   "execution_count": 45,
   "id": "7873ce4a",
   "metadata": {},
   "outputs": [],
   "source": [
    "result = permutation_importance(\n",
    "    RF, X_train, y_train, n_repeats=10, random_state=42, n_jobs=2\n",
    ")"
   ]
  },
  {
   "cell_type": "code",
   "execution_count": 46,
   "id": "200413ef",
   "metadata": {},
   "outputs": [
    {
     "data": {
      "image/png": "[encoded data removed]",
      "text/plain": [
       "<Figure size 576x396 with 1 Axes>"
      ]
     },
     "metadata": {},
     "output_type": "display_data"
    }
   ],
   "source": [
    "sorted_idx = result.importances_mean.argsort()\n",
    "fig, ax = plt.subplots()\n",
    "ax.boxplot(\n",
    "    result.importances[sorted_idx].T, vert=False, labels=X_train.columns[sorted_idx]\n",
    ")\n",
    "ax.set_title(\"Permutation Importances\")\n",
    "fig.tight_layout()\n",
    "plt.show()"
   ]
  },
  {
   "cell_type": "markdown",
   "id": "ef6b9e74",
   "metadata": {},
   "source": [
    "## Acurácia do Treino"
   ]
  },
  {
   "cell_type": "code",
   "execution_count": 47,
   "id": "e9053e68",
   "metadata": {},
   "outputs": [
    {
     "name": "stdout",
     "output_type": "stream",
     "text": [
      "Acurácia treino LR: 0.8204697986577181 \n",
      "\n",
      "Acurácia treino DT: 0.9815436241610739 \n",
      "\n",
      "Acurácia treino KN: 0.7936241610738255 \n",
      "\n",
      "Acurácia treino SVM: 0.6728187919463087 \n",
      "\n",
      "Acurácia treino RF: 0.9815436241610739 \n",
      "\n"
     ]
    }
   ],
   "source": [
    "print(\"Acurácia treino LR:\", LR.score(X_train,y_train), \"\\n\")\n",
    "#print(\"Acurácia treino LDA:\", LDA.score(X_train,y_train), \"\\n\")\n",
    "print(\"Acurácia treino DT:\", DT.score(X_train,y_train), \"\\n\")\n",
    "print(\"Acurácia treino KN:\", KN.score(X_train,y_train), \"\\n\")\n",
    "print(\"Acurácia treino SVM:\", SVM.score(X_train,y_train), \"\\n\")\n",
    "print(\"Acurácia treino RF:\", RF.score(X_train,y_train), \"\\n\")"
   ]
  },
  {
   "cell_type": "markdown",
   "id": "7fa7c988",
   "metadata": {},
   "source": [
    "## Matriz de confusão + Métricas\n",
    "\n",
    "<img src=\"https://github.com/fgiordanelli/Projeto1/blob/main/imagens/img14.png?raw=true\" width=\"350\" height=\"100\"/>"
   ]
  },
  {
   "cell_type": "code",
   "execution_count": 48,
   "id": "7ed34a62",
   "metadata": {},
   "outputs": [
    {
     "data": {
      "image/png": "[encoded data removed]",
      "text/plain": [
       "<Figure size 576x396 with 2 Axes>"
      ]
     },
     "metadata": {},
     "output_type": "display_data"
    }
   ],
   "source": [
    "ConfusionMatrixDisplay.from_estimator(LR, X_train,y_train)\n",
    "plt.show()"
   ]
  },
  {
   "cell_type": "markdown",
   "id": "26c5e68e",
   "metadata": {},
   "source": [
    "## Acurácia, Precision e Recall do Treino"
   ]
  },
  {
   "cell_type": "code",
   "execution_count": 49,
   "id": "ee1cb82d",
   "metadata": {},
   "outputs": [
    {
     "data": {
      "text/html": [
       "<div>\n",
       "<style scoped>\n",
       "    .dataframe tbody tr th:only-of-type {\n",
       "        vertical-align: middle;\n",
       "    }\n",
       "\n",
       "    .dataframe tbody tr th {\n",
       "        vertical-align: top;\n",
       "    }\n",
       "\n",
       "    .dataframe thead th {\n",
       "        text-align: right;\n",
       "    }\n",
       "</style>\n",
       "<table border=\"1\" class=\"dataframe\">\n",
       "  <thead>\n",
       "    <tr style=\"text-align: right;\">\n",
       "      <th></th>\n",
       "      <th>Accuracy</th>\n",
       "      <th>Precision</th>\n",
       "      <th>Recall</th>\n",
       "    </tr>\n",
       "  </thead>\n",
       "  <tbody>\n",
       "    <tr>\n",
       "      <th>LR</th>\n",
       "      <td>0.820470</td>\n",
       "      <td>0.839695</td>\n",
       "      <td>0.994652</td>\n",
       "    </tr>\n",
       "    <tr>\n",
       "      <th>DT</th>\n",
       "      <td>0.981544</td>\n",
       "      <td>0.973890</td>\n",
       "      <td>0.997326</td>\n",
       "    </tr>\n",
       "    <tr>\n",
       "      <th>KN</th>\n",
       "      <td>0.793624</td>\n",
       "      <td>0.811414</td>\n",
       "      <td>0.874332</td>\n",
       "    </tr>\n",
       "    <tr>\n",
       "      <th>SVM</th>\n",
       "      <td>0.672819</td>\n",
       "      <td>0.672447</td>\n",
       "      <td>0.933155</td>\n",
       "    </tr>\n",
       "    <tr>\n",
       "      <th>RF</th>\n",
       "      <td>0.981544</td>\n",
       "      <td>0.976378</td>\n",
       "      <td>0.994652</td>\n",
       "    </tr>\n",
       "  </tbody>\n",
       "</table>\n",
       "</div>"
      ],
      "text/plain": [
       "     Accuracy  Precision    Recall\n",
       "LR   0.820470   0.839695  0.994652\n",
       "DT   0.981544   0.973890  0.997326\n",
       "KN   0.793624   0.811414  0.874332\n",
       "SVM  0.672819   0.672447  0.933155\n",
       "RF   0.981544   0.976378  0.994652"
      ]
     },
     "execution_count": 49,
     "metadata": {},
     "output_type": "execute_result"
    }
   ],
   "source": [
    "metricas = {'Accuracy':  [LR.score(X_train,y_train),\n",
    "                          #LDA.score(X_train,y_train),\n",
    "                          DT.score(X_train,y_train),\n",
    "                          KN.score(X_train,y_train),\n",
    "                          SVM.score(X_train,y_train),\n",
    "                          RF.score(X_train,y_train)],\n",
    "            'Precision': [precision_score(y_train, LR.predict(X_train), pos_label = 0),\n",
    "                          #precision_score(y_train, LDA.predict(X_train), pos_label = 0),\n",
    "                          precision_score(y_train, DT.predict(X_train), pos_label = 0),\n",
    "                          precision_score(y_train, KN.predict(X_train), pos_label = 0),\n",
    "                          precision_score(y_train, SVM.predict(X_train), pos_label = 0),\n",
    "                          precision_score(y_train, RF.predict(X_train), pos_label = 0)],\n",
    "            'Recall' :   [recall_score(y_train, RF.predict(X_train), pos_label = 0),\n",
    "                          #recall_score(y_train, LDA.predict(X_train), pos_label = 0),\n",
    "                          recall_score(y_train, DT.predict(X_train), pos_label = 0),\n",
    "                          recall_score(y_train, KN.predict(X_train), pos_label = 0),\n",
    "                          recall_score(y_train, SVM.predict(X_train), pos_label = 0),\n",
    "                          recall_score(y_train, RF.predict(X_train), pos_label = 0)]\n",
    "        }\n",
    "\n",
    "dados = pd.DataFrame(metricas, columns = ['Accuracy', 'Precision','Recall'], index=['LR','DT','KN','SVM','RF'])\n",
    "\n",
    "dados"
   ]
  },
  {
   "cell_type": "markdown",
   "id": "d4b3c58d-56b3-47d7-81f0-d4b8d03466f0",
   "metadata": {},
   "source": [
    "## Curva ROC\n",
    "<img src=\"https://github.com/fgiordanelli/Projeto1/blob/main/imagens/img15.png?raw=true\" width=\"350\" height=\"200\"/>"
   ]
  },
  {
   "cell_type": "code",
   "execution_count": 50,
   "id": "e27738b8-8797-4761-9a08-809a0b007f2f",
   "metadata": {},
   "outputs": [
    {
     "data": {
      "image/png": "[encoded data removed]",
      "text/plain": [
       "<Figure size 576x396 with 1 Axes>"
      ]
     },
     "metadata": {},
     "output_type": "display_data"
    }
   ],
   "source": [
    "RocCurveDisplay.from_estimator(LR, X_test, y_test,drop_intermediate=False,ax=plt.gca())\n",
    "#RocCurveDisplay.from_estimator(LDA, X_test, y_test,drop_intermediate=False,ax=plt.gca())\n",
    "RocCurveDisplay.from_estimator(DT, X_test, y_test,drop_intermediate=False,ax=plt.gca())\n",
    "RocCurveDisplay.from_estimator(KN, X_test, y_test,drop_intermediate=False,ax=plt.gca())\n",
    "RocCurveDisplay.from_estimator(SVM, X_test, y_test,drop_intermediate=False,ax=plt.gca())\n",
    "RocCurveDisplay.from_estimator(RF, X_test, y_test,drop_intermediate=False,ax=plt.gca())\n",
    "\n",
    "plt.show()"
   ]
  },
  {
   "cell_type": "markdown",
   "id": "cc6aeac1",
   "metadata": {},
   "source": [
    "## Encapsular o modelo e Salvar\n",
    "\n",
    "<img src=\"https://github.com/fgiordanelli/Projeto1/blob/main/imagens/img9.png?raw=true\" width=\"200\" height=\"80\"/>"
   ]
  },
  {
   "cell_type": "code",
   "execution_count": 51,
   "id": "b1c757fd",
   "metadata": {},
   "outputs": [],
   "source": [
    "pickle.dump(RF, open('Modelo_Titanic.sav', 'wb'))"
   ]
  },
  {
   "cell_type": "markdown",
   "id": "ea24f674",
   "metadata": {},
   "source": [
    "## Abrir modelo salvo\n",
    "\n",
    "<img src=\"https://github.com/fgiordanelli/Projeto1/blob/main/imagens/img10.png?raw=true\" width=\"300\" height=\"100\"/>"
   ]
  },
  {
   "cell_type": "code",
   "execution_count": 52,
   "id": "90065bab",
   "metadata": {},
   "outputs": [],
   "source": [
    "loaded_model = pickle.load(open('Modelo_Titanic.sav', 'rb'))"
   ]
  },
  {
   "cell_type": "markdown",
   "id": "2eae5f3d",
   "metadata": {},
   "source": [
    "## Testar agora pro teste. Ver se houve overfitting\n",
    "\n",
    "<img src=\"https://github.com/fgiordanelli/Projeto1/blob/main/imagens/img11.png?raw=true\" width=\"150\" height=\"80\"/>"
   ]
  },
  {
   "cell_type": "code",
   "execution_count": 53,
   "id": "39bfdac2",
   "metadata": {},
   "outputs": [
    {
     "name": "stdout",
     "output_type": "stream",
     "text": [
      "Acurácia teste RF: 0.7728813559322034\n"
     ]
    }
   ],
   "source": [
    "print(\"Acurácia teste RF:\", loaded_model.score(X_test, y_test))"
   ]
  },
  {
   "cell_type": "code",
   "execution_count": null,
   "id": "131e0e29-9740-41e4-ac44-0c70dbe2e966",
   "metadata": {},
   "outputs": [],
   "source": []
  }
 ],
 "metadata": {
  "kernelspec": {
   "display_name": "Python 3 (ipykernel)",
   "language": "python",
   "name": "python3"
  },
  "language_info": {
   "codemirror_mode": {
    "name": "ipython",
    "version": 3
   },
   "file_extension": ".py",
   "mimetype": "text/x-python",
   "name": "python",
   "nbconvert_exporter": "python",
   "pygments_lexer": "ipython3",
   "version": "3.10.4"
  }
 },
 "nbformat": 4,
 "nbformat_minor": 5
}
