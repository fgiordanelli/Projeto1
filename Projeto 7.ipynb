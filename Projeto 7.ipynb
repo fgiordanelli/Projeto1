{
 "cells": [
  {
   "cell_type": "markdown",
   "id": "bb8d5de9-e48e-4184-ba58-d2e94f517820",
   "metadata": {},
   "source": [
    "# Como funciona o NLP"
   ]
  },
  {
   "cell_type": "code",
   "execution_count": 27,
   "id": "05c71359-4e8d-4bd0-9aae-6950256e38c3",
   "metadata": {},
   "outputs": [],
   "source": [
    "import numpy as np\n",
    "import pandas as pd\n",
    "import matplotlib.pyplot as plt\n",
    "from sklearn.model_selection import train_test_split\n",
    "from sklearn.pipeline import *\n",
    "from sklearn.preprocessing import *\n",
    "from sklearn.linear_model import LogisticRegression\n",
    "from sklearn.tree import DecisionTreeClassifier\n",
    "from sklearn.neighbors import KNeighborsClassifier\n",
    "from sklearn.discriminant_analysis import LinearDiscriminantAnalysis\n",
    "from sklearn.ensemble import RandomForestClassifier\n",
    "from sklearn.naive_bayes import MultinomialNB\n",
    "from sklearn.svm import LinearSVC\n",
    "from sklearn.svm import SVC\n",
    "from sklearn.metrics import *\n",
    "from sklearn.impute import *\n",
    "from sklearn.base import *\n",
    "from sklearn.compose import *\n",
    "from plotnine import *\n",
    "import pickle\n",
    "from yellowbrick.model_selection import FeatureImportances\n",
    "from sklearn.feature_extraction.text import TfidfVectorizer"
   ]
  },
  {
   "cell_type": "code",
   "execution_count": 28,
   "id": "e7d28e78-b51e-4087-9bf6-9cb6195175ad",
   "metadata": {},
   "outputs": [],
   "source": [
    "sample_text = \"Gemini of Man review: Double Will Smith can't save hackneyed spy flick U.S.A\"\n",
    "from spacy.lang.en import English\n",
    "import spacy\n",
    "from sklearn.feature_extraction.text import CountVectorizer\n",
    "nlp = spacy.load('en_core_web_sm')\n",
    "#run NLP on input/doc\n",
    "doc = nlp(sample_text)"
   ]
  },
  {
   "cell_type": "markdown",
   "id": "6067c9ec-2a44-4a36-9190-68753eaf544d",
   "metadata": {},
   "source": [
    "## Tokenização \n",
    "<img src=\"https://miro.medium.com/max/1050/0*EKgminT7W-0R4Iae.png\" width=\"300\" height=\"100\"/>"
   ]
  },
  {
   "cell_type": "code",
   "execution_count": 29,
   "id": "bf9b0fbf-b766-4b49-8316-2fdd66008b02",
   "metadata": {},
   "outputs": [
    {
     "name": "stdout",
     "output_type": "stream",
     "text": [
      "Token Attributes: \n",
      " token.text\n",
      "Gemini\n",
      "of\n",
      "Man\n",
      "review\n",
      ":\n",
      "Double\n",
      "Will\n",
      "Smith\n",
      "ca\n",
      "n't\n",
      "save\n",
      "hackneyed\n",
      "spy\n",
      "flick\n",
      "U.S.A\n"
     ]
    }
   ],
   "source": [
    "print(\"Token Attributes: \\n\", \"token.text\")\n",
    "for token in doc:\n",
    "    # Print the text and the predicted part-of-speech tag\n",
    "    print(token.text)"
   ]
  },
  {
   "cell_type": "markdown",
   "id": "38884048-dd58-48f1-8c35-ca826a3c2d62",
   "metadata": {},
   "source": [
    "## Lemanização\n",
    "\n",
    "<img src=\"data:image/png;base64,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\" width=\"500\" height=\"150\"/>\n"
   ]
  },
  {
   "cell_type": "code",
   "execution_count": 30,
   "id": "a1e2a570-63b6-4777-b7fb-78ec632b2b13",
   "metadata": {},
   "outputs": [
    {
     "name": "stdout",
     "output_type": "stream",
     "text": [
      "Token Attributes: \n",
      " token.lemma\n",
      "Gemini\n",
      "of\n",
      "Man\n",
      "review\n",
      ":\n",
      "double\n",
      "Will\n",
      "Smith\n",
      "can\n",
      "not\n",
      "save\n",
      "hackneyed\n",
      "spy\n",
      "flick\n",
      "U.S.A\n"
     ]
    }
   ],
   "source": [
    "print(\"Token Attributes: \\n\", \"token.lemma\")\n",
    "for token in doc:\n",
    "    # Print the text and the predicted part-of-speech tag\n",
    "    print(token.lemma_)"
   ]
  },
  {
   "cell_type": "markdown",
   "id": "c74d302e-93b2-494b-80f1-2634b8e540f3",
   "metadata": {},
   "source": [
    "## Stop Words\n",
    "\n",
    "<img src=\"https://cdn.analyticsvidhya.com/wp-content/uploads/2019/07/Screenshot-from-2019-07-10-15-06-10.png\" width=\"400\" height=\"100\"/>\n"
   ]
  },
  {
   "cell_type": "code",
   "execution_count": 31,
   "id": "5114d949-bc04-420b-9d31-f534b36d16d1",
   "metadata": {},
   "outputs": [
    {
     "name": "stdout",
     "output_type": "stream",
     "text": [
      "{'any', 'various', 'really', 'than', 'everything', 'again', 'hereupon', 'perhaps', 'my', 'are', 'one', 'whenever', 'due', 'will', 'once', 'ca', 'this', 'about', 'who', 'might', 'get', '‘d', 'anything', 'it', 'move', 'whereby', 'toward', \"'d\", 'nor', 'only', 'else', 'himself', 'hence', 'mine', 'somewhere', 'so', 'across', 'sixty', 'already', 'around', 'none', 'since', '’d', 'done', 'out', 'within', 'their', 'among', 'over', 'nobody', 'put', 'thus', 'above', 'least', 'empty', 'front', 'namely', 'other', 'ten', 'less', 'without', 'anyone', '’ve', 'nevertheless', 'somehow', 'formerly', 'which', 'thereupon', 'until', 'own', 'now', 'something', 'or', 'here', 'except', 'upon', 'seeming', 'twenty', 'both', 'fifty', 'doing', 'made', 'top', 'few', 'sometimes', 'besides', 'four', 'them', 'such', 'last', 'seems', 'via', 'thru', 'never', 'still', 'show', 'noone', 'have', 'ever', 'some', 'her', 'latter', 'very', 'became', 'hereafter', 'most', 'whereas', 'unless', 'throughout', 'thereby', 'would', 'can', 'call', 'five', 'if', 'when', 'therein', 'but', 'therefore', 'beyond', 'see', \"n't\", 'serious', 'while', 'everywhere', 'another', 'two', 'themselves', 'him', 'name', 'from', 'using', 'nothing', 'whose', 'yourselves', 'down', 'sometime', \"'ve\", 'in', 'has', 'otherwise', 'afterwards', 'someone', 'anyway', 'say', 'anywhere', 'were', 'whereupon', 'meanwhile', 'onto', 'hereby', 'yet', 'had', 'cannot', 'former', 'am', 'regarding', 'they', 'these', '‘ve', 'you', 'no', 'thence', 'go', 'wherever', 'becoming', 'full', '‘m', 'several', 'on', 'off', 'during', 'give', 'every', 'alone', \"'ll\", 'used', \"'s\", 'nowhere', 'whether', 'herself', 'itself', 'n’t', 'not', 'is', 'of', 'though', 'do', 'same', 'per', 'ours', '‘ll', 'did', 'become', 'anyhow', 'rather', 'into', 'amount', 'herein', 'its', 'becomes', 'elsewhere', 'then', 'hers', 'six', 'moreover', 'first', 'well', 'nine', 'even', 'was', 'enough', 'through', 'the', 'whereafter', 'his', 'against', 'as', 'whoever', 'to', 'behind', 'all', 'beside', 'what', 'just', 'should', '’s', 'along', 'next', 'does', 'part', \"'m\", 'others', 'amongst', 'seemed', 'too', 'he', 'however', 'third', 'may', 'by', 'a', 'we', 'us', 'those', 'back', 'below', 'because', 'hundred', 'yourself', 'everyone', 'often', 'more', 'together', 'either', 'our', 'towards', 'an', 'how', 'many', 'n‘t', 'after', 'whom', 'before', 'being', 'myself', 'under', 'could', 'eight', 'where', 'seem', 'fifteen', 'been', 'indeed', 'there', 'neither', '’ll', 'whence', 'also', 'whole', 'be', 'whatever', 'forty', 'she', 'much', 'although', 'at', 'i', 'for', 'further', 'take', 'must', 'yours', '‘re', '’re', '’m', 'always', 'eleven', 'quite', 'me', 'side', 'ourselves', 'twelve', 'three', 'thereafter', 'make', 'beforehand', 'please', 'each', 'whither', 'bottom', 'with', 're', 'almost', '‘s', 'up', 'and', 'your', 'between', 'that', 'keep', \"'re\", 'why', 'mostly', 'wherein', 'latterly'}\n"
     ]
    }
   ],
   "source": [
    "print(nlp.Defaults.stop_words)"
   ]
  },
  {
   "cell_type": "code",
   "execution_count": 32,
   "id": "945adab9-0b83-48e9-84ee-87079ee7eb7a",
   "metadata": {},
   "outputs": [],
   "source": [
    "df = pd.read_csv('dataset7.csv', encoding = 'latin1')"
   ]
  },
  {
   "cell_type": "code",
   "execution_count": 33,
   "id": "63cf190f-8bd6-4340-a3ba-7e9e81429347",
   "metadata": {},
   "outputs": [
    {
     "data": {
      "text/plain": [
       "0                Neutral\n",
       "1               Positive\n",
       "4     Extremely Negative\n",
       "9               Negative\n",
       "11    Extremely Positive\n",
       "Name: Sentiment, dtype: object"
      ]
     },
     "execution_count": 33,
     "metadata": {},
     "output_type": "execute_result"
    }
   ],
   "source": [
    "df['Sentiment'].drop_duplicates()"
   ]
  },
  {
   "cell_type": "code",
   "execution_count": 34,
   "id": "01086b9c-41ef-4567-8f0c-b74e552c6985",
   "metadata": {},
   "outputs": [],
   "source": [
    "df.query('Sentiment != \"Extremely Negative\"',inplace = True)"
   ]
  },
  {
   "cell_type": "code",
   "execution_count": 35,
   "id": "1b68a9c6-837b-4efa-88d3-118edbb5f2f5",
   "metadata": {},
   "outputs": [],
   "source": [
    "df.query('Sentiment != \"Extremely Positive\"',inplace = True)"
   ]
  },
  {
   "cell_type": "markdown",
   "id": "77716a07-8cc3-499d-9018-52d75c5a0ec6",
   "metadata": {},
   "source": [
    "## Ver o balanceamento da base de dados\n",
    "<img src=\"https://github.com/fgiordanelli/Projeto1/blob/main/imagens/img2.png?raw=true\" width=\"500\" height=\"100\"/>"
   ]
  },
  {
   "cell_type": "code",
   "execution_count": 36,
   "id": "2ac12e23-4dd4-4af8-9916-963ccf1cfd77",
   "metadata": {},
   "outputs": [],
   "source": [
    "total = df.groupby('Sentiment').agg(n = ('Sentiment','count')).reset_index()\n",
    "total['perc'] = 100*total['n']/total['n'].sum()"
   ]
  },
  {
   "cell_type": "code",
   "execution_count": 37,
   "id": "32dd1f36-de22-4914-8222-5a58835b2f35",
   "metadata": {},
   "outputs": [
    {
     "data": {
      "text/html": [
       "<div>\n",
       "<style scoped>\n",
       "    .dataframe tbody tr th:only-of-type {\n",
       "        vertical-align: middle;\n",
       "    }\n",
       "\n",
       "    .dataframe tbody tr th {\n",
       "        vertical-align: top;\n",
       "    }\n",
       "\n",
       "    .dataframe thead th {\n",
       "        text-align: right;\n",
       "    }\n",
       "</style>\n",
       "<table border=\"1\" class=\"dataframe\">\n",
       "  <thead>\n",
       "    <tr style=\"text-align: right;\">\n",
       "      <th></th>\n",
       "      <th>Sentiment</th>\n",
       "      <th>n</th>\n",
       "      <th>perc</th>\n",
       "    </tr>\n",
       "  </thead>\n",
       "  <tbody>\n",
       "    <tr>\n",
       "      <th>0</th>\n",
       "      <td>Negative</td>\n",
       "      <td>9917</td>\n",
       "      <td>34.135344</td>\n",
       "    </tr>\n",
       "    <tr>\n",
       "      <th>1</th>\n",
       "      <td>Neutral</td>\n",
       "      <td>7713</td>\n",
       "      <td>26.548947</td>\n",
       "    </tr>\n",
       "    <tr>\n",
       "      <th>2</th>\n",
       "      <td>Positive</td>\n",
       "      <td>11422</td>\n",
       "      <td>39.315710</td>\n",
       "    </tr>\n",
       "  </tbody>\n",
       "</table>\n",
       "</div>"
      ],
      "text/plain": [
       "  Sentiment      n       perc\n",
       "0  Negative   9917  34.135344\n",
       "1   Neutral   7713  26.548947\n",
       "2  Positive  11422  39.315710"
      ]
     },
     "execution_count": 37,
     "metadata": {},
     "output_type": "execute_result"
    }
   ],
   "source": [
    "total"
   ]
  },
  {
   "cell_type": "markdown",
   "id": "fa863aa8-f305-4b34-afa8-4edfdf95812e",
   "metadata": {},
   "source": [
    "## Separar em target e feature\n",
    "\n",
    "<img src=\"https://github.com/fgiordanelli/Projeto1/blob/main/imagens/img12.png?raw=true\" width=\"300\" height=\"100\"/>"
   ]
  },
  {
   "cell_type": "code",
   "execution_count": 38,
   "id": "6f42cf9d-8130-4c0c-80a9-c5939423df18",
   "metadata": {},
   "outputs": [],
   "source": [
    "X = df['OriginalTweet']\n",
    "y = df['Sentiment']"
   ]
  },
  {
   "cell_type": "code",
   "execution_count": 39,
   "id": "a0d82a3d-a7c2-4164-9d44-a1ea8276e2af",
   "metadata": {},
   "outputs": [],
   "source": [
    "X_train, X_test, y_train, y_test = train_test_split(X, y, test_size=0.33, random_state=42)"
   ]
  },
  {
   "cell_type": "code",
   "execution_count": 47,
   "id": "8ddd272e-896e-4575-9d16-9afe7e8e580d",
   "metadata": {},
   "outputs": [
    {
     "data": {
      "text/plain": [
       "<1x20 sparse matrix of type '<class 'numpy.float64'>'\n",
       "\twith 20 stored elements in Compressed Sparse Row format>"
      ]
     },
     "execution_count": 47,
     "metadata": {},
     "output_type": "execute_result"
    }
   ],
   "source": [
    "# EXEMPLO:\n",
    "text = \"\"\"Yesterday I went fishing. I don't fish that often, \n",
    "so I didn't catch any fish. I was told I'd enjoy myself, \n",
    "but it didn't really seem that fun.\"\"\"\n",
    "\n",
    "vectorizer = TfidfVectorizer()\n",
    "\n",
    "matrix = vectorizer.fit_transform([text])\n",
    "matrix"
   ]
  },
  {
   "cell_type": "code",
   "execution_count": 42,
   "id": "2c7ba588-793c-4ac7-a5f9-3d7aa3b9ee28",
   "metadata": {},
   "outputs": [
    {
     "data": {
      "text/html": [
       "<div>\n",
       "<style scoped>\n",
       "    .dataframe tbody tr th:only-of-type {\n",
       "        vertical-align: middle;\n",
       "    }\n",
       "\n",
       "    .dataframe tbody tr th {\n",
       "        vertical-align: top;\n",
       "    }\n",
       "\n",
       "    .dataframe thead th {\n",
       "        text-align: right;\n",
       "    }\n",
       "</style>\n",
       "<table border=\"1\" class=\"dataframe\">\n",
       "  <thead>\n",
       "    <tr style=\"text-align: right;\">\n",
       "      <th></th>\n",
       "      <th>any</th>\n",
       "      <th>but</th>\n",
       "      <th>catch</th>\n",
       "      <th>didn</th>\n",
       "      <th>don</th>\n",
       "      <th>enjoy</th>\n",
       "      <th>fish</th>\n",
       "      <th>fishing</th>\n",
       "      <th>fun</th>\n",
       "      <th>it</th>\n",
       "      <th>myself</th>\n",
       "      <th>often</th>\n",
       "      <th>really</th>\n",
       "      <th>seem</th>\n",
       "      <th>so</th>\n",
       "      <th>that</th>\n",
       "      <th>told</th>\n",
       "      <th>was</th>\n",
       "      <th>went</th>\n",
       "      <th>yesterday</th>\n",
       "    </tr>\n",
       "  </thead>\n",
       "  <tbody>\n",
       "    <tr>\n",
       "      <th>0</th>\n",
       "      <td>0.185695</td>\n",
       "      <td>0.185695</td>\n",
       "      <td>0.185695</td>\n",
       "      <td>0.371391</td>\n",
       "      <td>0.185695</td>\n",
       "      <td>0.185695</td>\n",
       "      <td>0.371391</td>\n",
       "      <td>0.185695</td>\n",
       "      <td>0.185695</td>\n",
       "      <td>0.185695</td>\n",
       "      <td>0.185695</td>\n",
       "      <td>0.185695</td>\n",
       "      <td>0.185695</td>\n",
       "      <td>0.185695</td>\n",
       "      <td>0.185695</td>\n",
       "      <td>0.371391</td>\n",
       "      <td>0.185695</td>\n",
       "      <td>0.185695</td>\n",
       "      <td>0.185695</td>\n",
       "      <td>0.185695</td>\n",
       "    </tr>\n",
       "  </tbody>\n",
       "</table>\n",
       "</div>"
      ],
      "text/plain": [
       "        any       but     catch      didn       don     enjoy      fish  \\\n",
       "0  0.185695  0.185695  0.185695  0.371391  0.185695  0.185695  0.371391   \n",
       "\n",
       "    fishing       fun        it    myself     often    really      seem  \\\n",
       "0  0.185695  0.185695  0.185695  0.185695  0.185695  0.185695  0.185695   \n",
       "\n",
       "         so      that      told       was      went  yesterday  \n",
       "0  0.185695  0.371391  0.185695  0.185695  0.185695   0.185695  "
      ]
     },
     "execution_count": 42,
     "metadata": {},
     "output_type": "execute_result"
    }
   ],
   "source": [
    "counts = pd.DataFrame(matrix.toarray(),\n",
    "                      columns=vectorizer.get_feature_names_out())\n",
    "counts"
   ]
  },
  {
   "cell_type": "code",
   "execution_count": 43,
   "id": "e51a28c6-1fb2-42a1-a735-649bc4beba10",
   "metadata": {},
   "outputs": [],
   "source": [
    "preprocessor = make_pipeline(CountVectorizer(),\n",
    "                             LinearSVC(dual=False))"
   ]
  },
  {
   "cell_type": "code",
   "execution_count": 44,
   "id": "bd7b0769-eb18-44f4-93cd-16db4b1d9386",
   "metadata": {},
   "outputs": [
    {
     "data": {
      "text/plain": [
       "Pipeline(steps=[('countvectorizer', CountVectorizer()),\n",
       "                ('linearsvc', LinearSVC(dual=False))])"
      ]
     },
     "execution_count": 44,
     "metadata": {},
     "output_type": "execute_result"
    }
   ],
   "source": [
    "preprocessor.fit(X_train,y_train)"
   ]
  },
  {
   "cell_type": "code",
   "execution_count": 45,
   "id": "49ba2881-9642-48bf-9ead-51b173a0e41a",
   "metadata": {},
   "outputs": [
    {
     "data": {
      "text/plain": [
       "0.7249687108886108"
      ]
     },
     "execution_count": 45,
     "metadata": {},
     "output_type": "execute_result"
    }
   ],
   "source": [
    "accuracy_score(y_test,preprocessor.predict(X_test))"
   ]
  },
  {
   "cell_type": "code",
   "execution_count": null,
   "id": "20141674-0910-49e9-8ebe-85cf235ca96f",
   "metadata": {},
   "outputs": [],
   "source": []
  }
 ],
 "metadata": {
  "kernelspec": {
   "display_name": "Python 3 (ipykernel)",
   "language": "python",
   "name": "python3"
  },
  "language_info": {
   "codemirror_mode": {
    "name": "ipython",
    "version": 3
   },
   "file_extension": ".py",
   "mimetype": "text/x-python",
   "name": "python",
   "nbconvert_exporter": "python",
   "pygments_lexer": "ipython3",
   "version": "3.10.4"
  }
 },
 "nbformat": 4,
 "nbformat_minor": 5
}
