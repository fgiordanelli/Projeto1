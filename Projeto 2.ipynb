{
 "cells": [
  {
   "cell_type": "markdown",
   "id": "7c62a857-1051-4521-a218-85154c7401f7",
   "metadata": {},
   "source": [
    "# Projeto 2 - O paciente tem diabete?\n",
    "\n",
    "<img src=\"https://static.tuasaude.com/media/article/dr/nj/diabetes_52276_l.jpg\" width=\"400\" height=\"100\"/>\n",
    "\n",
    "O objetivo do conjunto de dados é prever diagnosticamente se um paciente tem diabetes ou não, com base em certas medidas diagnósticas incluídas no conjunto de dados"
   ]
  },
  {
   "cell_type": "code",
   "execution_count": 26,
   "id": "a2814329-fd97-4fcd-afcc-76be102aff4c",
   "metadata": {},
   "outputs": [],
   "source": [
    "import numpy as np\n",
    "import pandas as pd\n",
    "import matplotlib.pyplot as plt\n",
    "from sklearn.model_selection import train_test_split\n",
    "from sklearn.pipeline import *\n",
    "from sklearn.preprocessing import *\n",
    "from sklearn.linear_model import LogisticRegression\n",
    "from sklearn.tree import DecisionTreeClassifier\n",
    "from sklearn.neighbors import KNeighborsClassifier\n",
    "from sklearn.discriminant_analysis import LinearDiscriminantAnalysis\n",
    "from sklearn.ensemble import RandomForestClassifier\n",
    "from sklearn.svm import SVC\n",
    "from sklearn.metrics import *\n",
    "from sklearn.impute import *\n",
    "from sklearn.base import *\n",
    "from sklearn.compose import *\n",
    "from plotnine import *\n",
    "import pickle\n",
    "from yellowbrick.model_selection import FeatureImportances"
   ]
  },
  {
   "cell_type": "code",
   "execution_count": 27,
   "id": "0af268e5-1322-4053-b4db-72e0f1737c8e",
   "metadata": {},
   "outputs": [
    {
     "data": {
      "text/html": [
       "<div>\n",
       "<style scoped>\n",
       "    .dataframe tbody tr th:only-of-type {\n",
       "        vertical-align: middle;\n",
       "    }\n",
       "\n",
       "    .dataframe tbody tr th {\n",
       "        vertical-align: top;\n",
       "    }\n",
       "\n",
       "    .dataframe thead th {\n",
       "        text-align: right;\n",
       "    }\n",
       "</style>\n",
       "<table border=\"1\" class=\"dataframe\">\n",
       "  <thead>\n",
       "    <tr style=\"text-align: right;\">\n",
       "      <th></th>\n",
       "      <th>Pregnancies</th>\n",
       "      <th>Glucose</th>\n",
       "      <th>BloodPressure</th>\n",
       "      <th>SkinThickness</th>\n",
       "      <th>Insulin</th>\n",
       "      <th>BMI</th>\n",
       "      <th>DiabetesPedigreeFunction</th>\n",
       "      <th>Age</th>\n",
       "      <th>Outcome</th>\n",
       "    </tr>\n",
       "  </thead>\n",
       "  <tbody>\n",
       "    <tr>\n",
       "      <th>0</th>\n",
       "      <td>6</td>\n",
       "      <td>148</td>\n",
       "      <td>72</td>\n",
       "      <td>35</td>\n",
       "      <td>0</td>\n",
       "      <td>33.6</td>\n",
       "      <td>0.627</td>\n",
       "      <td>50</td>\n",
       "      <td>1</td>\n",
       "    </tr>\n",
       "    <tr>\n",
       "      <th>1</th>\n",
       "      <td>1</td>\n",
       "      <td>85</td>\n",
       "      <td>66</td>\n",
       "      <td>29</td>\n",
       "      <td>0</td>\n",
       "      <td>26.6</td>\n",
       "      <td>0.351</td>\n",
       "      <td>31</td>\n",
       "      <td>0</td>\n",
       "    </tr>\n",
       "    <tr>\n",
       "      <th>2</th>\n",
       "      <td>8</td>\n",
       "      <td>183</td>\n",
       "      <td>64</td>\n",
       "      <td>0</td>\n",
       "      <td>0</td>\n",
       "      <td>23.3</td>\n",
       "      <td>0.672</td>\n",
       "      <td>32</td>\n",
       "      <td>1</td>\n",
       "    </tr>\n",
       "    <tr>\n",
       "      <th>3</th>\n",
       "      <td>1</td>\n",
       "      <td>89</td>\n",
       "      <td>66</td>\n",
       "      <td>23</td>\n",
       "      <td>94</td>\n",
       "      <td>28.1</td>\n",
       "      <td>0.167</td>\n",
       "      <td>21</td>\n",
       "      <td>0</td>\n",
       "    </tr>\n",
       "    <tr>\n",
       "      <th>4</th>\n",
       "      <td>0</td>\n",
       "      <td>137</td>\n",
       "      <td>40</td>\n",
       "      <td>35</td>\n",
       "      <td>168</td>\n",
       "      <td>43.1</td>\n",
       "      <td>2.288</td>\n",
       "      <td>33</td>\n",
       "      <td>1</td>\n",
       "    </tr>\n",
       "    <tr>\n",
       "      <th>...</th>\n",
       "      <td>...</td>\n",
       "      <td>...</td>\n",
       "      <td>...</td>\n",
       "      <td>...</td>\n",
       "      <td>...</td>\n",
       "      <td>...</td>\n",
       "      <td>...</td>\n",
       "      <td>...</td>\n",
       "      <td>...</td>\n",
       "    </tr>\n",
       "    <tr>\n",
       "      <th>763</th>\n",
       "      <td>10</td>\n",
       "      <td>101</td>\n",
       "      <td>76</td>\n",
       "      <td>48</td>\n",
       "      <td>180</td>\n",
       "      <td>32.9</td>\n",
       "      <td>0.171</td>\n",
       "      <td>63</td>\n",
       "      <td>0</td>\n",
       "    </tr>\n",
       "    <tr>\n",
       "      <th>764</th>\n",
       "      <td>2</td>\n",
       "      <td>122</td>\n",
       "      <td>70</td>\n",
       "      <td>27</td>\n",
       "      <td>0</td>\n",
       "      <td>36.8</td>\n",
       "      <td>0.340</td>\n",
       "      <td>27</td>\n",
       "      <td>0</td>\n",
       "    </tr>\n",
       "    <tr>\n",
       "      <th>765</th>\n",
       "      <td>5</td>\n",
       "      <td>121</td>\n",
       "      <td>72</td>\n",
       "      <td>23</td>\n",
       "      <td>112</td>\n",
       "      <td>26.2</td>\n",
       "      <td>0.245</td>\n",
       "      <td>30</td>\n",
       "      <td>0</td>\n",
       "    </tr>\n",
       "    <tr>\n",
       "      <th>766</th>\n",
       "      <td>1</td>\n",
       "      <td>126</td>\n",
       "      <td>60</td>\n",
       "      <td>0</td>\n",
       "      <td>0</td>\n",
       "      <td>30.1</td>\n",
       "      <td>0.349</td>\n",
       "      <td>47</td>\n",
       "      <td>1</td>\n",
       "    </tr>\n",
       "    <tr>\n",
       "      <th>767</th>\n",
       "      <td>1</td>\n",
       "      <td>93</td>\n",
       "      <td>70</td>\n",
       "      <td>31</td>\n",
       "      <td>0</td>\n",
       "      <td>30.4</td>\n",
       "      <td>0.315</td>\n",
       "      <td>23</td>\n",
       "      <td>0</td>\n",
       "    </tr>\n",
       "  </tbody>\n",
       "</table>\n",
       "<p>768 rows × 9 columns</p>\n",
       "</div>"
      ],
      "text/plain": [
       "     Pregnancies  Glucose  BloodPressure  SkinThickness  Insulin   BMI  \\\n",
       "0              6      148             72             35        0  33.6   \n",
       "1              1       85             66             29        0  26.6   \n",
       "2              8      183             64              0        0  23.3   \n",
       "3              1       89             66             23       94  28.1   \n",
       "4              0      137             40             35      168  43.1   \n",
       "..           ...      ...            ...            ...      ...   ...   \n",
       "763           10      101             76             48      180  32.9   \n",
       "764            2      122             70             27        0  36.8   \n",
       "765            5      121             72             23      112  26.2   \n",
       "766            1      126             60              0        0  30.1   \n",
       "767            1       93             70             31        0  30.4   \n",
       "\n",
       "     DiabetesPedigreeFunction  Age  Outcome  \n",
       "0                       0.627   50        1  \n",
       "1                       0.351   31        0  \n",
       "2                       0.672   32        1  \n",
       "3                       0.167   21        0  \n",
       "4                       2.288   33        1  \n",
       "..                        ...  ...      ...  \n",
       "763                     0.171   63        0  \n",
       "764                     0.340   27        0  \n",
       "765                     0.245   30        0  \n",
       "766                     0.349   47        1  \n",
       "767                     0.315   23        0  \n",
       "\n",
       "[768 rows x 9 columns]"
      ]
     },
     "execution_count": 27,
     "metadata": {},
     "output_type": "execute_result"
    }
   ],
   "source": [
    "df = pd.read_csv(\"https://raw.githubusercontent.com/fgiordanelli/Projeto1/main/Datasets/dataset3.csv\")\n",
    "df"
   ]
  },
  {
   "cell_type": "markdown",
   "id": "1c5c5e68",
   "metadata": {},
   "source": [
    "## Ver o balanceamento da base de dados\n",
    "<img src=\"https://github.com/fgiordanelli/Projeto1/blob/main/imagens/img2.png?raw=true\" width=\"500\" height=\"100\"/>"
   ]
  },
  {
   "cell_type": "code",
   "execution_count": 28,
   "id": "0efed22c",
   "metadata": {},
   "outputs": [],
   "source": [
    "total = df.groupby('Outcome').agg(n = ('Outcome','count')).reset_index()\n",
    "total['perc'] = 100*total['n']/total['n'].sum()"
   ]
  },
  {
   "cell_type": "code",
   "execution_count": 29,
   "id": "90bec2eb",
   "metadata": {},
   "outputs": [
    {
     "data": {
      "text/html": [
       "<div>\n",
       "<style scoped>\n",
       "    .dataframe tbody tr th:only-of-type {\n",
       "        vertical-align: middle;\n",
       "    }\n",
       "\n",
       "    .dataframe tbody tr th {\n",
       "        vertical-align: top;\n",
       "    }\n",
       "\n",
       "    .dataframe thead th {\n",
       "        text-align: right;\n",
       "    }\n",
       "</style>\n",
       "<table border=\"1\" class=\"dataframe\">\n",
       "  <thead>\n",
       "    <tr style=\"text-align: right;\">\n",
       "      <th></th>\n",
       "      <th>Outcome</th>\n",
       "      <th>n</th>\n",
       "      <th>perc</th>\n",
       "    </tr>\n",
       "  </thead>\n",
       "  <tbody>\n",
       "    <tr>\n",
       "      <th>0</th>\n",
       "      <td>0</td>\n",
       "      <td>500</td>\n",
       "      <td>65.104167</td>\n",
       "    </tr>\n",
       "    <tr>\n",
       "      <th>1</th>\n",
       "      <td>1</td>\n",
       "      <td>268</td>\n",
       "      <td>34.895833</td>\n",
       "    </tr>\n",
       "  </tbody>\n",
       "</table>\n",
       "</div>"
      ],
      "text/plain": [
       "   Outcome    n       perc\n",
       "0        0  500  65.104167\n",
       "1        1  268  34.895833"
      ]
     },
     "execution_count": 29,
     "metadata": {},
     "output_type": "execute_result"
    }
   ],
   "source": [
    "total"
   ]
  },
  {
   "cell_type": "markdown",
   "id": "4ad1bb16",
   "metadata": {},
   "source": [
    "## Ver se tem valores fora do padrão\n",
    "<img src=\"https://github.com/fgiordanelli/Projeto1/blob/main/imagens/img3.png?raw=true\" width=\"300\" height=\"100\"/>"
   ]
  },
  {
   "cell_type": "markdown",
   "id": "3492c2dd-21c2-462c-9d88-7a531dc7aeae",
   "metadata": {},
   "source": [
    "## Separar em target e feature\n",
    "\n",
    "<img src=\"https://github.com/fgiordanelli/Projeto1/blob/main/imagens/img12.png?raw=true\" width=\"300\" height=\"100\"/>"
   ]
  },
  {
   "cell_type": "code",
   "execution_count": 30,
   "id": "bf7b57d3-6c83-4671-b863-e134ccdc44a0",
   "metadata": {},
   "outputs": [],
   "source": [
    "X = df.drop(columns = ['Outcome'])\n",
    "y = df['Outcome']"
   ]
  },
  {
   "cell_type": "markdown",
   "id": "a688a807-62a9-499d-9bfe-b2fbd881b459",
   "metadata": {},
   "source": [
    "## Separar em treino e teste e a variável target das features\n",
    "<img src=\"https://i.ibb.co/3csjYT2/image.png\" width=\"400\" height=\"100\"/>"
   ]
  },
  {
   "cell_type": "code",
   "execution_count": 31,
   "id": "b4f0d746",
   "metadata": {},
   "outputs": [],
   "source": [
    "X_train, X_test, y_train, y_test = train_test_split(X, y, test_size=0.33, random_state=42)"
   ]
  },
  {
   "cell_type": "markdown",
   "id": "e682bdc3",
   "metadata": {},
   "source": [
    "## Tratar Valor Vazio\n",
    "\n",
    "<img src=\"https://github.com/fgiordanelli/Projeto1/blob/main/imagens/img6.png?raw=true\" width=\"400\" height=\"150\"/>"
   ]
  },
  {
   "cell_type": "markdown",
   "id": "bc2800b4",
   "metadata": {},
   "source": [
    "## Tratar variável numéricas (se tiverem medidas diferentes)\n",
    "\n",
    "<img src=\"https://github.com/fgiordanelli/Projeto1/blob/main/imagens/img5.png?raw=true\" width=\"350\" height=\"100\"/>"
   ]
  },
  {
   "cell_type": "code",
   "execution_count": 32,
   "id": "2d7d9a2f-a2a4-4b29-84ca-dbd6dc05822d",
   "metadata": {},
   "outputs": [],
   "source": [
    "numeric_transformer = make_pipeline(SimpleImputer(strategy='median', missing_values=np.nan),\n",
    "                                    MinMaxScaler())"
   ]
  },
  {
   "cell_type": "markdown",
   "id": "983f6b2c-3a93-4a07-b260-69c8b32654aa",
   "metadata": {},
   "source": [
    "## Tratar variáveis categóricas\n",
    "\n",
    "<img src=\"https://github.com/fgiordanelli/Projeto1/blob/main/imagens/img7.png?raw=true\" width=\"600\" height=\"100\"/>"
   ]
  },
  {
   "cell_type": "code",
   "execution_count": 33,
   "id": "47837ec4-103e-4d29-93b9-327866a30a5e",
   "metadata": {},
   "outputs": [],
   "source": [
    "preprocessor = make_column_transformer(\n",
    "        (numeric_transformer, ['Pregnancies',\n",
    "                               'Glucose',\n",
    "                               'BloodPressure',\n",
    "                               'SkinThickness',\n",
    "                               'Insulin',\n",
    "                               'BMI',\n",
    "                               'DiabetesPedigreeFunction',\n",
    "                               'Age']))"
   ]
  },
  {
   "cell_type": "code",
   "execution_count": 34,
   "id": "519fea37",
   "metadata": {},
   "outputs": [
    {
     "data": {
      "text/html": [
       "<div>\n",
       "<style scoped>\n",
       "    .dataframe tbody tr th:only-of-type {\n",
       "        vertical-align: middle;\n",
       "    }\n",
       "\n",
       "    .dataframe tbody tr th {\n",
       "        vertical-align: top;\n",
       "    }\n",
       "\n",
       "    .dataframe thead th {\n",
       "        text-align: right;\n",
       "    }\n",
       "</style>\n",
       "<table border=\"1\" class=\"dataframe\">\n",
       "  <thead>\n",
       "    <tr style=\"text-align: right;\">\n",
       "      <th></th>\n",
       "      <th>0</th>\n",
       "      <th>1</th>\n",
       "      <th>2</th>\n",
       "      <th>3</th>\n",
       "      <th>4</th>\n",
       "      <th>5</th>\n",
       "      <th>6</th>\n",
       "      <th>7</th>\n",
       "    </tr>\n",
       "  </thead>\n",
       "  <tbody>\n",
       "    <tr>\n",
       "      <th>0</th>\n",
       "      <td>0.352941</td>\n",
       "      <td>0.743719</td>\n",
       "      <td>0.590164</td>\n",
       "      <td>0.353535</td>\n",
       "      <td>0.000000</td>\n",
       "      <td>0.500745</td>\n",
       "      <td>0.234415</td>\n",
       "      <td>0.483333</td>\n",
       "    </tr>\n",
       "    <tr>\n",
       "      <th>1</th>\n",
       "      <td>0.058824</td>\n",
       "      <td>0.427136</td>\n",
       "      <td>0.540984</td>\n",
       "      <td>0.292929</td>\n",
       "      <td>0.000000</td>\n",
       "      <td>0.396423</td>\n",
       "      <td>0.116567</td>\n",
       "      <td>0.166667</td>\n",
       "    </tr>\n",
       "    <tr>\n",
       "      <th>2</th>\n",
       "      <td>0.470588</td>\n",
       "      <td>0.919598</td>\n",
       "      <td>0.524590</td>\n",
       "      <td>0.000000</td>\n",
       "      <td>0.000000</td>\n",
       "      <td>0.347243</td>\n",
       "      <td>0.253629</td>\n",
       "      <td>0.183333</td>\n",
       "    </tr>\n",
       "    <tr>\n",
       "      <th>3</th>\n",
       "      <td>0.058824</td>\n",
       "      <td>0.447236</td>\n",
       "      <td>0.540984</td>\n",
       "      <td>0.232323</td>\n",
       "      <td>0.111111</td>\n",
       "      <td>0.418778</td>\n",
       "      <td>0.038002</td>\n",
       "      <td>0.000000</td>\n",
       "    </tr>\n",
       "    <tr>\n",
       "      <th>4</th>\n",
       "      <td>0.000000</td>\n",
       "      <td>0.688442</td>\n",
       "      <td>0.327869</td>\n",
       "      <td>0.353535</td>\n",
       "      <td>0.198582</td>\n",
       "      <td>0.642325</td>\n",
       "      <td>0.943638</td>\n",
       "      <td>0.200000</td>\n",
       "    </tr>\n",
       "    <tr>\n",
       "      <th>...</th>\n",
       "      <td>...</td>\n",
       "      <td>...</td>\n",
       "      <td>...</td>\n",
       "      <td>...</td>\n",
       "      <td>...</td>\n",
       "      <td>...</td>\n",
       "      <td>...</td>\n",
       "      <td>...</td>\n",
       "    </tr>\n",
       "    <tr>\n",
       "      <th>763</th>\n",
       "      <td>0.588235</td>\n",
       "      <td>0.507538</td>\n",
       "      <td>0.622951</td>\n",
       "      <td>0.484848</td>\n",
       "      <td>0.212766</td>\n",
       "      <td>0.490313</td>\n",
       "      <td>0.039710</td>\n",
       "      <td>0.700000</td>\n",
       "    </tr>\n",
       "    <tr>\n",
       "      <th>764</th>\n",
       "      <td>0.117647</td>\n",
       "      <td>0.613065</td>\n",
       "      <td>0.573770</td>\n",
       "      <td>0.272727</td>\n",
       "      <td>0.000000</td>\n",
       "      <td>0.548435</td>\n",
       "      <td>0.111870</td>\n",
       "      <td>0.100000</td>\n",
       "    </tr>\n",
       "    <tr>\n",
       "      <th>765</th>\n",
       "      <td>0.294118</td>\n",
       "      <td>0.608040</td>\n",
       "      <td>0.590164</td>\n",
       "      <td>0.232323</td>\n",
       "      <td>0.132388</td>\n",
       "      <td>0.390462</td>\n",
       "      <td>0.071307</td>\n",
       "      <td>0.150000</td>\n",
       "    </tr>\n",
       "    <tr>\n",
       "      <th>766</th>\n",
       "      <td>0.058824</td>\n",
       "      <td>0.633166</td>\n",
       "      <td>0.491803</td>\n",
       "      <td>0.000000</td>\n",
       "      <td>0.000000</td>\n",
       "      <td>0.448584</td>\n",
       "      <td>0.115713</td>\n",
       "      <td>0.433333</td>\n",
       "    </tr>\n",
       "    <tr>\n",
       "      <th>767</th>\n",
       "      <td>0.058824</td>\n",
       "      <td>0.467337</td>\n",
       "      <td>0.573770</td>\n",
       "      <td>0.313131</td>\n",
       "      <td>0.000000</td>\n",
       "      <td>0.453055</td>\n",
       "      <td>0.101196</td>\n",
       "      <td>0.033333</td>\n",
       "    </tr>\n",
       "  </tbody>\n",
       "</table>\n",
       "<p>768 rows × 8 columns</p>\n",
       "</div>"
      ],
      "text/plain": [
       "            0         1         2         3         4         5         6  \\\n",
       "0    0.352941  0.743719  0.590164  0.353535  0.000000  0.500745  0.234415   \n",
       "1    0.058824  0.427136  0.540984  0.292929  0.000000  0.396423  0.116567   \n",
       "2    0.470588  0.919598  0.524590  0.000000  0.000000  0.347243  0.253629   \n",
       "3    0.058824  0.447236  0.540984  0.232323  0.111111  0.418778  0.038002   \n",
       "4    0.000000  0.688442  0.327869  0.353535  0.198582  0.642325  0.943638   \n",
       "..        ...       ...       ...       ...       ...       ...       ...   \n",
       "763  0.588235  0.507538  0.622951  0.484848  0.212766  0.490313  0.039710   \n",
       "764  0.117647  0.613065  0.573770  0.272727  0.000000  0.548435  0.111870   \n",
       "765  0.294118  0.608040  0.590164  0.232323  0.132388  0.390462  0.071307   \n",
       "766  0.058824  0.633166  0.491803  0.000000  0.000000  0.448584  0.115713   \n",
       "767  0.058824  0.467337  0.573770  0.313131  0.000000  0.453055  0.101196   \n",
       "\n",
       "            7  \n",
       "0    0.483333  \n",
       "1    0.166667  \n",
       "2    0.183333  \n",
       "3    0.000000  \n",
       "4    0.200000  \n",
       "..        ...  \n",
       "763  0.700000  \n",
       "764  0.100000  \n",
       "765  0.150000  \n",
       "766  0.433333  \n",
       "767  0.033333  \n",
       "\n",
       "[768 rows x 8 columns]"
      ]
     },
     "execution_count": 34,
     "metadata": {},
     "output_type": "execute_result"
    }
   ],
   "source": [
    "pd.DataFrame(preprocessor.fit_transform(X))"
   ]
  },
  {
   "cell_type": "markdown",
   "id": "bd45da6e",
   "metadata": {},
   "source": [
    "## Treinar o modelo com os principais algorítimos supervisionados de Classificação\n",
    "<img src=\"https://github.com/fgiordanelli/Projeto1/blob/main/imagens/img8.png?raw=true\" width=\"250\" height=\"80\"/>"
   ]
  },
  {
   "cell_type": "code",
   "execution_count": 35,
   "id": "f96c31dc",
   "metadata": {},
   "outputs": [],
   "source": [
    "LR = make_pipeline(preprocessor,LogisticRegression(solver='lbfgs', max_iter=1000)).fit(X_train, y_train)\n",
    "LDA = make_pipeline(preprocessor,LinearDiscriminantAnalysis()).fit(X_train, y_train)\n",
    "DT = make_pipeline(preprocessor,DecisionTreeClassifier()).fit(X_train, y_train)\n",
    "KN = make_pipeline(preprocessor,KNeighborsClassifier()).fit(X_train, y_train)\n",
    "SVM = make_pipeline(preprocessor,SVC(probability=True)).fit(X_train,y_train) \n",
    "RF = make_pipeline(preprocessor,RandomForestClassifier()).fit(X_train,y_train) "
   ]
  },
  {
   "cell_type": "markdown",
   "id": "4e21e082",
   "metadata": {},
   "source": [
    "## Acurácia do Treino"
   ]
  },
  {
   "cell_type": "code",
   "execution_count": 36,
   "id": "7c6bfc28-9d2e-4c88-9edc-0453c69f7544",
   "metadata": {},
   "outputs": [
    {
     "name": "stdout",
     "output_type": "stream",
     "text": [
      "Acurácia treino LR: 0.7665369649805448 \n",
      "\n",
      "Acurácia treino LDA: 0.7782101167315175 \n",
      "\n",
      "Acurácia treino DT: 1.0 \n",
      "\n",
      "Acurácia treino KN: 0.8365758754863813 \n",
      "\n",
      "Acurácia treino SVM: 0.7976653696498055 \n",
      "\n",
      "Acurácia treino RF: 1.0 \n",
      "\n"
     ]
    }
   ],
   "source": [
    "print(\"Acurácia treino LR:\", LR.score(X_train,y_train), \"\\n\")\n",
    "print(\"Acurácia treino LDA:\", LDA.score(X_train,y_train), \"\\n\")\n",
    "print(\"Acurácia treino DT:\", DT.score(X_train,y_train), \"\\n\")\n",
    "print(\"Acurácia treino KN:\", KN.score(X_train,y_train), \"\\n\")\n",
    "print(\"Acurácia treino SVM:\", SVM.score(X_train,y_train), \"\\n\")\n",
    "print(\"Acurácia treino RF:\", RF.score(X_train,y_train), \"\\n\")"
   ]
  },
  {
   "cell_type": "markdown",
   "id": "3c7976a2",
   "metadata": {},
   "source": [
    "## Matriz de confusão + Métricas\n",
    "\n",
    "<img src=\"https://github.com/fgiordanelli/Projeto1/blob/main/imagens/img14.png?raw=true\" width=\"350\" height=\"100\"/>"
   ]
  },
  {
   "cell_type": "code",
   "execution_count": 37,
   "id": "f1813827-8801-4b2d-a6fc-b58c24955759",
   "metadata": {},
   "outputs": [
    {
     "data": {
      "image/png": "[encoded data removed]",
      "text/plain": [
       "<Figure size 576x396 with 2 Axes>"
      ]
     },
     "metadata": {},
     "output_type": "display_data"
    }
   ],
   "source": [
    "ConfusionMatrixDisplay.from_estimator(LR, X_train,y_train)\n",
    "plt.show()"
   ]
  },
  {
   "cell_type": "markdown",
   "id": "ca34b192",
   "metadata": {},
   "source": [
    "## Acurácia, Precision e Recall do Treino"
   ]
  },
  {
   "cell_type": "code",
   "execution_count": 38,
   "id": "1dc46e44",
   "metadata": {
    "scrolled": true
   },
   "outputs": [
    {
     "data": {
      "text/html": [
       "<div>\n",
       "<style scoped>\n",
       "    .dataframe tbody tr th:only-of-type {\n",
       "        vertical-align: middle;\n",
       "    }\n",
       "\n",
       "    .dataframe tbody tr th {\n",
       "        vertical-align: top;\n",
       "    }\n",
       "\n",
       "    .dataframe thead th {\n",
       "        text-align: right;\n",
       "    }\n",
       "</style>\n",
       "<table border=\"1\" class=\"dataframe\">\n",
       "  <thead>\n",
       "    <tr style=\"text-align: right;\">\n",
       "      <th></th>\n",
       "      <th>Accuracy</th>\n",
       "      <th>Precision</th>\n",
       "      <th>Recall</th>\n",
       "    </tr>\n",
       "  </thead>\n",
       "  <tbody>\n",
       "    <tr>\n",
       "      <th>LR</th>\n",
       "      <td>0.766537</td>\n",
       "      <td>0.773196</td>\n",
       "      <td>1.000000</td>\n",
       "    </tr>\n",
       "    <tr>\n",
       "      <th>LDA</th>\n",
       "      <td>0.778210</td>\n",
       "      <td>0.793011</td>\n",
       "      <td>0.888554</td>\n",
       "    </tr>\n",
       "    <tr>\n",
       "      <th>DT</th>\n",
       "      <td>1.000000</td>\n",
       "      <td>1.000000</td>\n",
       "      <td>1.000000</td>\n",
       "    </tr>\n",
       "    <tr>\n",
       "      <th>KN</th>\n",
       "      <td>0.836576</td>\n",
       "      <td>0.840659</td>\n",
       "      <td>0.921687</td>\n",
       "    </tr>\n",
       "    <tr>\n",
       "      <th>SVM</th>\n",
       "      <td>0.797665</td>\n",
       "      <td>0.808108</td>\n",
       "      <td>0.900602</td>\n",
       "    </tr>\n",
       "    <tr>\n",
       "      <th>RF</th>\n",
       "      <td>1.000000</td>\n",
       "      <td>1.000000</td>\n",
       "      <td>1.000000</td>\n",
       "    </tr>\n",
       "  </tbody>\n",
       "</table>\n",
       "</div>"
      ],
      "text/plain": [
       "     Accuracy  Precision    Recall\n",
       "LR   0.766537   0.773196  1.000000\n",
       "LDA  0.778210   0.793011  0.888554\n",
       "DT   1.000000   1.000000  1.000000\n",
       "KN   0.836576   0.840659  0.921687\n",
       "SVM  0.797665   0.808108  0.900602\n",
       "RF   1.000000   1.000000  1.000000"
      ]
     },
     "execution_count": 38,
     "metadata": {},
     "output_type": "execute_result"
    }
   ],
   "source": [
    "metricas = {'Accuracy':  [LR.score(X_train,y_train),\n",
    "                          LDA.score(X_train,y_train),\n",
    "                          DT.score(X_train,y_train),\n",
    "                          KN.score(X_train,y_train),\n",
    "                          SVM.score(X_train,y_train),\n",
    "                          RF.score(X_train,y_train)],\n",
    "            'Precision': [precision_score(y_train, LR.predict(X_train), pos_label = 0),\n",
    "                          precision_score(y_train, LDA.predict(X_train), pos_label = 0),\n",
    "                          precision_score(y_train, DT.predict(X_train), pos_label = 0),\n",
    "                          precision_score(y_train, KN.predict(X_train), pos_label = 0),\n",
    "                          precision_score(y_train, SVM.predict(X_train), pos_label = 0),\n",
    "                          precision_score(y_train, RF.predict(X_train), pos_label = 0)],\n",
    "            'Recall' :   [recall_score(y_train, RF.predict(X_train), pos_label = 0),\n",
    "                          recall_score(y_train, LDA.predict(X_train), pos_label = 0),\n",
    "                          recall_score(y_train, DT.predict(X_train), pos_label = 0),\n",
    "                          recall_score(y_train, KN.predict(X_train), pos_label = 0),\n",
    "                          recall_score(y_train, SVM.predict(X_train), pos_label = 0),\n",
    "                          recall_score(y_train, RF.predict(X_train), pos_label = 0)]\n",
    "        }\n",
    "\n",
    "dados = pd.DataFrame(metricas, columns = ['Accuracy', 'Precision','Recall'], index=['LR','LDA','DT','KN','SVM','RF'])\n",
    "\n",
    "dados"
   ]
  },
  {
   "cell_type": "markdown",
   "id": "1ba88b46-0bec-44a9-8319-eb8d1736f2ee",
   "metadata": {},
   "source": [
    "## Curva ROC\n",
    "<img src=\"https://github.com/fgiordanelli/Projeto1/blob/main/imagens/img15.png?raw=true\" width=\"350\" height=\"200\"/>"
   ]
  },
  {
   "cell_type": "code",
   "execution_count": 39,
   "id": "732b406d-3ce8-4a88-9528-2b83a7c2c271",
   "metadata": {},
   "outputs": [
    {
     "data": {
      "image/png": "[encoded data removed]",
      "text/plain": [
       "<Figure size 576x396 with 1 Axes>"
      ]
     },
     "metadata": {},
     "output_type": "display_data"
    }
   ],
   "source": [
    "RocCurveDisplay.from_estimator(LR, X_test, y_test,drop_intermediate=False,ax=plt.gca())\n",
    "RocCurveDisplay.from_estimator(LDA, X_test, y_test,drop_intermediate=False,ax=plt.gca())\n",
    "RocCurveDisplay.from_estimator(DT, X_test, y_test,drop_intermediate=False,ax=plt.gca())\n",
    "RocCurveDisplay.from_estimator(KN, X_test, y_test,drop_intermediate=False,ax=plt.gca())\n",
    "RocCurveDisplay.from_estimator(SVM, X_test, y_test,drop_intermediate=False,ax=plt.gca())\n",
    "RocCurveDisplay.from_estimator(RF, X_test, y_test,drop_intermediate=False,ax=plt.gca())\n",
    "\n",
    "plt.show()"
   ]
  },
  {
   "cell_type": "markdown",
   "id": "3c40f190",
   "metadata": {},
   "source": [
    "## Encapsular o modelo e Salvar\n",
    "\n",
    "<img src=\"https://github.com/fgiordanelli/Projeto1/blob/main/imagens/img9.png?raw=true\" width=\"200\" height=\"80\"/>"
   ]
  },
  {
   "cell_type": "code",
   "execution_count": 44,
   "id": "218933b6",
   "metadata": {},
   "outputs": [],
   "source": [
    "pickle.dump(LR, open('Modelo_Diabete.sav', 'wb'))"
   ]
  },
  {
   "cell_type": "markdown",
   "id": "e5120d88",
   "metadata": {},
   "source": [
    "## Abrir modelo salvo\n",
    "\n",
    "<img src=\"https://github.com/fgiordanelli/Projeto1/blob/main/imagens/img10.png?raw=true\" width=\"300\" height=\"100\"/>"
   ]
  },
  {
   "cell_type": "code",
   "execution_count": 45,
   "id": "83249986",
   "metadata": {},
   "outputs": [],
   "source": [
    "loaded_model = pickle.load(open('Modelo_Diabete.sav', 'rb'))"
   ]
  },
  {
   "cell_type": "markdown",
   "id": "01c84fc6",
   "metadata": {},
   "source": [
    "## Testar agora pro teste. Ver se houve overfitting\n",
    "\n",
    "<img src=\"https://github.com/fgiordanelli/Projeto1/blob/main/imagens/img11.png?raw=true\" width=\"150\" height=\"80\"/>"
   ]
  },
  {
   "cell_type": "code",
   "execution_count": 46,
   "id": "385248c1",
   "metadata": {},
   "outputs": [
    {
     "name": "stdout",
     "output_type": "stream",
     "text": [
      "Acurácia teste LR: 0.7440944881889764\n",
      "Precision teste LR: 0.647887323943662\n",
      "Recall teste LR: 0.5348837209302325\n"
     ]
    }
   ],
   "source": [
    "print(\"Acurácia teste LR:\", loaded_model.score(X_test, y_test))\n",
    "print(\"Precision teste LR:\", precision_score(y_test, loaded_model.predict(X_test)))\n",
    "print(\"Recall teste LR:\", recall_score(y_test, loaded_model.predict(X_test)))"
   ]
  }
 ],
 "metadata": {
  "kernelspec": {
   "display_name": "Python 3 (ipykernel)",
   "language": "python",
   "name": "python3"
  },
  "language_info": {
   "codemirror_mode": {
    "name": "ipython",
    "version": 3
   },
   "file_extension": ".py",
   "mimetype": "text/x-python",
   "name": "python",
   "nbconvert_exporter": "python",
   "pygments_lexer": "ipython3",
   "version": "3.10.2"
  }
 },
 "nbformat": 4,
 "nbformat_minor": 5
}
