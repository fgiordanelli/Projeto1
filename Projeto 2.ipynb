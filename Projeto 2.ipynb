{
 "cells": [
  {
   "cell_type": "code",
   "execution_count": 30,
   "id": "4cb54d04-346c-43f4-8e6d-3fd7d20492dc",
   "metadata": {},
   "outputs": [],
   "source": [
    "import numpy as np\n",
    "import pandas as pd\n",
    "import matplotlib.pyplot as plt\n",
    "from sklearn.model_selection import train_test_split\n",
    "from sklearn.linear_model import LogisticRegression\n",
    "from sklearn.tree import DecisionTreeClassifier\n",
    "from sklearn.neighbors import KNeighborsClassifier\n",
    "from sklearn.discriminant_analysis import LinearDiscriminantAnalysis\n",
    "from sklearn.ensemble import RandomForestClassifier\n",
    "from sklearn.svm import SVC\n",
    "from sklearn.metrics import plot_confusion_matrix\n",
    "from sklearn.metrics import precision_score\n",
    "from sklearn.metrics import recall_score\n",
    "from sklearn.metrics import plot_roc_curve"
   ]
  },
  {
   "cell_type": "markdown",
   "id": "e8a3316e-30de-4868-80e9-1ab204268a4e",
   "metadata": {},
   "source": [
    "# Previsão de Empréstimos\n",
    "<img src=\"https://worldfinancialreview.com/wp-content/uploads/2020/02/Personal_loan_concept_with_contract_and_money_wutwhanfoto_Getty_Images_large.jpg\" width=\"400\" height=\"100\"/>\n",
    "\n",
    "A empresa deseja automatizar o processo de elegibilidade do empréstimo (em tempo real) com base nos detalhes do cliente fornecidos durante o preenchimento do formulário de inscrição online.\n",
    "\n",
    "Esses detalhes são gênero, estado civil, educação, número de dependentes, renda, valor do empréstimo, histórico de crédito e outros.\n",
    "\n",
    "Dadas as informações, temos que prever se eles pagarão o empréstimo ou não."
   ]
  },
  {
   "cell_type": "code",
   "execution_count": 6,
   "id": "73579dd9-3f98-4455-9c19-505bd02ab996",
   "metadata": {},
   "outputs": [
    {
     "data": {
      "text/html": [
       "<div>\n",
       "<style scoped>\n",
       "    .dataframe tbody tr th:only-of-type {\n",
       "        vertical-align: middle;\n",
       "    }\n",
       "\n",
       "    .dataframe tbody tr th {\n",
       "        vertical-align: top;\n",
       "    }\n",
       "\n",
       "    .dataframe thead th {\n",
       "        text-align: right;\n",
       "    }\n",
       "</style>\n",
       "<table border=\"1\" class=\"dataframe\">\n",
       "  <thead>\n",
       "    <tr style=\"text-align: right;\">\n",
       "      <th></th>\n",
       "      <th>Loan_ID</th>\n",
       "      <th>Gender</th>\n",
       "      <th>Married</th>\n",
       "      <th>Dependents</th>\n",
       "      <th>Education</th>\n",
       "      <th>Self_Employed</th>\n",
       "      <th>ApplicantIncome</th>\n",
       "      <th>CoapplicantIncome</th>\n",
       "      <th>LoanAmount</th>\n",
       "      <th>Loan_Amount_Term</th>\n",
       "      <th>Credit_History</th>\n",
       "      <th>Property_Area</th>\n",
       "      <th>Loan_Status</th>\n",
       "    </tr>\n",
       "  </thead>\n",
       "  <tbody>\n",
       "    <tr>\n",
       "      <th>0</th>\n",
       "      <td>LP001002</td>\n",
       "      <td>Male</td>\n",
       "      <td>No</td>\n",
       "      <td>0</td>\n",
       "      <td>Graduate</td>\n",
       "      <td>No</td>\n",
       "      <td>5849</td>\n",
       "      <td>0.0</td>\n",
       "      <td>NaN</td>\n",
       "      <td>360.0</td>\n",
       "      <td>1.0</td>\n",
       "      <td>Urban</td>\n",
       "      <td>Y</td>\n",
       "    </tr>\n",
       "    <tr>\n",
       "      <th>1</th>\n",
       "      <td>LP001003</td>\n",
       "      <td>Male</td>\n",
       "      <td>Yes</td>\n",
       "      <td>1</td>\n",
       "      <td>Graduate</td>\n",
       "      <td>No</td>\n",
       "      <td>4583</td>\n",
       "      <td>1508.0</td>\n",
       "      <td>128.0</td>\n",
       "      <td>360.0</td>\n",
       "      <td>1.0</td>\n",
       "      <td>Rural</td>\n",
       "      <td>N</td>\n",
       "    </tr>\n",
       "    <tr>\n",
       "      <th>2</th>\n",
       "      <td>LP001005</td>\n",
       "      <td>Male</td>\n",
       "      <td>Yes</td>\n",
       "      <td>0</td>\n",
       "      <td>Graduate</td>\n",
       "      <td>Yes</td>\n",
       "      <td>3000</td>\n",
       "      <td>0.0</td>\n",
       "      <td>66.0</td>\n",
       "      <td>360.0</td>\n",
       "      <td>1.0</td>\n",
       "      <td>Urban</td>\n",
       "      <td>Y</td>\n",
       "    </tr>\n",
       "    <tr>\n",
       "      <th>3</th>\n",
       "      <td>LP001006</td>\n",
       "      <td>Male</td>\n",
       "      <td>Yes</td>\n",
       "      <td>0</td>\n",
       "      <td>Not Graduate</td>\n",
       "      <td>No</td>\n",
       "      <td>2583</td>\n",
       "      <td>2358.0</td>\n",
       "      <td>120.0</td>\n",
       "      <td>360.0</td>\n",
       "      <td>1.0</td>\n",
       "      <td>Urban</td>\n",
       "      <td>Y</td>\n",
       "    </tr>\n",
       "    <tr>\n",
       "      <th>4</th>\n",
       "      <td>LP001008</td>\n",
       "      <td>Male</td>\n",
       "      <td>No</td>\n",
       "      <td>0</td>\n",
       "      <td>Graduate</td>\n",
       "      <td>No</td>\n",
       "      <td>6000</td>\n",
       "      <td>0.0</td>\n",
       "      <td>141.0</td>\n",
       "      <td>360.0</td>\n",
       "      <td>1.0</td>\n",
       "      <td>Urban</td>\n",
       "      <td>Y</td>\n",
       "    </tr>\n",
       "    <tr>\n",
       "      <th>...</th>\n",
       "      <td>...</td>\n",
       "      <td>...</td>\n",
       "      <td>...</td>\n",
       "      <td>...</td>\n",
       "      <td>...</td>\n",
       "      <td>...</td>\n",
       "      <td>...</td>\n",
       "      <td>...</td>\n",
       "      <td>...</td>\n",
       "      <td>...</td>\n",
       "      <td>...</td>\n",
       "      <td>...</td>\n",
       "      <td>...</td>\n",
       "    </tr>\n",
       "    <tr>\n",
       "      <th>609</th>\n",
       "      <td>LP002978</td>\n",
       "      <td>Female</td>\n",
       "      <td>No</td>\n",
       "      <td>0</td>\n",
       "      <td>Graduate</td>\n",
       "      <td>No</td>\n",
       "      <td>2900</td>\n",
       "      <td>0.0</td>\n",
       "      <td>71.0</td>\n",
       "      <td>360.0</td>\n",
       "      <td>1.0</td>\n",
       "      <td>Rural</td>\n",
       "      <td>Y</td>\n",
       "    </tr>\n",
       "    <tr>\n",
       "      <th>610</th>\n",
       "      <td>LP002979</td>\n",
       "      <td>Male</td>\n",
       "      <td>Yes</td>\n",
       "      <td>3+</td>\n",
       "      <td>Graduate</td>\n",
       "      <td>No</td>\n",
       "      <td>4106</td>\n",
       "      <td>0.0</td>\n",
       "      <td>40.0</td>\n",
       "      <td>180.0</td>\n",
       "      <td>1.0</td>\n",
       "      <td>Rural</td>\n",
       "      <td>Y</td>\n",
       "    </tr>\n",
       "    <tr>\n",
       "      <th>611</th>\n",
       "      <td>LP002983</td>\n",
       "      <td>Male</td>\n",
       "      <td>Yes</td>\n",
       "      <td>1</td>\n",
       "      <td>Graduate</td>\n",
       "      <td>No</td>\n",
       "      <td>8072</td>\n",
       "      <td>240.0</td>\n",
       "      <td>253.0</td>\n",
       "      <td>360.0</td>\n",
       "      <td>1.0</td>\n",
       "      <td>Urban</td>\n",
       "      <td>Y</td>\n",
       "    </tr>\n",
       "    <tr>\n",
       "      <th>612</th>\n",
       "      <td>LP002984</td>\n",
       "      <td>Male</td>\n",
       "      <td>Yes</td>\n",
       "      <td>2</td>\n",
       "      <td>Graduate</td>\n",
       "      <td>No</td>\n",
       "      <td>7583</td>\n",
       "      <td>0.0</td>\n",
       "      <td>187.0</td>\n",
       "      <td>360.0</td>\n",
       "      <td>1.0</td>\n",
       "      <td>Urban</td>\n",
       "      <td>Y</td>\n",
       "    </tr>\n",
       "    <tr>\n",
       "      <th>613</th>\n",
       "      <td>LP002990</td>\n",
       "      <td>Female</td>\n",
       "      <td>No</td>\n",
       "      <td>0</td>\n",
       "      <td>Graduate</td>\n",
       "      <td>Yes</td>\n",
       "      <td>4583</td>\n",
       "      <td>0.0</td>\n",
       "      <td>133.0</td>\n",
       "      <td>360.0</td>\n",
       "      <td>0.0</td>\n",
       "      <td>Semiurban</td>\n",
       "      <td>N</td>\n",
       "    </tr>\n",
       "  </tbody>\n",
       "</table>\n",
       "<p>614 rows × 13 columns</p>\n",
       "</div>"
      ],
      "text/plain": [
       "      Loan_ID  Gender Married Dependents     Education Self_Employed  \\\n",
       "0    LP001002    Male      No          0      Graduate            No   \n",
       "1    LP001003    Male     Yes          1      Graduate            No   \n",
       "2    LP001005    Male     Yes          0      Graduate           Yes   \n",
       "3    LP001006    Male     Yes          0  Not Graduate            No   \n",
       "4    LP001008    Male      No          0      Graduate            No   \n",
       "..        ...     ...     ...        ...           ...           ...   \n",
       "609  LP002978  Female      No          0      Graduate            No   \n",
       "610  LP002979    Male     Yes         3+      Graduate            No   \n",
       "611  LP002983    Male     Yes          1      Graduate            No   \n",
       "612  LP002984    Male     Yes          2      Graduate            No   \n",
       "613  LP002990  Female      No          0      Graduate           Yes   \n",
       "\n",
       "     ApplicantIncome  CoapplicantIncome  LoanAmount  Loan_Amount_Term  \\\n",
       "0               5849                0.0         NaN             360.0   \n",
       "1               4583             1508.0       128.0             360.0   \n",
       "2               3000                0.0        66.0             360.0   \n",
       "3               2583             2358.0       120.0             360.0   \n",
       "4               6000                0.0       141.0             360.0   \n",
       "..               ...                ...         ...               ...   \n",
       "609             2900                0.0        71.0             360.0   \n",
       "610             4106                0.0        40.0             180.0   \n",
       "611             8072              240.0       253.0             360.0   \n",
       "612             7583                0.0       187.0             360.0   \n",
       "613             4583                0.0       133.0             360.0   \n",
       "\n",
       "     Credit_History Property_Area Loan_Status  \n",
       "0               1.0         Urban           Y  \n",
       "1               1.0         Rural           N  \n",
       "2               1.0         Urban           Y  \n",
       "3               1.0         Urban           Y  \n",
       "4               1.0         Urban           Y  \n",
       "..              ...           ...         ...  \n",
       "609             1.0         Rural           Y  \n",
       "610             1.0         Rural           Y  \n",
       "611             1.0         Urban           Y  \n",
       "612             1.0         Urban           Y  \n",
       "613             0.0     Semiurban           N  \n",
       "\n",
       "[614 rows x 13 columns]"
      ]
     },
     "execution_count": 6,
     "metadata": {},
     "output_type": "execute_result"
    }
   ],
   "source": [
    "df=pd.read_csv('https://raw.githubusercontent.com/shrikant-temburwar/Loan-Prediction-Dataset/master/train.csv')\n",
    "df"
   ]
  },
  {
   "cell_type": "code",
   "execution_count": 7,
   "id": "cc501449-1aeb-4f55-ad15-512c4ed609f0",
   "metadata": {},
   "outputs": [
    {
     "data": {
      "text/plain": [
       "0    Y\n",
       "1    N\n",
       "Name: Loan_Status, dtype: object"
      ]
     },
     "execution_count": 7,
     "metadata": {},
     "output_type": "execute_result"
    }
   ],
   "source": [
    "df['Loan_Status'].drop_duplicates()"
   ]
  },
  {
   "cell_type": "code",
   "execution_count": 8,
   "id": "64de7e47-7d44-435b-8c38-a213524e3a1d",
   "metadata": {},
   "outputs": [
    {
     "data": {
      "text/plain": [
       "Y    422\n",
       "N    192\n",
       "Name: Loan_Status, dtype: int64"
      ]
     },
     "execution_count": 8,
     "metadata": {},
     "output_type": "execute_result"
    }
   ],
   "source": [
    "df['Loan_Status'].value_counts()"
   ]
  },
  {
   "cell_type": "code",
   "execution_count": 9,
   "id": "73c43324-96d5-4481-9c9b-8d29dfd580f1",
   "metadata": {},
   "outputs": [],
   "source": [
    "df['Loan_Status'] = np.where(df['Loan_Status'] == 'Y', 1,0)"
   ]
  },
  {
   "cell_type": "markdown",
   "id": "295494fd-b3eb-4d86-97e9-c235af5e6534",
   "metadata": {},
   "source": [
    "# Separar em Treino e Teste\n",
    "\n",
    "<img src=\"data:image/png;base64,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\" width=\"400\" height=\"100\">"
   ]
  },
  {
   "cell_type": "code",
   "execution_count": 10,
   "id": "13fc6bb0-49bb-40e2-93e9-fe9d4c621e49",
   "metadata": {},
   "outputs": [],
   "source": [
    "train , test = train_test_split(df,test_size=0.2,random_state=0)"
   ]
  },
  {
   "cell_type": "markdown",
   "id": "dcc68f2f-6228-45c4-86aa-0039cc88f32b",
   "metadata": {},
   "source": [
    "# Retirar colunas que não usaremos\n",
    "\n",
    "<img src=\"https://cdn2.iconfinder.com/data/icons/flat-pro-word-processing-set-5/32/table-column-delete-512.png\" width=\"200\" height=\"100\"/>"
   ]
  },
  {
   "cell_type": "code",
   "execution_count": 11,
   "id": "346d7472-d4f0-4f66-aff0-cebb2bc6abd4",
   "metadata": {},
   "outputs": [],
   "source": [
    "train = train.drop(['Loan_ID'],axis=1)\n",
    "test = test.drop(['Loan_ID'],axis=1)"
   ]
  },
  {
   "cell_type": "markdown",
   "id": "cde23faa-1a1a-409c-9e65-70e0dcf38af9",
   "metadata": {},
   "source": [
    "# Valor Vazio\n",
    "\n",
    "<img src=\"https://www.logianalytics.com/wp-content/uploads/2019/06/Missing-values-2.png\" width=\"250\" height=\"100\"/>"
   ]
  },
  {
   "cell_type": "code",
   "execution_count": 12,
   "id": "a427bd2a-2a49-4e15-9b7c-658cbeb7c43b",
   "metadata": {},
   "outputs": [
    {
     "data": {
      "text/html": [
       "<div>\n",
       "<style scoped>\n",
       "    .dataframe tbody tr th:only-of-type {\n",
       "        vertical-align: middle;\n",
       "    }\n",
       "\n",
       "    .dataframe tbody tr th {\n",
       "        vertical-align: top;\n",
       "    }\n",
       "\n",
       "    .dataframe thead th {\n",
       "        text-align: right;\n",
       "    }\n",
       "</style>\n",
       "<table border=\"1\" class=\"dataframe\">\n",
       "  <thead>\n",
       "    <tr style=\"text-align: right;\">\n",
       "      <th></th>\n",
       "      <th>Valor Vazio</th>\n",
       "    </tr>\n",
       "  </thead>\n",
       "  <tbody>\n",
       "    <tr>\n",
       "      <th>Gender</th>\n",
       "      <td>12</td>\n",
       "    </tr>\n",
       "    <tr>\n",
       "      <th>Married</th>\n",
       "      <td>3</td>\n",
       "    </tr>\n",
       "    <tr>\n",
       "      <th>Dependents</th>\n",
       "      <td>15</td>\n",
       "    </tr>\n",
       "    <tr>\n",
       "      <th>Education</th>\n",
       "      <td>0</td>\n",
       "    </tr>\n",
       "    <tr>\n",
       "      <th>Self_Employed</th>\n",
       "      <td>28</td>\n",
       "    </tr>\n",
       "    <tr>\n",
       "      <th>ApplicantIncome</th>\n",
       "      <td>0</td>\n",
       "    </tr>\n",
       "    <tr>\n",
       "      <th>CoapplicantIncome</th>\n",
       "      <td>0</td>\n",
       "    </tr>\n",
       "    <tr>\n",
       "      <th>LoanAmount</th>\n",
       "      <td>20</td>\n",
       "    </tr>\n",
       "    <tr>\n",
       "      <th>Loan_Amount_Term</th>\n",
       "      <td>11</td>\n",
       "    </tr>\n",
       "    <tr>\n",
       "      <th>Credit_History</th>\n",
       "      <td>41</td>\n",
       "    </tr>\n",
       "    <tr>\n",
       "      <th>Property_Area</th>\n",
       "      <td>0</td>\n",
       "    </tr>\n",
       "    <tr>\n",
       "      <th>Loan_Status</th>\n",
       "      <td>0</td>\n",
       "    </tr>\n",
       "  </tbody>\n",
       "</table>\n",
       "</div>"
      ],
      "text/plain": [
       "                   Valor Vazio\n",
       "Gender                      12\n",
       "Married                      3\n",
       "Dependents                  15\n",
       "Education                    0\n",
       "Self_Employed               28\n",
       "ApplicantIncome              0\n",
       "CoapplicantIncome            0\n",
       "LoanAmount                  20\n",
       "Loan_Amount_Term            11\n",
       "Credit_History              41\n",
       "Property_Area                0\n",
       "Loan_Status                  0"
      ]
     },
     "execution_count": 12,
     "metadata": {},
     "output_type": "execute_result"
    }
   ],
   "source": [
    "pd.isna(train).sum().to_frame(\"Valor Vazio\")"
   ]
  },
  {
   "cell_type": "code",
   "execution_count": 13,
   "id": "43bcebdb-1f2c-4e29-b080-165ee27d618d",
   "metadata": {},
   "outputs": [],
   "source": [
    "train = train.dropna(how='any')\n",
    "test = test.dropna(how='any')"
   ]
  },
  {
   "cell_type": "markdown",
   "id": "fe4c60bd-2b0c-4b78-888d-3e057170ab95",
   "metadata": {},
   "source": [
    "# Categóricas em numéricas\n",
    "\n",
    "<img src=\"https://miro.medium.com/max/1879/1*O_pTwOZZLYZabRjw3Ga21A.png\" width=\"600\" height=\"100\"/>"
   ]
  },
  {
   "cell_type": "code",
   "execution_count": 14,
   "id": "c7ac943b-fb07-40f1-a3ba-b41ddea65c80",
   "metadata": {},
   "outputs": [],
   "source": [
    "train = pd.get_dummies(train, columns=['Gender','Married','Education','Self_Employed','Property_Area','Dependents'])\n",
    "test = pd.get_dummies(test, columns=['Gender','Married','Education','Self_Employed','Property_Area','Dependents'])"
   ]
  },
  {
   "cell_type": "markdown",
   "id": "9a707fea-8a65-43e0-8e71-e8074227c168",
   "metadata": {},
   "source": [
    "# Separar a variável target das features (tanto do treino como do teste)\n",
    "<img src=\"https://i.ibb.co/3csjYT2/image.png\" width=\"400\" height=\"100\"/>"
   ]
  },
  {
   "cell_type": "code",
   "execution_count": 15,
   "id": "1267703f-e349-42bd-95ba-f6452979921b",
   "metadata": {},
   "outputs": [],
   "source": [
    "train_x = train.drop(columns=['Loan_Status'],axis=1)\n",
    "train_y = train['Loan_Status']"
   ]
  },
  {
   "cell_type": "code",
   "execution_count": 16,
   "id": "c7d4bc37-7324-40d9-a579-f95e025d746c",
   "metadata": {},
   "outputs": [],
   "source": [
    "test_x = test.drop(columns=['Loan_Status'],axis=1)\n",
    "test_y = test['Loan_Status']"
   ]
  },
  {
   "cell_type": "markdown",
   "id": "e6c47785-eb89-43eb-9db1-bbb530680db5",
   "metadata": {},
   "source": [
    "## Treinar o modelo com os principais algorítimos supervisionados de Classificação\n",
    "<img src=\"https://i.ibb.co/N3pbLFp/LR-LDA-DT-KNN-SVM-RF.png\" width=\"200\" height=\"80\"/>"
   ]
  },
  {
   "cell_type": "code",
   "execution_count": 32,
   "id": "f411f93b-bad8-4e36-962c-81c4210d2bca",
   "metadata": {},
   "outputs": [],
   "source": [
    "LR = LogisticRegression(solver='lbfgs', max_iter=1000).fit(train_x, train_y)\n",
    "LDA = LinearDiscriminantAnalysis().fit(train_x, train_y)\n",
    "DT = DecisionTreeClassifier().fit(train_x, train_y)\n",
    "KN = KNeighborsClassifier().fit(train_x, train_y)\n",
    "SVM = SVC().fit(train_x,train_y) \n",
    "RF = RandomForestClassifier().fit(train_x,train_y)"
   ]
  },
  {
   "cell_type": "markdown",
   "id": "f0b6ff4d-bde6-4918-9feb-2f223de4cb92",
   "metadata": {},
   "source": [
    "## Matriz de confusão + Métricas\n",
    "<img src=\"https://www.researchgate.net/profile/Rune-Jacobsen/publication/334840641/figure/fig3/AS:794222751928321@1566368868347/Confusion-matrix-and-evaluation-metrics.png\" width=\"350\" height=\"80\"/>"
   ]
  },
  {
   "cell_type": "code",
   "execution_count": 18,
   "id": "56658efb-1eb4-44c4-858a-7d9d8350ba92",
   "metadata": {
    "tags": []
   },
   "outputs": [
    {
     "data": {
      "image/png": "[encoded data removed]",
      "text/plain": [
       "<Figure size 432x288 with 2 Axes>"
      ]
     },
     "metadata": {
      "needs_background": "light"
     },
     "output_type": "display_data"
    }
   ],
   "source": [
    "plot_confusion_matrix(LR, test_x, test_y)\n",
    "plt.show()"
   ]
  },
  {
   "cell_type": "code",
   "execution_count": 19,
   "id": "39f42c07-8466-40c9-aa37-d16b519eec1d",
   "metadata": {},
   "outputs": [
    {
     "name": "stdout",
     "output_type": "stream",
     "text": [
      "Acurácia LR: 0.8285714285714286 \n",
      "\n",
      "Acurácia LDA: 0.8380952380952381 \n",
      "\n",
      "Acurácia DT: 0.6476190476190476 \n",
      "\n",
      "Acurácia KN: 0.638095238095238 \n",
      "\n",
      "Acurácia SVM: 0.7238095238095238 \n",
      "\n",
      "Acurácia RF: 0.780952380952381 \n",
      "\n"
     ]
    }
   ],
   "source": [
    "print(\"Acurácia LR:\", LR.score(test_x,test_y), \"\\n\")\n",
    "print(\"Acurácia LDA:\", LDA.score(test_x,test_y), \"\\n\")\n",
    "print(\"Acurácia DT:\", DT.score(test_x,test_y), \"\\n\")\n",
    "print(\"Acurácia KN:\", KN.score(test_x,test_y), \"\\n\")\n",
    "print(\"Acurácia SVM:\", SVM.score(test_x,test_y), \"\\n\")\n",
    "print(\"Acurácia RF:\", RF.score(test_x,test_y), \"\\n\")"
   ]
  },
  {
   "cell_type": "code",
   "execution_count": 34,
   "id": "6d4d10e6-a201-420c-a494-2ca0c3598461",
   "metadata": {
    "tags": []
   },
   "outputs": [
    {
     "data": {
      "text/html": [
       "<div>\n",
       "<style scoped>\n",
       "    .dataframe tbody tr th:only-of-type {\n",
       "        vertical-align: middle;\n",
       "    }\n",
       "\n",
       "    .dataframe tbody tr th {\n",
       "        vertical-align: top;\n",
       "    }\n",
       "\n",
       "    .dataframe thead th {\n",
       "        text-align: right;\n",
       "    }\n",
       "</style>\n",
       "<table border=\"1\" class=\"dataframe\">\n",
       "  <thead>\n",
       "    <tr style=\"text-align: right;\">\n",
       "      <th></th>\n",
       "      <th>Accuracy</th>\n",
       "      <th>Precision</th>\n",
       "      <th>Recall</th>\n",
       "    </tr>\n",
       "  </thead>\n",
       "  <tbody>\n",
       "    <tr>\n",
       "      <th>LR</th>\n",
       "      <td>0.828571</td>\n",
       "      <td>0.829545</td>\n",
       "      <td>0.894737</td>\n",
       "    </tr>\n",
       "    <tr>\n",
       "      <th>LDA</th>\n",
       "      <td>0.838095</td>\n",
       "      <td>0.831461</td>\n",
       "      <td>0.973684</td>\n",
       "    </tr>\n",
       "    <tr>\n",
       "      <th>DT</th>\n",
       "      <td>0.638095</td>\n",
       "      <td>0.779412</td>\n",
       "      <td>0.697368</td>\n",
       "    </tr>\n",
       "    <tr>\n",
       "      <th>KN</th>\n",
       "      <td>0.638095</td>\n",
       "      <td>0.720930</td>\n",
       "      <td>0.815789</td>\n",
       "    </tr>\n",
       "    <tr>\n",
       "      <th>SVM</th>\n",
       "      <td>0.723810</td>\n",
       "      <td>0.723810</td>\n",
       "      <td>1.000000</td>\n",
       "    </tr>\n",
       "    <tr>\n",
       "      <th>RF</th>\n",
       "      <td>0.771429</td>\n",
       "      <td>0.809524</td>\n",
       "      <td>0.894737</td>\n",
       "    </tr>\n",
       "  </tbody>\n",
       "</table>\n",
       "</div>"
      ],
      "text/plain": [
       "     Accuracy  Precision    Recall\n",
       "LR   0.828571   0.829545  0.894737\n",
       "LDA  0.838095   0.831461  0.973684\n",
       "DT   0.638095   0.779412  0.697368\n",
       "KN   0.638095   0.720930  0.815789\n",
       "SVM  0.723810   0.723810  1.000000\n",
       "RF   0.771429   0.809524  0.894737"
      ]
     },
     "execution_count": 34,
     "metadata": {},
     "output_type": "execute_result"
    }
   ],
   "source": [
    "metricas = {'Accuracy': [LR.score(test_x,test_y),\n",
    "                         LDA.score(test_x,test_y),\n",
    "                         DT.score(test_x,test_y),\n",
    "                         KN.score(test_x,test_y),\n",
    "                         SVM.score(test_x,test_y),\n",
    "                         RF.score(test_x,test_y)],\n",
    "            'Precision': [precision_score(test_y, LR.predict(test_x)),\n",
    "                      precision_score(test_y, LDA.predict(test_x)),\n",
    "                      precision_score(test_y, DT.predict(test_x)),\n",
    "                      precision_score(test_y, KN.predict(test_x)),\n",
    "                      precision_score(test_y, SVM.predict(test_x)),\n",
    "                      precision_score(test_y, RF.predict(test_x))],\n",
    "            'Recall' : [recall_score(test_y, RF.predict(test_x)),\n",
    "                    recall_score(test_y, LDA.predict(test_x)),\n",
    "                    recall_score(test_y, DT.predict(test_x)),\n",
    "                    recall_score(test_y, KN.predict(test_x)),\n",
    "                    recall_score(test_y, SVM.predict(test_x)),\n",
    "                    recall_score(test_y, RF.predict(test_x))]\n",
    "        }\n",
    "\n",
    "dados = pd.DataFrame(metricas, columns = ['Accuracy', 'Precision','Recall'], index=['LR','LDA','DT','KN','SVM','RF'])\n",
    "\n",
    "dados"
   ]
  },
  {
   "cell_type": "markdown",
   "id": "98b41e77-2506-4fe9-afc4-22c535314c36",
   "metadata": {},
   "source": [
    "## Curva ROC\n",
    "<img src=\"https://upload.wikimedia.org/wikipedia/commons/thumb/3/36/Roc-draft-xkcd-style.svg/250px-Roc-draft-xkcd-style.svg.png\" width=\"350\" height=\"80\"/>"
   ]
  },
  {
   "cell_type": "code",
   "execution_count": 33,
   "id": "f4efb952-27e0-46a1-946f-5d38cb8677fa",
   "metadata": {},
   "outputs": [
    {
     "data": {
      "text/plain": [
       "<sklearn.metrics._plot.roc_curve.RocCurveDisplay at 0x139934310>"
      ]
     },
     "execution_count": 33,
     "metadata": {},
     "output_type": "execute_result"
    },
    {
     "data": {
      "image/png": "[encoded data removed]",
      "text/plain": [
       "<Figure size 432x288 with 1 Axes>"
      ]
     },
     "metadata": {
      "needs_background": "light"
     },
     "output_type": "display_data"
    }
   ],
   "source": [
    "plot_roc_curve(LR, test_x, test_y, ax=plt.gca())\n",
    "plot_roc_curve(LDA, test_x, test_y, ax=plt.gca())\n",
    "plot_roc_curve(DT, test_x, test_y, ax=plt.gca())\n",
    "plot_roc_curve(KN, test_x, test_y, ax=plt.gca())\n",
    "plot_roc_curve(SVM, test_x, test_y, ax=plt.gca())\n",
    "plot_roc_curve(RF, test_x, test_y, ax=plt.gca())"
   ]
  }
 ],
 "metadata": {
  "kernelspec": {
   "display_name": "Python 3",
   "language": "python",
   "name": "python3"
  },
  "language_info": {
   "codemirror_mode": {
    "name": "ipython",
    "version": 3
   },
   "file_extension": ".py",
   "mimetype": "text/x-python",
   "name": "python",
   "nbconvert_exporter": "python",
   "pygments_lexer": "ipython3",
   "version": "3.9.0"
  },
  "toc-showcode": false,
  "toc-showtags": false
 },
 "nbformat": 4,
 "nbformat_minor": 5
}
