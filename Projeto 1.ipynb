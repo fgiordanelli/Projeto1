{
 "cells": [
  {
   "cell_type": "markdown",
   "id": "49baca0b-d041-4d53-a8a6-c0a6465335ac",
   "metadata": {},
   "source": [
    "# Projeto 1 - Acertar o tipo de flor da espécie Iris\n",
    "\n",
    "<img src=\"https://github.com/fgiordanelli/Projeto1/blob/main/imagens/img1.png?raw=true\" width=\"500\" height=\"100\"/>"
   ]
  },
  {
   "cell_type": "code",
   "execution_count": 92,
   "id": "e6a6d9b3-a08f-4479-b541-e7f66f6ce22b",
   "metadata": {},
   "outputs": [],
   "source": [
    "import numpy as np\n",
    "import pandas as pd\n",
    "import matplotlib.pyplot as plt\n",
    "from sklearn.model_selection import train_test_split\n",
    "from sklearn import preprocessing\n",
    "from sklearn.linear_model import LogisticRegression\n",
    "from sklearn.tree import DecisionTreeClassifier\n",
    "from sklearn.neighbors import KNeighborsClassifier\n",
    "from sklearn.discriminant_analysis import LinearDiscriminantAnalysis\n",
    "from sklearn.ensemble import RandomForestClassifier\n",
    "from sklearn.svm import SVC\n",
    "from plotnine import *\n",
    "import pickle\n",
    "import warnings\n",
    "warnings.filterwarnings('ignore')"
   ]
  },
  {
   "cell_type": "code",
   "execution_count": 93,
   "id": "b5084f8f-76ec-4163-aeec-5842c915d510",
   "metadata": {},
   "outputs": [],
   "source": [
    "df = pd.read_csv(\"https://raw.githubusercontent.com/fgiordanelli/Projeto1/main/Datasets/dataset1.csv\")"
   ]
  },
  {
   "cell_type": "code",
   "execution_count": 94,
   "id": "21dea4f0",
   "metadata": {},
   "outputs": [
    {
     "data": {
      "text/html": [
       "<div>\n",
       "<style scoped>\n",
       "    .dataframe tbody tr th:only-of-type {\n",
       "        vertical-align: middle;\n",
       "    }\n",
       "\n",
       "    .dataframe tbody tr th {\n",
       "        vertical-align: top;\n",
       "    }\n",
       "\n",
       "    .dataframe thead th {\n",
       "        text-align: right;\n",
       "    }\n",
       "</style>\n",
       "<table border=\"1\" class=\"dataframe\">\n",
       "  <thead>\n",
       "    <tr style=\"text-align: right;\">\n",
       "      <th></th>\n",
       "      <th>sepal_length</th>\n",
       "      <th>sepal_width</th>\n",
       "      <th>petal_length</th>\n",
       "      <th>petal_width</th>\n",
       "      <th>species</th>\n",
       "    </tr>\n",
       "  </thead>\n",
       "  <tbody>\n",
       "    <tr>\n",
       "      <th>0</th>\n",
       "      <td>5.1</td>\n",
       "      <td>3.5</td>\n",
       "      <td>1.4</td>\n",
       "      <td>0.2</td>\n",
       "      <td>setosa</td>\n",
       "    </tr>\n",
       "    <tr>\n",
       "      <th>1</th>\n",
       "      <td>4.9</td>\n",
       "      <td>3.0</td>\n",
       "      <td>1.4</td>\n",
       "      <td>0.2</td>\n",
       "      <td>setosa</td>\n",
       "    </tr>\n",
       "    <tr>\n",
       "      <th>2</th>\n",
       "      <td>4.7</td>\n",
       "      <td>3.2</td>\n",
       "      <td>1.3</td>\n",
       "      <td>0.2</td>\n",
       "      <td>setosa</td>\n",
       "    </tr>\n",
       "    <tr>\n",
       "      <th>3</th>\n",
       "      <td>4.6</td>\n",
       "      <td>3.1</td>\n",
       "      <td>1.5</td>\n",
       "      <td>0.2</td>\n",
       "      <td>setosa</td>\n",
       "    </tr>\n",
       "    <tr>\n",
       "      <th>4</th>\n",
       "      <td>5.0</td>\n",
       "      <td>3.6</td>\n",
       "      <td>1.4</td>\n",
       "      <td>0.2</td>\n",
       "      <td>setosa</td>\n",
       "    </tr>\n",
       "    <tr>\n",
       "      <th>...</th>\n",
       "      <td>...</td>\n",
       "      <td>...</td>\n",
       "      <td>...</td>\n",
       "      <td>...</td>\n",
       "      <td>...</td>\n",
       "    </tr>\n",
       "    <tr>\n",
       "      <th>95</th>\n",
       "      <td>5.7</td>\n",
       "      <td>3.0</td>\n",
       "      <td>4.2</td>\n",
       "      <td>1.2</td>\n",
       "      <td>versicolor</td>\n",
       "    </tr>\n",
       "    <tr>\n",
       "      <th>96</th>\n",
       "      <td>5.7</td>\n",
       "      <td>2.9</td>\n",
       "      <td>4.2</td>\n",
       "      <td>1.3</td>\n",
       "      <td>versicolor</td>\n",
       "    </tr>\n",
       "    <tr>\n",
       "      <th>97</th>\n",
       "      <td>6.2</td>\n",
       "      <td>2.9</td>\n",
       "      <td>4.3</td>\n",
       "      <td>1.3</td>\n",
       "      <td>versicolor</td>\n",
       "    </tr>\n",
       "    <tr>\n",
       "      <th>98</th>\n",
       "      <td>5.1</td>\n",
       "      <td>2.5</td>\n",
       "      <td>3.0</td>\n",
       "      <td>1.1</td>\n",
       "      <td>versicolor</td>\n",
       "    </tr>\n",
       "    <tr>\n",
       "      <th>99</th>\n",
       "      <td>5.7</td>\n",
       "      <td>2.8</td>\n",
       "      <td>4.1</td>\n",
       "      <td>1.3</td>\n",
       "      <td>versicolor</td>\n",
       "    </tr>\n",
       "  </tbody>\n",
       "</table>\n",
       "<p>100 rows × 5 columns</p>\n",
       "</div>"
      ],
      "text/plain": [
       "    sepal_length  sepal_width  petal_length  petal_width     species\n",
       "0            5.1          3.5           1.4          0.2      setosa\n",
       "1            4.9          3.0           1.4          0.2      setosa\n",
       "2            4.7          3.2           1.3          0.2      setosa\n",
       "3            4.6          3.1           1.5          0.2      setosa\n",
       "4            5.0          3.6           1.4          0.2      setosa\n",
       "..           ...          ...           ...          ...         ...\n",
       "95           5.7          3.0           4.2          1.2  versicolor\n",
       "96           5.7          2.9           4.2          1.3  versicolor\n",
       "97           6.2          2.9           4.3          1.3  versicolor\n",
       "98           5.1          2.5           3.0          1.1  versicolor\n",
       "99           5.7          2.8           4.1          1.3  versicolor\n",
       "\n",
       "[100 rows x 5 columns]"
      ]
     },
     "execution_count": 94,
     "metadata": {},
     "output_type": "execute_result"
    }
   ],
   "source": [
    "df"
   ]
  },
  {
   "cell_type": "markdown",
   "id": "1ea0c398",
   "metadata": {},
   "source": [
    "## Ver o balanceamento da base de dados\n",
    "<img src=\"https://github.com/fgiordanelli/Projeto1/blob/main/imagens/img2.png?raw=true\" width=\"500\" height=\"100\"/>"
   ]
  },
  {
   "cell_type": "code",
   "execution_count": 95,
   "id": "9139035d-84a1-4f51-8e82-d38fcd8759c3",
   "metadata": {},
   "outputs": [],
   "source": [
    "total = df.groupby('species').agg(n = ('species','count')).reset_index()\n",
    "total['perc'] = 100*total['n']/total['n'].sum()"
   ]
  },
  {
   "cell_type": "code",
   "execution_count": 96,
   "id": "c69e820a",
   "metadata": {},
   "outputs": [
    {
     "data": {
      "text/html": [
       "<div>\n",
       "<style scoped>\n",
       "    .dataframe tbody tr th:only-of-type {\n",
       "        vertical-align: middle;\n",
       "    }\n",
       "\n",
       "    .dataframe tbody tr th {\n",
       "        vertical-align: top;\n",
       "    }\n",
       "\n",
       "    .dataframe thead th {\n",
       "        text-align: right;\n",
       "    }\n",
       "</style>\n",
       "<table border=\"1\" class=\"dataframe\">\n",
       "  <thead>\n",
       "    <tr style=\"text-align: right;\">\n",
       "      <th></th>\n",
       "      <th>species</th>\n",
       "      <th>n</th>\n",
       "      <th>perc</th>\n",
       "    </tr>\n",
       "  </thead>\n",
       "  <tbody>\n",
       "    <tr>\n",
       "      <th>0</th>\n",
       "      <td>setosa</td>\n",
       "      <td>50</td>\n",
       "      <td>50.0</td>\n",
       "    </tr>\n",
       "    <tr>\n",
       "      <th>1</th>\n",
       "      <td>versicolor</td>\n",
       "      <td>50</td>\n",
       "      <td>50.0</td>\n",
       "    </tr>\n",
       "  </tbody>\n",
       "</table>\n",
       "</div>"
      ],
      "text/plain": [
       "      species   n  perc\n",
       "0      setosa  50  50.0\n",
       "1  versicolor  50  50.0"
      ]
     },
     "execution_count": 96,
     "metadata": {},
     "output_type": "execute_result"
    }
   ],
   "source": [
    "total"
   ]
  },
  {
   "cell_type": "markdown",
   "id": "985a9071",
   "metadata": {},
   "source": [
    "## Ver se tem valores fora do padrão\n",
    "<img src=\"https://github.com/fgiordanelli/Projeto1/blob/main/imagens/img3.png?raw=true\" width=\"300\" height=\"100\"/>"
   ]
  },
  {
   "cell_type": "code",
   "execution_count": 97,
   "id": "d1bc13fc",
   "metadata": {
    "scrolled": true
   },
   "outputs": [
    {
     "data": {
      "image/png": "[encoded data removed]",
      "text/plain": [
       "<Figure size 640x480 with 1 Axes>"
      ]
     },
     "metadata": {},
     "output_type": "display_data"
    },
    {
     "data": {
      "text/plain": [
       "<ggplot: (116740442905)>"
      ]
     },
     "execution_count": 97,
     "metadata": {},
     "output_type": "execute_result"
    }
   ],
   "source": [
    "(\n",
    "    ggplot(df)\n",
    "    + geom_boxplot(aes(x='species', y='sepal_length'))\n",
    ")"
   ]
  },
  {
   "cell_type": "markdown",
   "id": "ce9528c3",
   "metadata": {},
   "source": [
    "## Separar em target e feature\n",
    "\n",
    "<img src=\"https://github.com/fgiordanelli/Projeto1/blob/main/imagens/img12.png?raw=true\" width=\"300\" height=\"100\"/>"
   ]
  },
  {
   "cell_type": "code",
   "execution_count": 98,
   "id": "1475dfe8-9ffb-4cba-a062-75678cc0a968",
   "metadata": {},
   "outputs": [],
   "source": [
    "X = df.drop(columns = ['species'])\n",
    "y = df['species']"
   ]
  },
  {
   "cell_type": "markdown",
   "id": "c7bd55ab",
   "metadata": {},
   "source": [
    "## Separar em treino e teste e a variável target das features\n",
    "<img src=\"https://i.ibb.co/3csjYT2/image.png\" width=\"400\" height=\"100\"/>"
   ]
  },
  {
   "cell_type": "code",
   "execution_count": 100,
   "id": "f41f22bf",
   "metadata": {},
   "outputs": [],
   "source": [
    "X_train, X_test, y_train, y_test = train_test_split(X, y, test_size=0.33, random_state=42)"
   ]
  },
  {
   "cell_type": "markdown",
   "id": "88be02b8-d72b-4837-9202-b8f7eb2b57e8",
   "metadata": {},
   "source": [
    "## Treinar o modelo com os principais algorítimos supervisionados de Classificação\n",
    "<img src=\"https://github.com/fgiordanelli/Projeto1/blob/main/imagens/img8.png?raw=true\" width=\"250\" height=\"80\"/>"
   ]
  },
  {
   "cell_type": "code",
   "execution_count": 101,
   "id": "61f9a322-6694-4c48-858a-3141debb37e9",
   "metadata": {},
   "outputs": [],
   "source": [
    "LR = LogisticRegression(solver='lbfgs', max_iter=1000).fit(X_train, y_train)\n",
    "LDA = LinearDiscriminantAnalysis().fit(X_train, y_train)\n",
    "CART = DecisionTreeClassifier(min_samples_leaf=10).fit(X_train, y_train)\n",
    "KNN = KNeighborsClassifier().fit(X_train, y_train)\n",
    "SVM = SVC(probability=True).fit(X_train, y_train) \n",
    "RF = RandomForestClassifier().fit(X_train, y_train)"
   ]
  },
  {
   "cell_type": "markdown",
   "id": "e0ebda80",
   "metadata": {},
   "source": [
    "# Como funciona?"
   ]
  },
  {
   "cell_type": "code",
   "execution_count": 102,
   "id": "b453e25b",
   "metadata": {},
   "outputs": [
    {
     "data": {
      "text/html": [
       "<div>\n",
       "<style scoped>\n",
       "    .dataframe tbody tr th:only-of-type {\n",
       "        vertical-align: middle;\n",
       "    }\n",
       "\n",
       "    .dataframe tbody tr th {\n",
       "        vertical-align: top;\n",
       "    }\n",
       "\n",
       "    .dataframe thead th {\n",
       "        text-align: right;\n",
       "    }\n",
       "</style>\n",
       "<table border=\"1\" class=\"dataframe\">\n",
       "  <thead>\n",
       "    <tr style=\"text-align: right;\">\n",
       "      <th></th>\n",
       "      <th>sepal_length</th>\n",
       "      <th>sepal_width</th>\n",
       "      <th>petal_length</th>\n",
       "      <th>petal_width</th>\n",
       "      <th>probabilidade LR</th>\n",
       "      <th>probabilidade SVM</th>\n",
       "      <th>cutoff / threshold</th>\n",
       "      <th>predito LR</th>\n",
       "      <th>predito SVM</th>\n",
       "    </tr>\n",
       "  </thead>\n",
       "  <tbody>\n",
       "    <tr>\n",
       "      <th>28</th>\n",
       "      <td>5.2</td>\n",
       "      <td>3.4</td>\n",
       "      <td>1.4</td>\n",
       "      <td>0.2</td>\n",
       "      <td>0.027948</td>\n",
       "      <td>0.025407</td>\n",
       "      <td>0.5</td>\n",
       "      <td>setosa</td>\n",
       "      <td>setosa</td>\n",
       "    </tr>\n",
       "    <tr>\n",
       "      <th>93</th>\n",
       "      <td>5.0</td>\n",
       "      <td>2.3</td>\n",
       "      <td>3.3</td>\n",
       "      <td>1.0</td>\n",
       "      <td>0.885142</td>\n",
       "      <td>0.936894</td>\n",
       "      <td>0.5</td>\n",
       "      <td>versicolor</td>\n",
       "      <td>versicolor</td>\n",
       "    </tr>\n",
       "    <tr>\n",
       "      <th>5</th>\n",
       "      <td>5.4</td>\n",
       "      <td>3.9</td>\n",
       "      <td>1.7</td>\n",
       "      <td>0.4</td>\n",
       "      <td>0.045435</td>\n",
       "      <td>0.042750</td>\n",
       "      <td>0.5</td>\n",
       "      <td>setosa</td>\n",
       "      <td>setosa</td>\n",
       "    </tr>\n",
       "    <tr>\n",
       "      <th>66</th>\n",
       "      <td>5.6</td>\n",
       "      <td>3.0</td>\n",
       "      <td>4.5</td>\n",
       "      <td>1.5</td>\n",
       "      <td>0.991455</td>\n",
       "      <td>0.984590</td>\n",
       "      <td>0.5</td>\n",
       "      <td>versicolor</td>\n",
       "      <td>versicolor</td>\n",
       "    </tr>\n",
       "    <tr>\n",
       "      <th>65</th>\n",
       "      <td>6.7</td>\n",
       "      <td>3.1</td>\n",
       "      <td>4.4</td>\n",
       "      <td>1.4</td>\n",
       "      <td>0.992200</td>\n",
       "      <td>0.971493</td>\n",
       "      <td>0.5</td>\n",
       "      <td>versicolor</td>\n",
       "      <td>versicolor</td>\n",
       "    </tr>\n",
       "    <tr>\n",
       "      <th>...</th>\n",
       "      <td>...</td>\n",
       "      <td>...</td>\n",
       "      <td>...</td>\n",
       "      <td>...</td>\n",
       "      <td>...</td>\n",
       "      <td>...</td>\n",
       "      <td>...</td>\n",
       "      <td>...</td>\n",
       "      <td>...</td>\n",
       "    </tr>\n",
       "    <tr>\n",
       "      <th>60</th>\n",
       "      <td>5.0</td>\n",
       "      <td>2.0</td>\n",
       "      <td>3.5</td>\n",
       "      <td>1.0</td>\n",
       "      <td>0.937784</td>\n",
       "      <td>0.964042</td>\n",
       "      <td>0.5</td>\n",
       "      <td>versicolor</td>\n",
       "      <td>versicolor</td>\n",
       "    </tr>\n",
       "    <tr>\n",
       "      <th>71</th>\n",
       "      <td>6.1</td>\n",
       "      <td>2.8</td>\n",
       "      <td>4.0</td>\n",
       "      <td>1.3</td>\n",
       "      <td>0.979818</td>\n",
       "      <td>0.976196</td>\n",
       "      <td>0.5</td>\n",
       "      <td>versicolor</td>\n",
       "      <td>versicolor</td>\n",
       "    </tr>\n",
       "    <tr>\n",
       "      <th>14</th>\n",
       "      <td>5.8</td>\n",
       "      <td>4.0</td>\n",
       "      <td>1.2</td>\n",
       "      <td>0.2</td>\n",
       "      <td>0.014736</td>\n",
       "      <td>0.018769</td>\n",
       "      <td>0.5</td>\n",
       "      <td>setosa</td>\n",
       "      <td>setosa</td>\n",
       "    </tr>\n",
       "    <tr>\n",
       "      <th>92</th>\n",
       "      <td>5.8</td>\n",
       "      <td>2.6</td>\n",
       "      <td>4.0</td>\n",
       "      <td>1.2</td>\n",
       "      <td>0.978630</td>\n",
       "      <td>0.980049</td>\n",
       "      <td>0.5</td>\n",
       "      <td>versicolor</td>\n",
       "      <td>versicolor</td>\n",
       "    </tr>\n",
       "    <tr>\n",
       "      <th>51</th>\n",
       "      <td>6.4</td>\n",
       "      <td>3.2</td>\n",
       "      <td>4.5</td>\n",
       "      <td>1.5</td>\n",
       "      <td>0.992888</td>\n",
       "      <td>0.975948</td>\n",
       "      <td>0.5</td>\n",
       "      <td>versicolor</td>\n",
       "      <td>versicolor</td>\n",
       "    </tr>\n",
       "  </tbody>\n",
       "</table>\n",
       "<p>67 rows × 9 columns</p>\n",
       "</div>"
      ],
      "text/plain": [
       "    sepal_length  sepal_width  petal_length  petal_width  probabilidade LR  \\\n",
       "28           5.2          3.4           1.4          0.2          0.027948   \n",
       "93           5.0          2.3           3.3          1.0          0.885142   \n",
       "5            5.4          3.9           1.7          0.4          0.045435   \n",
       "66           5.6          3.0           4.5          1.5          0.991455   \n",
       "65           6.7          3.1           4.4          1.4          0.992200   \n",
       "..           ...          ...           ...          ...               ...   \n",
       "60           5.0          2.0           3.5          1.0          0.937784   \n",
       "71           6.1          2.8           4.0          1.3          0.979818   \n",
       "14           5.8          4.0           1.2          0.2          0.014736   \n",
       "92           5.8          2.6           4.0          1.2          0.978630   \n",
       "51           6.4          3.2           4.5          1.5          0.992888   \n",
       "\n",
       "    probabilidade SVM  cutoff / threshold  predito LR predito SVM  \n",
       "28           0.025407                 0.5      setosa      setosa  \n",
       "93           0.936894                 0.5  versicolor  versicolor  \n",
       "5            0.042750                 0.5      setosa      setosa  \n",
       "66           0.984590                 0.5  versicolor  versicolor  \n",
       "65           0.971493                 0.5  versicolor  versicolor  \n",
       "..                ...                 ...         ...         ...  \n",
       "60           0.964042                 0.5  versicolor  versicolor  \n",
       "71           0.976196                 0.5  versicolor  versicolor  \n",
       "14           0.018769                 0.5      setosa      setosa  \n",
       "92           0.980049                 0.5  versicolor  versicolor  \n",
       "51           0.975948                 0.5  versicolor  versicolor  \n",
       "\n",
       "[67 rows x 9 columns]"
      ]
     },
     "execution_count": 102,
     "metadata": {},
     "output_type": "execute_result"
    }
   ],
   "source": [
    "X_train2 = X_train.copy()\n",
    "X_train2['probabilidade LR'] = LR.predict_proba(X_train)[:,1]\n",
    "X_train2['probabilidade SVM'] = SVM.predict_proba(X_train)[:,1]\n",
    "X_train2['cutoff / threshold'] = 0.5\n",
    "X_train2['predito LR'] = LR.predict(X_train)\n",
    "X_train2['predito SVM'] = SVM.predict(X_train)\n",
    "X_train2"
   ]
  },
  {
   "cell_type": "markdown",
   "id": "2c4500e0",
   "metadata": {},
   "source": [
    "## Escolher a métrica"
   ]
  },
  {
   "cell_type": "code",
   "execution_count": 103,
   "id": "b96163f2",
   "metadata": {
    "scrolled": true
   },
   "outputs": [
    {
     "name": "stdout",
     "output_type": "stream",
     "text": [
      "Acurácia treino LR: 1.0 \n",
      "\n",
      "Acurácia treino LDA: 1.0 \n",
      "\n",
      "Acurácia treino CART: 1.0 \n",
      "\n",
      "Acurácia treino KNN: 1.0 \n",
      "\n",
      "Acurácia treino SVM: 1.0 \n",
      "\n",
      "Acurácia treino RF: 1.0 \n",
      "\n"
     ]
    }
   ],
   "source": [
    "print(\"Acurácia treino LR:\", LR.score(X_train[['sepal_length','sepal_width','petal_length','petal_width']], y_train), \"\\n\")\n",
    "print(\"Acurácia treino LDA:\", LDA.score(X_train[['sepal_length','sepal_width','petal_length','petal_width']], y_train), \"\\n\")\n",
    "print(\"Acurácia treino CART:\", CART.score(X_train[['sepal_length','sepal_width','petal_length','petal_width']], y_train), \"\\n\")\n",
    "print(\"Acurácia treino KNN:\", KNN.score(X_train[['sepal_length','sepal_width','petal_length','petal_width']], y_train), \"\\n\")\n",
    "print(\"Acurácia treino SVM:\", SVM.score(X_train[['sepal_length','sepal_width','petal_length','petal_width']], y_train), \"\\n\")\n",
    "print(\"Acurácia treino RF:\", SVM.score(X_train[['sepal_length','sepal_width','petal_length','petal_width']], y_train), \"\\n\")"
   ]
  },
  {
   "cell_type": "markdown",
   "id": "18d3e3d9",
   "metadata": {},
   "source": [
    "## Encapsular o modelo e Salvar\n",
    "\n",
    "<img src=\"https://github.com/fgiordanelli/Projeto1/blob/main/imagens/img9.png?raw=true\" width=\"200\" height=\"80\"/>"
   ]
  },
  {
   "cell_type": "code",
   "execution_count": 104,
   "id": "74d839e6",
   "metadata": {},
   "outputs": [],
   "source": [
    "pickle.dump(LR, open('Modelo_Iris.sav', 'wb'))"
   ]
  },
  {
   "cell_type": "markdown",
   "id": "8a4ea492",
   "metadata": {},
   "source": [
    "## Abrir modelo salvo\n",
    "\n",
    "<img src=\"https://github.com/fgiordanelli/Projeto1/blob/main/imagens/img10.png?raw=true\" width=\"300\" height=\"100\"/>\n"
   ]
  },
  {
   "cell_type": "code",
   "execution_count": 105,
   "id": "91ea9fc2",
   "metadata": {},
   "outputs": [],
   "source": [
    "loaded_model = pickle.load(open('Modelo_Iris.sav', 'rb'))"
   ]
  },
  {
   "cell_type": "markdown",
   "id": "8bbde248",
   "metadata": {},
   "source": [
    "## Testar agora pro teste. Ver se houve overfitting\n",
    "\n",
    "<img src=\"https://github.com/fgiordanelli/Projeto1/blob/main/imagens/img11.png?raw=true\" width=\"150\" height=\"80\"/>"
   ]
  },
  {
   "cell_type": "code",
   "execution_count": 106,
   "id": "6204878c",
   "metadata": {},
   "outputs": [
    {
     "name": "stdout",
     "output_type": "stream",
     "text": [
      "Acurácia teste LR: 1.0 \n",
      "\n"
     ]
    }
   ],
   "source": [
    "print(\"Acurácia teste LR:\", loaded_model.score(X_test, y_test), \"\\n\")"
   ]
  },
  {
   "cell_type": "code",
   "execution_count": null,
   "id": "ccf01302",
   "metadata": {},
   "outputs": [],
   "source": [
    "sepal_length = input()\n",
    "sepal_width = input()\n",
    "petal_length = input()\n",
    "petal_width = input()"
   ]
  },
  {
   "cell_type": "code",
   "execution_count": 90,
   "id": "6860858e",
   "metadata": {},
   "outputs": [
    {
     "name": "stdout",
     "output_type": "stream",
     "text": [
      "Prediction: ['versicolor']\n"
     ]
    }
   ],
   "source": [
    "prediction = loaded_model.predict(np.array([[sepal_length, sepal_width, petal_length, petal_width]]))\n",
    "print(f\"Prediction: {prediction}\")"
   ]
  },
  {
   "cell_type": "code",
   "execution_count": null,
   "id": "91d8b600",
   "metadata": {},
   "outputs": [],
   "source": []
  }
 ],
 "metadata": {
  "kernelspec": {
   "display_name": "Python 3 (ipykernel)",
   "language": "python",
   "name": "python3"
  },
  "language_info": {
   "codemirror_mode": {
    "name": "ipython",
    "version": 3
   },
   "file_extension": ".py",
   "mimetype": "text/x-python",
   "name": "python",
   "nbconvert_exporter": "python",
   "pygments_lexer": "ipython3",
   "version": "3.10.2"
  },
  "toc-autonumbering": false,
  "toc-showcode": false,
  "toc-showmarkdowntxt": true
 },
 "nbformat": 4,
 "nbformat_minor": 5
}
