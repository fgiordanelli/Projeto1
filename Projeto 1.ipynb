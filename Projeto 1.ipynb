{
 "cells": [
  {
   "cell_type": "markdown",
   "id": "4db2a454-fa71-41c3-929a-c38c41386118",
   "metadata": {},
   "source": [
    "# Projeto 1 - Iris"
   ]
  },
  {
   "cell_type": "code",
   "execution_count": 151,
   "id": "e6a6d9b3-a08f-4479-b541-e7f66f6ce22b",
   "metadata": {},
   "outputs": [],
   "source": [
    "import numpy as np\n",
    "import pandas as pd\n",
    "import matplotlib.pyplot as plt\n",
    "from sklearn.model_selection import train_test_split\n",
    "from sklearn.linear_model import LogisticRegression\n",
    "from sklearn.tree import DecisionTreeClassifier\n",
    "from sklearn.neighbors import KNeighborsClassifier\n",
    "from sklearn.discriminant_analysis import LinearDiscriminantAnalysis\n",
    "from sklearn.ensemble import RandomForestClassifier\n",
    "from sklearn.svm import SVC\n",
    "from sklearn.metrics import plot_confusion_matrix\n",
    "from sklearn.metrics import precision_score\n",
    "from sklearn.metrics import recall_score\n",
    "from sklearn.metrics import plot_roc_curve"
   ]
  },
  {
   "cell_type": "markdown",
   "id": "49baca0b-d041-4d53-a8a6-c0a6465335ac",
   "metadata": {},
   "source": [
    "<img src=\"http://miro.medium.com/max/1000/1*Hh53mOF4Xy4eORjLilKOwA.png\" width=\"700\" height=\"100\"/>"
   ]
  },
  {
   "cell_type": "code",
   "execution_count": 138,
   "id": "b5084f8f-76ec-4163-aeec-5842c915d510",
   "metadata": {},
   "outputs": [
    {
     "data": {
      "text/html": [
       "<div>\n",
       "<style scoped>\n",
       "    .dataframe tbody tr th:only-of-type {\n",
       "        vertical-align: middle;\n",
       "    }\n",
       "\n",
       "    .dataframe tbody tr th {\n",
       "        vertical-align: top;\n",
       "    }\n",
       "\n",
       "    .dataframe thead th {\n",
       "        text-align: right;\n",
       "    }\n",
       "</style>\n",
       "<table border=\"1\" class=\"dataframe\">\n",
       "  <thead>\n",
       "    <tr style=\"text-align: right;\">\n",
       "      <th></th>\n",
       "      <th>sepal_length</th>\n",
       "      <th>sepal_width</th>\n",
       "      <th>petal_length</th>\n",
       "      <th>petal_width</th>\n",
       "      <th>species</th>\n",
       "    </tr>\n",
       "  </thead>\n",
       "  <tbody>\n",
       "    <tr>\n",
       "      <th>0</th>\n",
       "      <td>5.1</td>\n",
       "      <td>3.5</td>\n",
       "      <td>1.4</td>\n",
       "      <td>0.2</td>\n",
       "      <td>setosa</td>\n",
       "    </tr>\n",
       "    <tr>\n",
       "      <th>1</th>\n",
       "      <td>4.9</td>\n",
       "      <td>3.0</td>\n",
       "      <td>1.4</td>\n",
       "      <td>0.2</td>\n",
       "      <td>setosa</td>\n",
       "    </tr>\n",
       "    <tr>\n",
       "      <th>2</th>\n",
       "      <td>4.7</td>\n",
       "      <td>3.2</td>\n",
       "      <td>1.3</td>\n",
       "      <td>0.2</td>\n",
       "      <td>setosa</td>\n",
       "    </tr>\n",
       "    <tr>\n",
       "      <th>3</th>\n",
       "      <td>4.6</td>\n",
       "      <td>3.1</td>\n",
       "      <td>1.5</td>\n",
       "      <td>0.2</td>\n",
       "      <td>setosa</td>\n",
       "    </tr>\n",
       "    <tr>\n",
       "      <th>4</th>\n",
       "      <td>5.0</td>\n",
       "      <td>3.6</td>\n",
       "      <td>1.4</td>\n",
       "      <td>0.2</td>\n",
       "      <td>setosa</td>\n",
       "    </tr>\n",
       "    <tr>\n",
       "      <th>...</th>\n",
       "      <td>...</td>\n",
       "      <td>...</td>\n",
       "      <td>...</td>\n",
       "      <td>...</td>\n",
       "      <td>...</td>\n",
       "    </tr>\n",
       "    <tr>\n",
       "      <th>145</th>\n",
       "      <td>6.7</td>\n",
       "      <td>3.0</td>\n",
       "      <td>5.2</td>\n",
       "      <td>2.3</td>\n",
       "      <td>virginica</td>\n",
       "    </tr>\n",
       "    <tr>\n",
       "      <th>146</th>\n",
       "      <td>6.3</td>\n",
       "      <td>2.5</td>\n",
       "      <td>5.0</td>\n",
       "      <td>1.9</td>\n",
       "      <td>virginica</td>\n",
       "    </tr>\n",
       "    <tr>\n",
       "      <th>147</th>\n",
       "      <td>6.5</td>\n",
       "      <td>3.0</td>\n",
       "      <td>5.2</td>\n",
       "      <td>2.0</td>\n",
       "      <td>virginica</td>\n",
       "    </tr>\n",
       "    <tr>\n",
       "      <th>148</th>\n",
       "      <td>6.2</td>\n",
       "      <td>3.4</td>\n",
       "      <td>5.4</td>\n",
       "      <td>2.3</td>\n",
       "      <td>virginica</td>\n",
       "    </tr>\n",
       "    <tr>\n",
       "      <th>149</th>\n",
       "      <td>5.9</td>\n",
       "      <td>3.0</td>\n",
       "      <td>5.1</td>\n",
       "      <td>1.8</td>\n",
       "      <td>virginica</td>\n",
       "    </tr>\n",
       "  </tbody>\n",
       "</table>\n",
       "<p>150 rows × 5 columns</p>\n",
       "</div>"
      ],
      "text/plain": [
       "     sepal_length  sepal_width  petal_length  petal_width    species\n",
       "0             5.1          3.5           1.4          0.2     setosa\n",
       "1             4.9          3.0           1.4          0.2     setosa\n",
       "2             4.7          3.2           1.3          0.2     setosa\n",
       "3             4.6          3.1           1.5          0.2     setosa\n",
       "4             5.0          3.6           1.4          0.2     setosa\n",
       "..            ...          ...           ...          ...        ...\n",
       "145           6.7          3.0           5.2          2.3  virginica\n",
       "146           6.3          2.5           5.0          1.9  virginica\n",
       "147           6.5          3.0           5.2          2.0  virginica\n",
       "148           6.2          3.4           5.4          2.3  virginica\n",
       "149           5.9          3.0           5.1          1.8  virginica\n",
       "\n",
       "[150 rows x 5 columns]"
      ]
     },
     "execution_count": 138,
     "metadata": {},
     "output_type": "execute_result"
    }
   ],
   "source": [
    "df = pd.read_csv(\"https://gist.githubusercontent.com/curran/a08a1080b88344b0c8a7/raw/0e7a9b0a5d22642a06d3d5b9bcbad9890c8ee534/iris.csv\")\n",
    "df"
   ]
  },
  {
   "cell_type": "code",
   "execution_count": 139,
   "id": "9139035d-84a1-4f51-8e82-d38fcd8759c3",
   "metadata": {},
   "outputs": [
    {
     "data": {
      "text/plain": [
       "0          setosa\n",
       "50     versicolor\n",
       "100     virginica\n",
       "Name: species, dtype: object"
      ]
     },
     "execution_count": 139,
     "metadata": {},
     "output_type": "execute_result"
    }
   ],
   "source": [
    "df[\"species\"].drop_duplicates()"
   ]
  },
  {
   "cell_type": "markdown",
   "id": "d6881f8e-a24e-44bc-954c-35500f923689",
   "metadata": {},
   "source": [
    "# Separar em Treino e Teste\n",
    "\n",
    "<img src=\"data:image/png;base64,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\" width=\"400\" height=\"100\">"
   ]
  },
  {
   "cell_type": "code",
   "execution_count": 140,
   "id": "1475dfe8-9ffb-4cba-a062-75678cc0a968",
   "metadata": {},
   "outputs": [],
   "source": [
    "train , test = train_test_split(df,test_size=0.2,random_state=0)"
   ]
  },
  {
   "cell_type": "code",
   "execution_count": 141,
   "id": "851281a7-fa35-46de-8281-f45fe4167f0a",
   "metadata": {},
   "outputs": [],
   "source": [
    "train = train.query(\"species == 'versicolor' | species == 'virginica'\")\n",
    "test = test.query(\"species == 'versicolor' | species == 'virginica'\")\n"
   ]
  },
  {
   "cell_type": "code",
   "execution_count": 142,
   "id": "17b493eb-d5ae-4aac-8857-f4fe4b7324ba",
   "metadata": {},
   "outputs": [],
   "source": [
    "train['species'] = np.where(train['species'] == \"versicolor\", 0,1)\n",
    "test['species'] = np.where(test['species'] == \"versicolor\", 0,1)"
   ]
  },
  {
   "cell_type": "markdown",
   "id": "23a5f8cd-169f-4240-a934-9ffaad682c69",
   "metadata": {},
   "source": [
    "# Retirar colunas que não usaremos\n",
    "\n",
    "<img src=\"https://cdn2.iconfinder.com/data/icons/flat-pro-word-processing-set-5/32/table-column-delete-512.png\" width=\"200\" height=\"100\"/>"
   ]
  },
  {
   "cell_type": "markdown",
   "id": "5beb7cac-4df7-434e-9acd-9e2f40eef79e",
   "metadata": {},
   "source": [
    "# Valor Vazio\n",
    "\n",
    "<img src=\"https://www.logianalytics.com/wp-content/uploads/2019/06/Missing-values-2.png\" width=\"250\" height=\"100\"/>"
   ]
  },
  {
   "cell_type": "code",
   "execution_count": 143,
   "id": "77f78c07-f904-4dc0-a7df-47e058917141",
   "metadata": {
    "tags": []
   },
   "outputs": [
    {
     "data": {
      "text/html": [
       "<div>\n",
       "<style scoped>\n",
       "    .dataframe tbody tr th:only-of-type {\n",
       "        vertical-align: middle;\n",
       "    }\n",
       "\n",
       "    .dataframe tbody tr th {\n",
       "        vertical-align: top;\n",
       "    }\n",
       "\n",
       "    .dataframe thead th {\n",
       "        text-align: right;\n",
       "    }\n",
       "</style>\n",
       "<table border=\"1\" class=\"dataframe\">\n",
       "  <thead>\n",
       "    <tr style=\"text-align: right;\">\n",
       "      <th></th>\n",
       "      <th>Valor Vazio</th>\n",
       "    </tr>\n",
       "  </thead>\n",
       "  <tbody>\n",
       "    <tr>\n",
       "      <th>sepal_length</th>\n",
       "      <td>0</td>\n",
       "    </tr>\n",
       "    <tr>\n",
       "      <th>sepal_width</th>\n",
       "      <td>0</td>\n",
       "    </tr>\n",
       "    <tr>\n",
       "      <th>petal_length</th>\n",
       "      <td>0</td>\n",
       "    </tr>\n",
       "    <tr>\n",
       "      <th>petal_width</th>\n",
       "      <td>0</td>\n",
       "    </tr>\n",
       "    <tr>\n",
       "      <th>species</th>\n",
       "      <td>0</td>\n",
       "    </tr>\n",
       "  </tbody>\n",
       "</table>\n",
       "</div>"
      ],
      "text/plain": [
       "              Valor Vazio\n",
       "sepal_length            0\n",
       "sepal_width             0\n",
       "petal_length            0\n",
       "petal_width             0\n",
       "species                 0"
      ]
     },
     "execution_count": 143,
     "metadata": {},
     "output_type": "execute_result"
    }
   ],
   "source": [
    "pd.isna(df).sum().to_frame('Valor Vazio')"
   ]
  },
  {
   "cell_type": "markdown",
   "id": "7c049483-4042-41e4-9079-2daa953c5ce2",
   "metadata": {},
   "source": [
    "# Categóricas em numéricas\n",
    "\n",
    "<img src=\"https://miro.medium.com/max/1879/1*O_pTwOZZLYZabRjw3Ga21A.png\" width=\"600\" height=\"100\"/>"
   ]
  },
  {
   "cell_type": "markdown",
   "id": "754a1fb9-f232-45a2-9095-f0d8119b7db7",
   "metadata": {},
   "source": [
    "# Separar a variável target das features (tanto do treino como do teste)\n",
    "<img src=\"./Downloads/image.png\" width=\"400\" height=\"100\"/>"
   ]
  },
  {
   "cell_type": "code",
   "execution_count": 144,
   "id": "dd4a56c8-4956-4920-9ee7-f8434cbceb84",
   "metadata": {},
   "outputs": [],
   "source": [
    "train_x = train.drop('species',axis=1)\n",
    "train_y = train['species']"
   ]
  },
  {
   "cell_type": "code",
   "execution_count": 145,
   "id": "df566005-4438-480e-ac1e-0dd65fba8271",
   "metadata": {},
   "outputs": [],
   "source": [
    "test_x = test.drop('species',axis=1)\n",
    "test_y = test['species']"
   ]
  },
  {
   "cell_type": "code",
   "execution_count": 146,
   "id": "2d383ce4-d515-4ec9-a1f5-eb0e1a330bf6",
   "metadata": {},
   "outputs": [
    {
     "data": {
      "text/html": [
       "<div>\n",
       "<style scoped>\n",
       "    .dataframe tbody tr th:only-of-type {\n",
       "        vertical-align: middle;\n",
       "    }\n",
       "\n",
       "    .dataframe tbody tr th {\n",
       "        vertical-align: top;\n",
       "    }\n",
       "\n",
       "    .dataframe thead th {\n",
       "        text-align: right;\n",
       "    }\n",
       "</style>\n",
       "<table border=\"1\" class=\"dataframe\">\n",
       "  <thead>\n",
       "    <tr style=\"text-align: right;\">\n",
       "      <th></th>\n",
       "      <th>sepal_length</th>\n",
       "      <th>sepal_width</th>\n",
       "      <th>petal_length</th>\n",
       "      <th>petal_width</th>\n",
       "    </tr>\n",
       "  </thead>\n",
       "  <tbody>\n",
       "    <tr>\n",
       "      <th>137</th>\n",
       "      <td>6.4</td>\n",
       "      <td>3.1</td>\n",
       "      <td>5.5</td>\n",
       "      <td>1.8</td>\n",
       "    </tr>\n",
       "    <tr>\n",
       "      <th>84</th>\n",
       "      <td>5.4</td>\n",
       "      <td>3.0</td>\n",
       "      <td>4.5</td>\n",
       "      <td>1.5</td>\n",
       "    </tr>\n",
       "    <tr>\n",
       "      <th>127</th>\n",
       "      <td>6.1</td>\n",
       "      <td>3.0</td>\n",
       "      <td>4.9</td>\n",
       "      <td>1.8</td>\n",
       "    </tr>\n",
       "    <tr>\n",
       "      <th>132</th>\n",
       "      <td>6.4</td>\n",
       "      <td>2.8</td>\n",
       "      <td>5.6</td>\n",
       "      <td>2.2</td>\n",
       "    </tr>\n",
       "    <tr>\n",
       "      <th>59</th>\n",
       "      <td>5.2</td>\n",
       "      <td>2.7</td>\n",
       "      <td>3.9</td>\n",
       "      <td>1.4</td>\n",
       "    </tr>\n",
       "    <tr>\n",
       "      <th>...</th>\n",
       "      <td>...</td>\n",
       "      <td>...</td>\n",
       "      <td>...</td>\n",
       "      <td>...</td>\n",
       "    </tr>\n",
       "    <tr>\n",
       "      <th>70</th>\n",
       "      <td>5.9</td>\n",
       "      <td>3.2</td>\n",
       "      <td>4.8</td>\n",
       "      <td>1.8</td>\n",
       "    </tr>\n",
       "    <tr>\n",
       "      <th>87</th>\n",
       "      <td>6.3</td>\n",
       "      <td>2.3</td>\n",
       "      <td>4.4</td>\n",
       "      <td>1.3</td>\n",
       "    </tr>\n",
       "    <tr>\n",
       "      <th>103</th>\n",
       "      <td>6.3</td>\n",
       "      <td>2.9</td>\n",
       "      <td>5.6</td>\n",
       "      <td>1.8</td>\n",
       "    </tr>\n",
       "    <tr>\n",
       "      <th>67</th>\n",
       "      <td>5.8</td>\n",
       "      <td>2.7</td>\n",
       "      <td>4.1</td>\n",
       "      <td>1.0</td>\n",
       "    </tr>\n",
       "    <tr>\n",
       "      <th>117</th>\n",
       "      <td>7.7</td>\n",
       "      <td>3.8</td>\n",
       "      <td>6.7</td>\n",
       "      <td>2.2</td>\n",
       "    </tr>\n",
       "  </tbody>\n",
       "</table>\n",
       "<p>81 rows × 4 columns</p>\n",
       "</div>"
      ],
      "text/plain": [
       "     sepal_length  sepal_width  petal_length  petal_width\n",
       "137           6.4          3.1           5.5          1.8\n",
       "84            5.4          3.0           4.5          1.5\n",
       "127           6.1          3.0           4.9          1.8\n",
       "132           6.4          2.8           5.6          2.2\n",
       "59            5.2          2.7           3.9          1.4\n",
       "..            ...          ...           ...          ...\n",
       "70            5.9          3.2           4.8          1.8\n",
       "87            6.3          2.3           4.4          1.3\n",
       "103           6.3          2.9           5.6          1.8\n",
       "67            5.8          2.7           4.1          1.0\n",
       "117           7.7          3.8           6.7          2.2\n",
       "\n",
       "[81 rows x 4 columns]"
      ]
     },
     "execution_count": 146,
     "metadata": {},
     "output_type": "execute_result"
    }
   ],
   "source": [
    "train_x"
   ]
  },
  {
   "cell_type": "markdown",
   "id": "9cfde230-1b8b-448a-a192-951ea5e22ca4",
   "metadata": {},
   "source": [
    "# Variável target categórica"
   ]
  },
  {
   "cell_type": "markdown",
   "id": "88be02b8-d72b-4837-9202-b8f7eb2b57e8",
   "metadata": {},
   "source": [
    "## Treinar o modelo com os principais algorítimos supervisionados de Classificação\n",
    "<img src=\"https://i.ibb.co/N3pbLFp/LR-LDA-DT-KNN-SVM-RF.png\" width=\"200\" height=\"80\"/>"
   ]
  },
  {
   "cell_type": "code",
   "execution_count": 147,
   "id": "61f9a322-6694-4c48-858a-3141debb37e9",
   "metadata": {},
   "outputs": [],
   "source": [
    "LR = LogisticRegression(solver='lbfgs', max_iter=1000).fit(train_x, train_y)\n",
    "LDA = LinearDiscriminantAnalysis().fit(train_x, train_y)\n",
    "DT = DecisionTreeClassifier().fit(train_x, train_y)\n",
    "KNN = KNeighborsClassifier().fit(train_x, train_y)\n",
    "SVM = SVC().fit(train_x,train_y) \n",
    "RF = RandomForestClassifier().fit(train_x,train_y)"
   ]
  },
  {
   "cell_type": "code",
   "execution_count": 148,
   "id": "3c764460-8cdd-4eae-9592-0b36638f8eb5",
   "metadata": {},
   "outputs": [
    {
     "name": "stdout",
     "output_type": "stream",
     "text": [
      "Acurácia LR: 1.0 \n",
      "\n",
      "Acurácia LDA: 1.0 \n",
      "\n",
      "Acurácia DT: 1.0 \n",
      "\n",
      "Acurácia KNN: 0.9473684210526315 \n",
      "\n",
      "Acurácia SVM: 1.0 \n",
      "\n",
      "Acurácia RF: 1.0 \n",
      "\n"
     ]
    }
   ],
   "source": [
    "print(\"Acurácia LR:\", LR.score(test_x, test_y), \"\\n\")\n",
    "print(\"Acurácia LDA:\", LDA.score(test_x, test_y), \"\\n\")\n",
    "print(\"Acurácia DT:\", DT.score(test_x, test_y), \"\\n\")\n",
    "print(\"Acurácia KNN:\", KNN.score(test_x, test_y), \"\\n\")\n",
    "print(\"Acurácia SVM:\", SVM.score(test_x, test_y), \"\\n\")\n",
    "print(\"Acurácia RF:\", SVM.score(test_x, test_y), \"\\n\")"
   ]
  },
  {
   "cell_type": "markdown",
   "id": "b6b00b65-88fc-43ab-a590-586319f19266",
   "metadata": {
    "tags": []
   },
   "source": [
    "## Matriz de confusão + Métricas\n",
    "<img src=\"https://www.researchgate.net/profile/Rune-Jacobsen/publication/334840641/figure/fig3/AS:794222751928321@1566368868347/Confusion-matrix-and-evaluation-metrics.png\" width=\"350\" height=\"80\"/>"
   ]
  },
  {
   "cell_type": "code",
   "execution_count": 149,
   "id": "f291cb16-a12f-404a-8b49-d7d2c6ec2a54",
   "metadata": {},
   "outputs": [
    {
     "data": {
      "image/png": "[encoded data removed]",
      "text/plain": [
       "<Figure size 576x396 with 2 Axes>"
      ]
     },
     "metadata": {},
     "output_type": "display_data"
    }
   ],
   "source": [
    "plot_confusion_matrix(LR, test_x, test_y)\n",
    "plt.show()"
   ]
  },
  {
   "cell_type": "markdown",
   "id": "68d5ddd7-ab5d-4bfc-8d21-d274c4070322",
   "metadata": {},
   "source": [
    "## Curva ROC\n",
    "<img src=\"https://upload.wikimedia.org/wikipedia/commons/thumb/3/36/Roc-draft-xkcd-style.svg/250px-Roc-draft-xkcd-style.svg.png\" width=\"350\" height=\"80\"/>"
   ]
  },
  {
   "cell_type": "code",
   "execution_count": 152,
   "id": "e61dcd3b-1104-423d-8e9f-23b7ca42ac8d",
   "metadata": {},
   "outputs": [
    {
     "data": {
      "text/plain": [
       "<sklearn.metrics._plot.roc_curve.RocCurveDisplay at 0x13de66bb0>"
      ]
     },
     "execution_count": 152,
     "metadata": {},
     "output_type": "execute_result"
    },
    {
     "data": {
      "image/png": "[encoded data removed]",
      "text/plain": [
       "<Figure size 576x396 with 1 Axes>"
      ]
     },
     "metadata": {},
     "output_type": "display_data"
    }
   ],
   "source": [
    "plot_roc_curve(LR, test_x, test_y, ax=plt.gca())\n",
    "plot_roc_curve(LDA, test_x, test_y, ax=plt.gca())\n",
    "plot_roc_curve(DT, test_x, test_y, ax=plt.gca())\n",
    "plot_roc_curve(KNN, test_x, test_y, ax=plt.gca())\n",
    "plot_roc_curve(SVM, test_x, test_y, ax=plt.gca())\n",
    "plot_roc_curve(RF, test_x, test_y, ax=plt.gca())"
   ]
  },
  {
   "cell_type": "code",
   "execution_count": null,
   "id": "b42b3b77-84a2-4d0c-812e-e48a6ae40346",
   "metadata": {},
   "outputs": [],
   "source": []
  }
 ],
 "metadata": {
  "kernelspec": {
   "display_name": "Python 3",
   "language": "python",
   "name": "python3"
  },
  "language_info": {
   "codemirror_mode": {
    "name": "ipython",
    "version": 3
   },
   "file_extension": ".py",
   "mimetype": "text/x-python",
   "name": "python",
   "nbconvert_exporter": "python",
   "pygments_lexer": "ipython3",
   "version": "3.9.0"
  },
  "toc-autonumbering": false,
  "toc-showcode": false,
  "toc-showmarkdowntxt": true
 },
 "nbformat": 4,
 "nbformat_minor": 5
}
