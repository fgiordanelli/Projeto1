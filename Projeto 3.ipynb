{
 "cells": [
  {
   "cell_type": "markdown",
   "id": "7c62a857-1051-4521-a218-85154c7401f7",
   "metadata": {},
   "source": [
    "# Projeto 3 - Tem diabete ou não tem\n",
    "\n",
    "<img src=\"https://static.tuasaude.com/media/article/dr/nj/diabetes_52276_l.jpg\" width=\"400\" height=\"100\"/>\n",
    "\n",
    "O objetivo do conjunto de dados é prever diagnosticamente se um paciente tem diabetes ou não, com base em certas medidas diagnósticas incluídas no conjunto de dados"
   ]
  },
  {
   "cell_type": "code",
   "execution_count": 65,
   "id": "a2814329-fd97-4fcd-afcc-76be102aff4c",
   "metadata": {},
   "outputs": [],
   "source": [
    "import numpy as np\n",
    "import pandas as pd\n",
    "import matplotlib.pyplot as plt\n",
    "from sklearn.model_selection import train_test_split\n",
    "from sklearn.preprocessing import MinMaxScaler\n",
    "from sklearn.preprocessing import LabelEncoder\n",
    "from sklearn.preprocessing import OneHotEncoder\n",
    "from sklearn.linear_model import LogisticRegression\n",
    "from sklearn.tree import DecisionTreeClassifier\n",
    "from sklearn.neighbors import KNeighborsClassifier\n",
    "from sklearn.discriminant_analysis import LinearDiscriminantAnalysis\n",
    "from sklearn.ensemble import RandomForestClassifier\n",
    "from sklearn.svm import SVC\n",
    "from sklearn.metrics import plot_confusion_matrix\n",
    "from sklearn.metrics import precision_score\n",
    "from sklearn.metrics import recall_score\n",
    "from sklearn.metrics import plot_roc_curve\n",
    "from sklearn.metrics import plot_precision_recall_curve\n",
    "from plotnine import *"
   ]
  },
  {
   "cell_type": "code",
   "execution_count": 66,
   "id": "0af268e5-1322-4053-b4db-72e0f1737c8e",
   "metadata": {},
   "outputs": [
    {
     "data": {
      "text/html": [
       "<div>\n",
       "<style scoped>\n",
       "    .dataframe tbody tr th:only-of-type {\n",
       "        vertical-align: middle;\n",
       "    }\n",
       "\n",
       "    .dataframe tbody tr th {\n",
       "        vertical-align: top;\n",
       "    }\n",
       "\n",
       "    .dataframe thead th {\n",
       "        text-align: right;\n",
       "    }\n",
       "</style>\n",
       "<table border=\"1\" class=\"dataframe\">\n",
       "  <thead>\n",
       "    <tr style=\"text-align: right;\">\n",
       "      <th></th>\n",
       "      <th>Pregnancies</th>\n",
       "      <th>Glucose</th>\n",
       "      <th>BloodPressure</th>\n",
       "      <th>SkinThickness</th>\n",
       "      <th>Insulin</th>\n",
       "      <th>BMI</th>\n",
       "      <th>DiabetesPedigreeFunction</th>\n",
       "      <th>Age</th>\n",
       "      <th>Outcome</th>\n",
       "    </tr>\n",
       "  </thead>\n",
       "  <tbody>\n",
       "    <tr>\n",
       "      <th>0</th>\n",
       "      <td>6</td>\n",
       "      <td>148</td>\n",
       "      <td>72</td>\n",
       "      <td>35</td>\n",
       "      <td>0</td>\n",
       "      <td>33.6</td>\n",
       "      <td>0.627</td>\n",
       "      <td>50</td>\n",
       "      <td>1</td>\n",
       "    </tr>\n",
       "    <tr>\n",
       "      <th>1</th>\n",
       "      <td>1</td>\n",
       "      <td>85</td>\n",
       "      <td>66</td>\n",
       "      <td>29</td>\n",
       "      <td>0</td>\n",
       "      <td>26.6</td>\n",
       "      <td>0.351</td>\n",
       "      <td>31</td>\n",
       "      <td>0</td>\n",
       "    </tr>\n",
       "    <tr>\n",
       "      <th>2</th>\n",
       "      <td>8</td>\n",
       "      <td>183</td>\n",
       "      <td>64</td>\n",
       "      <td>0</td>\n",
       "      <td>0</td>\n",
       "      <td>23.3</td>\n",
       "      <td>0.672</td>\n",
       "      <td>32</td>\n",
       "      <td>1</td>\n",
       "    </tr>\n",
       "    <tr>\n",
       "      <th>3</th>\n",
       "      <td>1</td>\n",
       "      <td>89</td>\n",
       "      <td>66</td>\n",
       "      <td>23</td>\n",
       "      <td>94</td>\n",
       "      <td>28.1</td>\n",
       "      <td>0.167</td>\n",
       "      <td>21</td>\n",
       "      <td>0</td>\n",
       "    </tr>\n",
       "    <tr>\n",
       "      <th>4</th>\n",
       "      <td>0</td>\n",
       "      <td>137</td>\n",
       "      <td>40</td>\n",
       "      <td>35</td>\n",
       "      <td>168</td>\n",
       "      <td>43.1</td>\n",
       "      <td>2.288</td>\n",
       "      <td>33</td>\n",
       "      <td>1</td>\n",
       "    </tr>\n",
       "    <tr>\n",
       "      <th>...</th>\n",
       "      <td>...</td>\n",
       "      <td>...</td>\n",
       "      <td>...</td>\n",
       "      <td>...</td>\n",
       "      <td>...</td>\n",
       "      <td>...</td>\n",
       "      <td>...</td>\n",
       "      <td>...</td>\n",
       "      <td>...</td>\n",
       "    </tr>\n",
       "    <tr>\n",
       "      <th>763</th>\n",
       "      <td>10</td>\n",
       "      <td>101</td>\n",
       "      <td>76</td>\n",
       "      <td>48</td>\n",
       "      <td>180</td>\n",
       "      <td>32.9</td>\n",
       "      <td>0.171</td>\n",
       "      <td>63</td>\n",
       "      <td>0</td>\n",
       "    </tr>\n",
       "    <tr>\n",
       "      <th>764</th>\n",
       "      <td>2</td>\n",
       "      <td>122</td>\n",
       "      <td>70</td>\n",
       "      <td>27</td>\n",
       "      <td>0</td>\n",
       "      <td>36.8</td>\n",
       "      <td>0.340</td>\n",
       "      <td>27</td>\n",
       "      <td>0</td>\n",
       "    </tr>\n",
       "    <tr>\n",
       "      <th>765</th>\n",
       "      <td>5</td>\n",
       "      <td>121</td>\n",
       "      <td>72</td>\n",
       "      <td>23</td>\n",
       "      <td>112</td>\n",
       "      <td>26.2</td>\n",
       "      <td>0.245</td>\n",
       "      <td>30</td>\n",
       "      <td>0</td>\n",
       "    </tr>\n",
       "    <tr>\n",
       "      <th>766</th>\n",
       "      <td>1</td>\n",
       "      <td>126</td>\n",
       "      <td>60</td>\n",
       "      <td>0</td>\n",
       "      <td>0</td>\n",
       "      <td>30.1</td>\n",
       "      <td>0.349</td>\n",
       "      <td>47</td>\n",
       "      <td>1</td>\n",
       "    </tr>\n",
       "    <tr>\n",
       "      <th>767</th>\n",
       "      <td>1</td>\n",
       "      <td>93</td>\n",
       "      <td>70</td>\n",
       "      <td>31</td>\n",
       "      <td>0</td>\n",
       "      <td>30.4</td>\n",
       "      <td>0.315</td>\n",
       "      <td>23</td>\n",
       "      <td>0</td>\n",
       "    </tr>\n",
       "  </tbody>\n",
       "</table>\n",
       "<p>768 rows × 9 columns</p>\n",
       "</div>"
      ],
      "text/plain": [
       "     Pregnancies  Glucose  BloodPressure  SkinThickness  Insulin   BMI  \\\n",
       "0              6      148             72             35        0  33.6   \n",
       "1              1       85             66             29        0  26.6   \n",
       "2              8      183             64              0        0  23.3   \n",
       "3              1       89             66             23       94  28.1   \n",
       "4              0      137             40             35      168  43.1   \n",
       "..           ...      ...            ...            ...      ...   ...   \n",
       "763           10      101             76             48      180  32.9   \n",
       "764            2      122             70             27        0  36.8   \n",
       "765            5      121             72             23      112  26.2   \n",
       "766            1      126             60              0        0  30.1   \n",
       "767            1       93             70             31        0  30.4   \n",
       "\n",
       "     DiabetesPedigreeFunction  Age  Outcome  \n",
       "0                       0.627   50        1  \n",
       "1                       0.351   31        0  \n",
       "2                       0.672   32        1  \n",
       "3                       0.167   21        0  \n",
       "4                       2.288   33        1  \n",
       "..                        ...  ...      ...  \n",
       "763                     0.171   63        0  \n",
       "764                     0.340   27        0  \n",
       "765                     0.245   30        0  \n",
       "766                     0.349   47        1  \n",
       "767                     0.315   23        0  \n",
       "\n",
       "[768 rows x 9 columns]"
      ]
     },
     "execution_count": 66,
     "metadata": {},
     "output_type": "execute_result"
    }
   ],
   "source": [
    "df = pd.read_csv(\"https://raw.githubusercontent.com/npradaschnor/Pima-Indians-Diabetes-Dataset/master/diabetes.csv\")\n",
    "df"
   ]
  },
  {
   "cell_type": "code",
   "execution_count": 67,
   "id": "a62dc057-8859-40c1-a4cf-72b62ef4aa2c",
   "metadata": {},
   "outputs": [
    {
     "data": {
      "text/plain": [
       "0    1\n",
       "1    0\n",
       "Name: Outcome, dtype: int64"
      ]
     },
     "execution_count": 67,
     "metadata": {},
     "output_type": "execute_result"
    }
   ],
   "source": [
    "df['Outcome'].drop_duplicates()"
   ]
  },
  {
   "cell_type": "markdown",
   "id": "4ad1bb16",
   "metadata": {},
   "source": [
    "# Ver se tem valores fora do padrão\n",
    "\n",
    "![image.png](data:image/png;base64,iVBORw0KGgoAAAANSUhEUgAAARQAAAC3CAYAAADTj6GNAAAgAElEQVR4Ae2dX6htV3XGz6sPF0qhVB9CHyx9sATaB6EmXFFoGnyTovhQ+yKlffDBVCoVH2ppJSgFW9OCEDBvQVEIlSLtgxSENHDbUGtibDA1NLm9pYlXDhj/5JyTvVf5jTG/ueb+c87+c9bOOXuv71z2XWvPNeeYc35zjm+NMeZcax91/jMCRsAIDITA0UByLMYIGAEj0JlQPAmMgBEYDAETymBQWpARMAImFM8BI2AEBkPAhDIYlBZkBIyACcVzwAgYgcEQMKEMBqUFGQEjYELxHDACRmAwBEwog0FpQUbACJhQPAeMgBEYDAETymBQWpARMAImFM8BI2AEBkPAhDIYlBZkBIyACcVzwAgYgcEQMKEMBqUFGQEjYELxHDACRmAwBEwog0FpQaNFYDLtOj7+8/tQPAeMgBEYDgFbKMNhaUlGYPQImFBGPwUMgBEYDgETynBYWtIYEZhMu5OTk+74+NhxlK5zDGWMOuA+D4xAIRUHZk0oA88sizMC40bALs+4x9+9NwKDImBCGRROCzMC40bAhDLu8XfvjcCgCJhQBoXTwozAuBEwoYx7/N17IzAoAiaUQeG0MCMwbgRMKOMef/feCAyKgAllUDgtzAiMGwETyrjH3703AoMiYEIZFE4LMwLjRsCEMu7xd++NwKAImFAGhdPCjMC4ETChjHv83XsjMCgCJpRt4KzvD+U9olf9LtGm/tqutlPN9Tb54M+vw9gcPMgLHTShLEAym/AGX4uixnn9zoSdxD9IhTOOb0TytCNvls3y9Xspf9K9kWUmJV+VO/sduVG28gIvRCZz1t51Z307kBX5auYurpf2q41Zuutow5UQIu2fFKzUj/I9MFMD1zhmf0vGGUIFFz49FrX/1MX4cKmW4ctZ812V9+WV4uP5CJhQzsdm9kqZhCTGxBQRhHIXQhHxxERV8fmJrTekF2Io5ZW7n+BJLKFghUAgkqoUUaDIqukohAgpFWFWQfs0yZ1RyNqI3Zwkbg3ZFtKtbQyi2axuZCYmOtP3lixSZq1nrgrSe4IXgcyP21whf12KgAllKSxziRNZIHPp3bS/y5++nndD3t7VvRF3P6b2skmcCpCy8jqTtxBBKFVhJAiqkJRkKl8vtyWJkxQqWfXbWfdGxzUpS71QlLH/vsuzaHMhvJ9+97nuB3/2510XuC0hz3Ub0mCURRpCIeH09W7649e6k/9+sTt5+tvdz/7xm93dx78Wn+Nv/EOknb54O/II65AjK2bddjhfIGBCWTkR0mxGGZiYP/vmP4UiMBlRUtKZrN/73d8vkxLlOInzlz7/SBynrx1301df6VAiPkzq48ceSzlf/XL38hcf65jUQTTFbRHpIBsFSAKZRPlQgNeOu+72nVAI6rn7zNNhnaA0x1/9cvfSZz8X8l/71r/MWC204/grX49r5InrKzEYJoMIBWn06eWjo462x1+1stavKzEJkzHHASIv4xQ4PPZY938f+cPu9rve3b3wy2/tXj660d05OooPdfPh+yv3/Fp3+z0PRl7GhbIiuiThRSJev5XjynmtCYWX/z766KPxEuCrGhZN2p/ferJ77ub7YmLeffjh7pnf+K1QXNoFQTBhIZzMfxaKeuvoKPJQjvwvvf3eyPdfH/mj7u4jX0xigVCObkT+JJSMLcgV+dEjfxMKwQSHXJ7/pV8JOcjkgyIgD6IiD9fvfOgDQVIoB/VSF3+Qx0v3v7f74Uc/Ee1CNtdp98V/QylUWmLURV/ADEwgXOEsIr24Pc3VxhWFYIOo3/fB7s7R24IwwJY+Qyw/+szDgQV5+IALaS9++MOBMXlfDJJ5W2AIMUPA/lsfgWtPKEdHR90TTzyxfo92kJM7FhOfSZgTbBJ3WJSZmAWTEiXmT4rBHRjlZpLf/ed/rdYJcrAwlJdzJnIQgsoXN4c8THYIgD/aQV6UMe6gpyi6AonTIAaU9PS570R+/qPNt9/xzvgOAUGG9W/S1Xprmk6KK5EKfrboGi24GhSkPfos+55xjSTLaRAhFgJY6e88QkmyVS4dk+gYE8aAfooQIBAIAayCMBWHUtH2OEnsGAvaQlnk8MG6iXEvpCs8FBjXMdMvqqSt8HDPrz2h3HPPPd299957ZVYKk5GJevdLfxezIJ2c/m6P3627X06TnOTc/VKRFUeZVgujv+tNQ6G5myoNZWNy8o87d9RdFA4LA8LQ3fXupx4OpaQs7UIh4o7P5J+k5UR58qPoP/zkp+NujUWFbP5EgNn29v8+bhR5qq4kYdC+LDtPICUY2pAi+TJvxnLoI98hUSmtrCRZZm1L+nZmoLTmmUzDykPpw316+71pjd2+E/3NOlX3vMT83retDeJOg5TBC7yRzc0DdzfaQpdLrAwc+thLjv3ymsaRuheEgpUSv3tyBWOCMv7gfR9Mi6CuoExCkYlBMJmYbBBIOzm5JqtFJITbhNWC8miyy/oJBY+AbN9J7q5MZsrxR1sgDKwM3BW+E8vpTnPlJFyat98bFg1mPvUrRkJ91BFE9653RzsIiorI+lr7M7VRKfPflc5R13RMS4UOFSULi6aUaPpJ7AkrBZKrchoyKiWCIBPHdJtod7grJQYCJuBV668xGfJXNqzi2hPKZDnaCun1RSC9nlhupIV3+nqfRwH7ZW1uKxnJ+V4Qylve8pY3h1CWTApcDpSw/5vEpCL2gDvDXMWVQMH5y4l5NuOqZFoXyp9WSxIA+SEEuU6QE0qPYvCBDCAUzvljYvNZ+CsrJZjr3K05Rqzk4w/V+AhtiLtpd5Z1PP3tqPc/P/YnC+Iyob9LYwmJwFB82sUHZQtX7fadqAeiDEuD9lygw7RFmECWuHEi7VyNWt4klQEPxgXrhnIRRK0yk8Agn+wvss6xHILk5q6JIMr+nmzJWRAemDIeuKAQWrQn3M7ZbQPLWz+OVBNKO85LCAV3RhOIyc93lJY4RU7waRAMk42JzkTDd0dJUDryaGJjUUAoC2nveTCsDcgCOVgxKDrEgNKEFXH6ehDADz/+UAZzS1CR9gQpnE4jf5ATfbp9J5QNspPC1ZWL02mkRVzoM19oEZg5x4JBgeY/tIkPfcRd40Ob6RvY0AbaRbCYtiGnJSSREu0CR/JTh/BaRgAiGuWnfvAKbGh1cUFmmWyOLGZ6t/iljkvMg54k5GIxvvQr+v2hD3STV17OOSASuoBEF2s7zBQTyopxxW/Gj0ZZUBomFMqaZJIbopho37/5/rpqQb60ajKYqbwoUtyJmzpZMsbaQTkgHOrjrs+dHgWLVZiId5xFWRQ2ArWQz2c/l4FHljmLS/Tcb763LnkiA7m0HyLCBeJIG2gjLoNiKU2T6inlaQvtoO1h+Xz+kagXuWCBTAiBdkFQLMFCMCKdJJ5cntWSrY4oZl/mKLEtpC7Mws2Rot6+E/VAPscQYXH1krBLpkIGSUoQSkMqXNOn9nL2ROTfpirmQxqYQJT0gXEAv2gr1Ze2t2XHdm5CWTniGThFoSCOMOU1ceokOqsEUPOViRwTtNlbMjMBqZuNV4Uw+MrklDKhDExguQ+cZ95GSUr7KcM1xVsok7JOggwgLhECxMWdHsF9XXNAqI9zycu+IiP6WTaRYTWAFWSEFQIm7H2hXvadQIQiJAjoJ2/91SBsiCv/iksYHJHn9A0ihKAgwhrrWGiQsNERIWW5WmSyQd9CfGOBCGdIBUKEoPu2lHoW2jSeBBPKirFOpeyVXN8pxnkSTFoq8b3K090wE2o5fO4SMEQJI525H+TEMcvpWlwoQcBQ2shIaipKugKpPJmWspCr77PtEtFkPuWpzdZJo3RqO9ZCH5tQsDMVfr4OibnoiGvInR7rL8gaTKMrvbuR5c+CgMgLEUHC0e6mjbWegt+stRDMlFmWXq+lzz3J+npsIU2sM6ylPsbW1HOupMO+YEJZMb5SOClV3o1OQs+rKRzzCE3Qfo1kCMqmoqXy872VlyqfeTKdfIWIqnK1Ms9vbJQPZemJJBpJkaZ9IizalXVCDElI50qvSlhk8V2EGmVFLlRU+hDpiUPKJ/0sCIO6CUZzh8cdk2US5Fj2hIT80izy4kYRD4qYSdS/vM3IDjep6VOMQWlz7eP893phyUndPCessm5IkJgXfUiLb0nZkSWZUNYdcOmKJiLf4y8nV9xZi/XBBI5JXK6LRKTMHHU9r+UdmXN9L8LTgqnkolRVTt0iICZ7/mXcobUcyh0/TP9eEbMuKYlKn38kP+2ebyPf9S/Jo68jpBXMyEN5lI/YCe5LLHsXvALDwLn0i969+koJ2t6owWXJmbVCst3CFXcL2ZBVkBCXNXbnd3H5lVJOfeeoehSAj9haWW1bLmQcqSaUtca5J4A2OxNbd/d+kqEMumNzLuVvXI3m7tnKy/Nemfq7fa8MmsiqT99rXvn7EtxXX1KKfJSkKq8yn3ds21TyRHnS5/5C+Zbnp61sviOAi/tSXQUIls1uFNNqTVFi4i593ESKXEi0EHOMQ8kP9sRpiM1gAfGhvrrSVQi4x22u/Uu/9vXF5eaGQHu18qONb9VSnR+LpbIPK9GEcljjea17Q1CZuANkkvtfeqtqoeG4PlgnZRMeRITyBhE0ZMb3ltgJAOMeQSgK+PIdiyjdJZHSQo1bJCRbY3ERS4kHRCPA3rRzC6n7XMSEss+jt2dtxyKBTFhuZck3/3TsO5ME0ZX9PGVVRxZIQyZpCaZVk2XOQqnnCQVioV7ck0pAktdXu9lZsT5k6chKqatsYf7pOavNRO9zbhPKPo/enrWdpWuWWxXTaC2L2a5guZwVa+Ztsfwsxc18SULEiuQmIYulZQK3EApL0bJSOOL6aDdzK2O23vW/RXsaUsLdwUrJZeR0kRTLWl/q/uc0oez/GO5JDyCB2edkFH9a1gFWUFg9iY2A9dkZZEAdCgwVefUVnF24UpBJSygQDMqu1aRl9W2eVmJQvPaTSBoPcrJL+F3vjh20yJslwc1r2McSJpR9HLV9bHMbeC0EcJHCKRjLsf6FRaAVq5oagXHJ0goSJCJLBeuE+Abv14HEzreMWpmrzkVqEdmOzGy4o64+OLtKxuFdN6Ec3pgeRI/YwIZyYlWILNbtGEvGWDYEYtk0x5PIWBDhgpTt+lsvIasRjbsjWQSEsYR6Elx/SV5i9/1oQtn3ETzE9k+mEQuBELSDVkq7bncVU8kHIsu7f8vjCFzblKQW6m0JpWwDgMggwdjNq9UnGTILAg4zwYRymOO6171ieTmsi/c8GJbFRsrfKDrloixp9V02GfDdlKAWAG3q0bVY5n7HO0vcp7hWJhTBc/VHfF7e2PamvQ/l6rvsFoDA7Ttxp5/dfbq4vLwcrFRkrBD+QRz1PAqcheuzEUktr2ghFSLkyevY8xKvjFy3zQui9jbBFsreDt3hNjxdh3yRUfRyiTVwYe8jTprK3BNHrsakxRL+yIUiNrqo9p1O61J3Lo2XDW4bCdvvzCaU/R6/g2w92+RjT0d5OfflOwm5lO3zJd7RE83lpVcJp9P6igXttdlJPbXC63diQrl+YzL6FmGhsLOVTXAR/JAFsDUyEEoJZpTt+ztR9MmihbJ1k/e0oAllTwfuoJt9+07sIVEMhd2wEQ/ZutNtHKUES4ulsrXIJQUVQ2GpmvN0r8YVRzGhLJkYTrpaBEIxeT8tqzzl93Au2lW7srX17XX5CkcFa1eW2zTD7TsRkOUBSL2e8tKrSZu24Yrzm1CueABc/TIE0nVgtSR+WSCybHmnD3cp3+CPC8XWeDa98aDgLEmVOMuy5qxKKy5Zxn70WkgKKW6zSsDhXDehHM5YHlRP5nfKbhbzSHKQy8ETwLyUW1vx9WxP/q5yv7Q8SzAXwykXLOvIvJBUvDSqPi6wJQleXPW1vmpCudbDM97GsY0d5awvYdoEimIxoOzsZcofE5t9ApmHByEWduKKeOLJ5Y3qaTbOdWfxcyvslO1f5rSJsMPIa0I5jHE8sF5M4s1uetq4BjjX6CXkkDESMk/DZcJ1ap8+1msNWEmqTyDrTXHrBmvrztt80xy/0bN8d+8FL5Faoz/7lsWEsm8jNor2TiOoqZcWbX7Hzw1lEIteK4A1IiLhCMGw1yVkTxZfbL0S5kJAsmry3bJH8RMhkFpaPZddnVrZimuXwYRy7YbEDZKSyu2Jh+1m9qJcEJuYUfR8Y1r+AuKNSihyd/hRNAiHlZh4Enld60SEoZd+lw1tWFQQVJBJ2feS5+MZUxPKeMZ6f3payANXhyVYKSodSAUtbsSaD95BGvphLqwS4hzx07Gh/CdJJlu9UDobwPtPiPfERjz9ZhCNnSHB/YH/Mi01oVwGPZfdDQLVYtB7ZW/kz5RiETQ/krZR5aevR7yEd5Xw8xqQDL8DhFsUFtHGhFLe1Pbj12IZGpeK1STkxaspa+MusKZqnsM5MaEczlgeVE/yFxFzI5p+oU+/4ZMd3ezlRZBG637wPd2clNZeWwvIYn2wCoV10v4kaSsrAsRrCTyMTCaUwxjHA+xFvsOEjnHnxwLQT5aisEkGa/o8ERvJvSmYOJVIKN7sotXjPuuCSbyE/S0EeesGPIhGn+qirStx//OZUPZ/DA+zB8EV+hnWLl6ryDIv1ko8ybuRiwKZhK9UnwnCckjroRDNhvEO9q/waEDslXn8a7OxnZZI1uW8AxlFE8qBDOQhdqNXeHo3iaAnpMJy8szelFBaPfR3kQYXYqlgyWpZskW+sTLIHlZNsWYgtHTDbpSNd/0ydRWtkw2JSsX29WhC2deRG1m7IRcCqZBJJZVXX6lB0CSfy6+s4E5FDCSIQIRTArdgzpPQH/pAfXeslp0VLB7ZsCx014SyAIkTriMCintgHfDLg5AKD/nx7hT9ZZ5hdqZCUCKWOJZYDsvNEYT95KdzD4sqDxvqIuuoyXjApyaUAx7cQ+uaXCDcHTa7odhsdz/+ytdrcPWyfY46irsjIqE+lpvZD0Odx5/5QvNahbSKsm0mFBPKZWegy785CJRYhJSclZRWyXGFNt+iv9j0JIaSfvp6/GgXlhAb4iAvdu/qr7YlEuQe6eo4jyaUS457TKr6oBiTKh8WY8IzObk+O/EuWeGYi89ZDkABiWifSvwmzkc/ERvYsCr6vxyX+F5kcH7euFAW4kgiuRFL1rHP5PadIlLkUeRutOLUt+oQz0wolx1VyIR5hbUb7ys96X7a/Tyl6lpbR7nTtkk+3w4BWRMigJ5YjmJJlx9HZ1s8S7wRPD19fe6lSl3HD4FxjZ8whURwpYiTYJGw9wXLJ35aVL+vHE0VoWzX7kMuZULZenRhkNwKzp2OgOCXbn+9e//3/rj79X//ve5PX/jb7gcn/1MCe/BNyb91fS44j4AswIAWqnjtOJQfa4LNZsQ7FGeBJCAHrrUf0niLG/nzOZ+j+H73Uw+H9RNERMVxw1AL+FKsEyX5GAiYULaYCGkqM6HOwjqBTCCQo6fv72488zvx4RxigVTyr+Tfoj4XWY5AtQwX3Jd8DwoWB79rzKoQu2yTNG5U4sBFIg1CgViwaHg/in4Cg1oZ63a8g8QYSluaSwfFhLIUlnUSyy7OybT7t598tzu69UD3i99OMoFUOOcD0cRfeahtHcnOsy4CodmZGaMh/kgTCWRKWJI8BfzKy+HaEHfhw5JzkEe4QikA8kjLJ59CTssSmdpS35KM5PsoBEwoQmKTY9ydtE+h6/7qfx+v1omIhOMvfOe9YaVETEWEstGdLbeLKz6TTcyJrYlv0xtUisJrDEuQVHtXIrngntaGMi45ki/cmyQmlaXcyrJLxI0tyYSy7Yg3xEDsBBcHApHLw5Hvv/0fH4vH5NPP33TTlX7K8iwCvbhPIid+poG7Z9xB69152864nBEYBgETytY49ncwFJ14yTyhQDJ//cLjUUPe3TbU/PJqQmQgn88DTz/U/f3db80QSZrlW3fEBY3AYAiYULaGst9ngo+OkhNHgUTi89TN7g+++5dhUbTm8qZms9wpkdXRs/eFfKwi/ghMmlC2HkQXHBgBE8pWgOrJ1vS3U6GnsaKDokMCBGrTh28eLNtwqRHLB5KCTEQoHCEVrJV+v0tvLW3VHRcyAgMhYELZEkiRCLGRsEDQ6TmPhjxhkUS8RSS0foXfePXJIBTFY7R6pGMsSddduuvLdU4jsCsETCjbIBs7YlUQ2iirMZGklwLlaoxybXN85qcvdEdP3ZyxULR6hOUiQvFKzzbouswuEDChbIOqVnia53VmxJTracXMXNnoCy4TQVhcHIgEyyRiKM/eV/a3THPb/0ZSndkI7A4BE8oW2GZgVe5Mv2sSi4HYCceIn0AsIp8t6sHwQRZLzxHwfepmHBXslezLEtc2TXMZI7AMARPKMlRWpumHoXKVheBobL0vqzxYE1XpV8q6IEOJjyCfeAorSRBWvBH+lKBNicvMxW4ukOhLRmCnCJhQtoB3dul32v3F979YN7ZpRYalY9yV/u+ilZhzroWFg4Ri6YS1Ux5IjCKK1/S1zJwtsZAgp7o6RObLWFAzlfmLEeg6E8o2s6B5/wUuCUu4xDe0+sIxlnefvr8JnOYuWcgoXZSWJNLaWGzKsiVn8iIh/2VA9jwTpcRYJl2QCMRHW3GfIDuCviaURdSdsj0CJpQtsMsfoUpLIVZi5vaKiFxYocFF0XKylpA5ppWzYit+XU2CMNIaSRnpaqUMyZrvSBIOebBIFNyF6HDJIrj71M0klfmi/m4EtkTAhLIVcL2yykJBQWWhVLfnqZvVQqFETyIQST6nQ/A2N8AtcXvk4vByH/3yHdwig4Trp3reZ7Ej+Xj/NHfxNsvPEIpIpT4NvVjcKUZgYwRMKBtDViyCUOokAZ61IWYiy0RWQCpran+u+qgs7k5TcXveJOfpWRBOklHuxiU4y45crJ+ZeMhcWVkw2r4vIlH7aO/Mjtu58v5qBDZFwISyKWKRX65Kb2WE0upZnlsPRKA2lD2sDPKdBIlIySEDykBGuE1Kb5sTaYrXTLogkIiB8LxQeabn/NWkPmAbT0MXC2reisIVSguprdnnRmA7BEwo2+G2tBQEggtUrYZCJpk5Yy5ciyVm9pQUUsC6gRjSismlYFykeDFQWC/5+oLYj9IQg8pXt6W8cyXJ6axu+z/PLaNerB3/GYGhEDChDIVkkZPRleLDBKHkeRJEF64Kity6HVgNpOkJ4iCSkNe7Rlg02obfui7ImXVbeiKJFZxCapSv1g0WTrGiMsA8MAgWN1oETChDDX0obhEGh8ys0JCebo+sDIhAMZcglGfva/at9EvM6fZ0GVg95yVO9bmeqL5fDRKJZasmYT0p/lLdrMJ9peU+GIFLIWBCuRR8i4XbWAjnodSFbLAGeCu+iKS1NHBfsCDqio8UvRy1PK2ykAjlISbiIBmvoT1JRkkmZa+LXpEo0uNYCe+8PTCLfXOKEViFgAllFUIbXdfScF8IgkC5Ywm36yJWAgnoI1Lgu2IhaZXkBrYsl27M0h25tx6Ibfm5QY0yGavJZaSUIVJLkikuUZAMbEUe/xmBYRAYLaFIabULJBUyH8bjuRliDgqSEh/NWEMqqxRT1gBDQVqm5z4R5EcZWQVlvAiQYl1AILI2OMc64Vq1HIplEu0sSo884iwRCym7XWln247FaSFThytJMIt5nGIEhkFgvITCRrHQr9yevmz1BcVFYUOpmw1kSRa5p4TzJBIpbm5aC4IiaY5QGDaIg1Ud5PPhPMkkyQjFR2aSyfKBToIr11T18qxONQJvGgIjJZT+Ti2l1eY0XJDWciCICtnIZYEggkAiDsE4pcuQcvKc1Py+XNO5xge5IVvDXV5KLYsjZeji7JFrtCPaYrdlFhx/uzIERkwo/X4PXBsshdYNgVT4zlItLhB/Ut60DnJJF0KAjAiM8sElIa3PH6ez/8UPS4l0uKTt8xASFg4bSnpymi1c0sP66a2k2Tz+ZgSuBoGREkqCHRZAeRK3JZTWSqn7Q8LYkOKnzkMcuCvaV8KRD8HVsDzO4QTVWy2QsHbILLIoqzNLSEVWiY61zNXMH9dqBGYQGC2hpFJL48/irWhYJZAJS7hYJ3GuJ4aBrb4QOt8hG25S81BgtWrqDlTJL5hXgsj02TZI/klkTrLJJeC0VlidyWszI9i4V5CMVoWIyfAJa6kQVrWs5gX4uxEYCIHREgr4hQIWIOMN80/djPgJRBJkUrbEo4ipqL2bhMJjnYRbdOuBGnehHGlaAl5vnBSX6WJlSfEayICgMHtQcn/KRdJyObhaTc1zRTwzlOR1UXlfMwKXR2DUhKLgZzw203URKyEICyngArHvI+/wZUWokFDmn1Z3RwSkYK7cnk2GB4WH4OJvkq8coA3EcPiwIS6XiMk47xIVS6aQnCys1mLCmrJ7tMmIOO82CIycUIpihiKnMqPU1VUIRIv1QB7tLi16H0/xlid/K5mUB/4ikFtdnNVDg1WSbk4SGyQlmVg8nEN2sbyMOJFKPe/CkqnxHCyUsptWu3CDHFc3xTmMwNYIjJhQmjhG2AaT3q0oygq5pNUAg/QBWdwPCAAFxbVRMBbFxZrAGkgXpbccVo+Q5KflIxKBSEQu1NM/QFhIRTGUYtWQpyUiyiKLYyWj1Y1xDiOwFQIjJRTIJDeOZWxBwVNZLHNYFstEFkS4DoV0IBWsEdwjPpz3MjchlGwPBIZ7AwmICEQKkAVkVdsxZwHF8z5L3syGHNwnWyhz4+qvgyMwUkK5PI5JGr2VUC2YIJrN94ekJZRxFAhFloaIBasDCyhjIU29QSrpjiGDvTCKoVA2yj19f7zMyTGUy4+7JVyMgAnlYnyWXpUFwjGIoMRUCLPUtOouLRVxTmJaNBGbKZYG1gkfxUGwQuKvWEjZgrIRruypib0xzSpPtWrUznNqd7IRuCwCJpRtEIQ4FERFSePTuE1sUAvLQWlrVNIoO8vU7ZPFWCsEWOvb1RoyofIguC6XnKkJkiNeAvnMxk0grArMyGsAAAXASURBVA3atEazncUItAiYUFo01jyXeyLSQGmxKrAEiKEQq0DJpeirxfb7UJCdZHUSy8TI5UMdpGedSCQnLFTI61Qy+t/iWVgJWt0Q5zACl0LAhLIlfCIVCCT2i5Rt96zy4HJEADSslHUqgCnOkjCCJPp9L7V0yOpfPA2RqA2c9+SV6VyLtBk3zNZJxdMnO0HAhLINrOGeTII0IBMFP+dXYzZyL2bIhwrsnmwzNC5ztQiYULbAX9YAMQ2txmjvB0ct067cLq9YSN0wh/vSNGiGZJp0nxqBa4qACWWLgQmimEwjtnERoVy476MhE5rQb4RLt6Z3Z7ZooIsYgStCwISyDfBhRUxzq/vcg4Ha90EcRZbM0ioKoZAnYx0ZB9H5jKWyVIATjcD1Q8CEss2YhCuSW/W19V6uDu4OS7wr3/UahJJkwvIuciAhlospO2+hXEhO9EEWj1Z+Sr96gmqDuNt02mWMwGoETCirMVrIUZW9bCRjWZcH9wjQQgrafFbzLUjolTviMGUTWmxga/acRHniK2XPy0XyqELLzQR0cbdYatZqUyw5O9C7MBJOGBYBE8oWeKLY/Mt9IQjIHzTPmAlvxs/g6vlWxTRiJuSHhOYDurJyclNavsypt0AWGxxEUwK7xGKwcmIp+9YDcdSGuMi3WNwpRmAwBEwo20AZLk9vZeBlhHUQ2zz6natBAgvyY3darOawh4WgrpadIZZ26ZnrdeOaYi0L8nKLW3eae0zkggUplTfPsTcGK8p/RmDXCJhQtkW4IZV654+0jIvU2MWC/LROSA5CaZ7ZaS0ViCYJJQUg7zyLR3Vh0UAePPcjWXoOSG/vX2iOE4zAgAiYULYCE2sgLYKq5IVgUlxaIZVo2joK6VBeLo8sFI58ggRuPdA/h1PLtJtUeqHpeuVb3iAUyWgtHlygdKH6cj4zAkMjYEIZCtGq9BKYhKNv7TEDpGlxtEFZiADLhFWijVwU6p5MY3VIhDJvoUAoGeNpW+JzIzAsAiaUYfFcT1qQj2ItSQRaNuYYS84YI8sNksU6glDyDXK4NnJ5ajzm2fsiULtY0ClGYFgETCjD4rmetEmJo4g0gjjKU8MhoX0IcA2RZWmZnLg1QSolloLFA0nFT2isS1BrVOksRmAZAiaUZajsOk3P7oQJ0j8VTLU1JrPRe0tKPCdDN0EeWDkEdWvcpP7M6a47Z/ljRsCEcgWjT7A24ygwQL6lLQO4ZSm6uEQK/K5qYq7y9GSkIK3KpeysR2k+GoFdIGBC2QWqK2XOBWyDQPTyJF3TcaWwmqG3bmpSeSETssprIptLPjUCQyNgQhkaUcszAiNGwIQy4sF3143A0AiYUIZG1PKMwIgRMKGMePDddSMwNAImlKERtTwjMGIETCgjHnx33QgMjYAJZWhELc8IjBgBE8qIB99dNwJDI2BCGRpRyzMCI0bAhDLiwXfXjcDQCOwNoZycnAzdd8szAkZgYAT2glCOjo66hx56yB9jcDBz4NFHH+2eeOKJ7sknn4wP56Q9//zzA6v4myvu2hMKZOKPMRjLHIBg9vnvWhMKwIrBfcw7mXE4bByOj4/3mU+6a08oe42uG28ERoaACWVkA+7uGoFdImBC2SW6lm0ERoaACWVkA+7uGoFdImBC2SW6lm0ERoaACWVkA+7uGoFdImBC2SW6lm0ERoaACWVkA+7uGoFdImBC2SW6lm0ERoaACWVkA+7uGoFdImBC2SW6lm0ERoaACWVkA+7uGoFdImBC2SW6lm0ERoaACWVkA+7uGoFdImBC2SW6lm0ERoaACWVkA+7uGoFdImBC2SW6lm0ERoaACWVkA+7uGoFdImBC2SW6lm0ERoaACWVkA+7uGoFdImBC2SW6lm0ERoaACWVkA+7uGoFdImBC2SW6lm0ERoaACWVkA+7uGoFdImBC2SW6lm0ERoaACWVkA+7uGoFdImBC2SW6lm0ERobA/wMqnxh51ZiuvgAAAABJRU5ErkJggg==)"
   ]
  },
  {
   "cell_type": "markdown",
   "id": "3492c2dd-21c2-462c-9d88-7a531dc7aeae",
   "metadata": {},
   "source": [
    "# Separar em Treino, Validação e Teste\n",
    "\n",
    "<img src=\"data:image/png;base64,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\" width=\"400\" height=\"100\">"
   ]
  },
  {
   "cell_type": "code",
   "execution_count": 68,
   "id": "bf7b57d3-6c83-4671-b863-e134ccdc44a0",
   "metadata": {},
   "outputs": [],
   "source": [
    "train , test = train_test_split(df,test_size=0.2,random_state=0)  # 80% treino e 20% teste\n",
    "\n",
    "train , val = train_test_split(train,test_size=0.25,random_state=0)  # 80% de 75% do treino = 70%, e 15% de 80% do teste = 10% em validação\n"
   ]
  },
  {
   "cell_type": "code",
   "execution_count": 69,
   "id": "2af6b78b",
   "metadata": {},
   "outputs": [
    {
     "name": "stdout",
     "output_type": "stream",
     "text": [
      "Base total : (768, 9)\n",
      "Treino : (460, 9)\n",
      "Validação : (154, 9)\n",
      "Teste : (154, 9)\n"
     ]
    }
   ],
   "source": [
    "print(f\"Base total : {df.shape}\")\n",
    "print(f\"Treino : {train.shape}\")\n",
    "print(f\"Validação : {val.shape}\")\n",
    "print(f\"Teste : {test.shape}\")"
   ]
  },
  {
   "cell_type": "markdown",
   "id": "a688a807-62a9-499d-9bfe-b2fbd881b459",
   "metadata": {},
   "source": [
    "# Retirar colunas que não usaremos no modelo\n",
    "\n",
    "<img src=\"https://cdn2.iconfinder.com/data/icons/flat-pro-word-processing-set-5/32/table-column-delete-512.png\" width=\"200\" height=\"100\"/>"
   ]
  },
  {
   "cell_type": "markdown",
   "id": "a5654cff-46bc-4f7e-b3d7-5818fd8dff2f",
   "metadata": {},
   "source": [
    "# Valor Vazio\n",
    "\n",
    "<img src=\"https://www.logianalytics.com/wp-content/uploads/2019/06/Missing-values-2.png\" width=\"250\" height=\"100\"/>"
   ]
  },
  {
   "cell_type": "code",
   "execution_count": 70,
   "id": "47ca1839-fac0-45b4-96a4-eec4a3db9462",
   "metadata": {},
   "outputs": [
    {
     "data": {
      "text/html": [
       "<div>\n",
       "<style scoped>\n",
       "    .dataframe tbody tr th:only-of-type {\n",
       "        vertical-align: middle;\n",
       "    }\n",
       "\n",
       "    .dataframe tbody tr th {\n",
       "        vertical-align: top;\n",
       "    }\n",
       "\n",
       "    .dataframe thead th {\n",
       "        text-align: right;\n",
       "    }\n",
       "</style>\n",
       "<table border=\"1\" class=\"dataframe\">\n",
       "  <thead>\n",
       "    <tr style=\"text-align: right;\">\n",
       "      <th></th>\n",
       "      <th>Valor Vazio</th>\n",
       "    </tr>\n",
       "  </thead>\n",
       "  <tbody>\n",
       "    <tr>\n",
       "      <th>Pregnancies</th>\n",
       "      <td>0</td>\n",
       "    </tr>\n",
       "    <tr>\n",
       "      <th>Glucose</th>\n",
       "      <td>0</td>\n",
       "    </tr>\n",
       "    <tr>\n",
       "      <th>BloodPressure</th>\n",
       "      <td>0</td>\n",
       "    </tr>\n",
       "    <tr>\n",
       "      <th>SkinThickness</th>\n",
       "      <td>0</td>\n",
       "    </tr>\n",
       "    <tr>\n",
       "      <th>Insulin</th>\n",
       "      <td>0</td>\n",
       "    </tr>\n",
       "    <tr>\n",
       "      <th>BMI</th>\n",
       "      <td>0</td>\n",
       "    </tr>\n",
       "    <tr>\n",
       "      <th>DiabetesPedigreeFunction</th>\n",
       "      <td>0</td>\n",
       "    </tr>\n",
       "    <tr>\n",
       "      <th>Age</th>\n",
       "      <td>0</td>\n",
       "    </tr>\n",
       "    <tr>\n",
       "      <th>Outcome</th>\n",
       "      <td>0</td>\n",
       "    </tr>\n",
       "  </tbody>\n",
       "</table>\n",
       "</div>"
      ],
      "text/plain": [
       "                          Valor Vazio\n",
       "Pregnancies                         0\n",
       "Glucose                             0\n",
       "BloodPressure                       0\n",
       "SkinThickness                       0\n",
       "Insulin                             0\n",
       "BMI                                 0\n",
       "DiabetesPedigreeFunction            0\n",
       "Age                                 0\n",
       "Outcome                             0"
      ]
     },
     "execution_count": 70,
     "metadata": {},
     "output_type": "execute_result"
    }
   ],
   "source": [
    "pd.isna(df).sum().to_frame(\"Valor Vazio\")"
   ]
  },
  {
   "cell_type": "markdown",
   "id": "bc2800b4",
   "metadata": {},
   "source": [
    "# Tratar variável numéricas (se tiverem medidas diferentes)\n",
    "\n",
    "<img src=\"https://miro.medium.com/max/2134/1*C5XM-0LZSMBd1EEiYZbYxA.png\" width=\"350\" height=\"100\"/>"
   ]
  },
  {
   "cell_type": "code",
   "execution_count": 71,
   "id": "909e7c16",
   "metadata": {},
   "outputs": [
    {
     "name": "stderr",
     "output_type": "stream",
     "text": [
      "/usr/local/lib/python3.9/site-packages/pandas/core/indexing.py:1738: SettingWithCopyWarning: \n",
      "A value is trying to be set on a copy of a slice from a DataFrame.\n",
      "Try using .loc[row_indexer,col_indexer] = value instead\n",
      "\n",
      "See the caveats in the documentation: https://pandas.pydata.org/pandas-docs/stable/user_guide/indexing.html#returning-a-view-versus-a-copy\n"
     ]
    }
   ],
   "source": [
    "train.iloc[:,0:7] = MinMaxScaler().fit_transform(train.iloc[:,0:7])\n",
    "val.iloc[:,0:7] = MinMaxScaler().fit_transform(val.iloc[:,0:7])\n",
    "test.iloc[:,0:7] = MinMaxScaler().fit_transform(test.iloc[:,0:7])\n"
   ]
  },
  {
   "cell_type": "markdown",
   "id": "983f6b2c-3a93-4a07-b260-69c8b32654aa",
   "metadata": {},
   "source": [
    "# Categóricas em numéricas\n",
    "\n",
    "<img src=\"https://miro.medium.com/max/1879/1*O_pTwOZZLYZabRjw3Ga21A.png\" width=\"600\" height=\"100\"/>"
   ]
  },
  {
   "cell_type": "markdown",
   "id": "317f8b00-0993-4361-b1cc-58f90c8084f5",
   "metadata": {},
   "source": [
    "# Separar a variável target das features (tanto do treino como do teste)\n",
    "<img src=\"https://i.ibb.co/3csjYT2/image.png\" width=\"400\" height=\"100\"/>"
   ]
  },
  {
   "cell_type": "code",
   "execution_count": 72,
   "id": "2d7d9a2f-a2a4-4b29-84ca-dbd6dc05822d",
   "metadata": {},
   "outputs": [],
   "source": [
    "train_x = train.drop(columns=['Outcome'],axis=1)\n",
    "train_y = train['Outcome']"
   ]
  },
  {
   "cell_type": "code",
   "execution_count": 73,
   "id": "f9752ebe",
   "metadata": {},
   "outputs": [],
   "source": [
    "val_x = val.drop(columns=['Outcome'],axis=1)\n",
    "val_y = val['Outcome']"
   ]
  },
  {
   "cell_type": "code",
   "execution_count": 74,
   "id": "47837ec4-103e-4d29-93b9-327866a30a5e",
   "metadata": {},
   "outputs": [],
   "source": [
    "test_x = test.drop(columns=['Outcome'],axis=1)\n",
    "test_y = test['Outcome']"
   ]
  },
  {
   "cell_type": "code",
   "execution_count": 75,
   "id": "88228371",
   "metadata": {},
   "outputs": [
    {
     "data": {
      "text/plain": [
       "(154, 8)"
      ]
     },
     "execution_count": 75,
     "metadata": {},
     "output_type": "execute_result"
    }
   ],
   "source": [
    "val_x.shape"
   ]
  },
  {
   "cell_type": "markdown",
   "id": "44161cec-51cf-41fa-b1a3-00dacc16db5e",
   "metadata": {},
   "source": [
    "## Treinar o modelo com os principais algorítimos supervisionados de Classificação\n",
    "<img src=\"https://i.ibb.co/N3pbLFp/LR-LDA-DT-KNN-SVM-RF.png\" width=\"200\" height=\"80\"/>"
   ]
  },
  {
   "cell_type": "code",
   "execution_count": 76,
   "id": "7c6bfc28-9d2e-4c88-9edc-0453c69f7544",
   "metadata": {},
   "outputs": [],
   "source": [
    "LR = LogisticRegression(solver='lbfgs', max_iter=10000).fit(train_x, train_y)\n",
    "LDA = LinearDiscriminantAnalysis().fit(train_x, train_y)\n",
    "DT = DecisionTreeClassifier().fit(train_x, train_y)\n",
    "KN = KNeighborsClassifier().fit(train_x, train_y)\n",
    "SVM = SVC().fit(train_x,train_y)\n",
    "RF = RandomForestClassifier().fit(train_x,train_y)"
   ]
  },
  {
   "cell_type": "markdown",
   "id": "ca34b192",
   "metadata": {},
   "source": [
    "# Acurácia, Precision e Recall do Treino"
   ]
  },
  {
   "cell_type": "code",
   "execution_count": 77,
   "id": "1dc46e44",
   "metadata": {
    "scrolled": true
   },
   "outputs": [
    {
     "data": {
      "text/html": [
       "<div>\n",
       "<style scoped>\n",
       "    .dataframe tbody tr th:only-of-type {\n",
       "        vertical-align: middle;\n",
       "    }\n",
       "\n",
       "    .dataframe tbody tr th {\n",
       "        vertical-align: top;\n",
       "    }\n",
       "\n",
       "    .dataframe thead th {\n",
       "        text-align: right;\n",
       "    }\n",
       "</style>\n",
       "<table border=\"1\" class=\"dataframe\">\n",
       "  <thead>\n",
       "    <tr style=\"text-align: right;\">\n",
       "      <th></th>\n",
       "      <th>Accuracy</th>\n",
       "      <th>Precision</th>\n",
       "      <th>Recall</th>\n",
       "    </tr>\n",
       "  </thead>\n",
       "  <tbody>\n",
       "    <tr>\n",
       "      <th>LR</th>\n",
       "      <td>0.760870</td>\n",
       "      <td>0.732759</td>\n",
       "      <td>0.518293</td>\n",
       "    </tr>\n",
       "    <tr>\n",
       "      <th>LDA</th>\n",
       "      <td>0.780435</td>\n",
       "      <td>0.740458</td>\n",
       "      <td>0.591463</td>\n",
       "    </tr>\n",
       "    <tr>\n",
       "      <th>DT</th>\n",
       "      <td>1.000000</td>\n",
       "      <td>1.000000</td>\n",
       "      <td>1.000000</td>\n",
       "    </tr>\n",
       "    <tr>\n",
       "      <th>KN</th>\n",
       "      <td>0.765217</td>\n",
       "      <td>0.750000</td>\n",
       "      <td>0.512195</td>\n",
       "    </tr>\n",
       "    <tr>\n",
       "      <th>SVM</th>\n",
       "      <td>0.680435</td>\n",
       "      <td>0.556291</td>\n",
       "      <td>0.512195</td>\n",
       "    </tr>\n",
       "    <tr>\n",
       "      <th>RF</th>\n",
       "      <td>1.000000</td>\n",
       "      <td>1.000000</td>\n",
       "      <td>1.000000</td>\n",
       "    </tr>\n",
       "  </tbody>\n",
       "</table>\n",
       "</div>"
      ],
      "text/plain": [
       "     Accuracy  Precision    Recall\n",
       "LR   0.760870   0.732759  0.518293\n",
       "LDA  0.780435   0.740458  0.591463\n",
       "DT   1.000000   1.000000  1.000000\n",
       "KN   0.765217   0.750000  0.512195\n",
       "SVM  0.680435   0.556291  0.512195\n",
       "RF   1.000000   1.000000  1.000000"
      ]
     },
     "execution_count": 77,
     "metadata": {},
     "output_type": "execute_result"
    }
   ],
   "source": [
    "metricas_treino = {\n",
    "        'Accuracy':  [LR.score(train_x,train_y),\n",
    "                      LDA.score(train_x,train_y),\n",
    "                      DT.score(train_x,train_y),\n",
    "                      KN.score(train_x,train_y),\n",
    "                      SVM.score(train_x,train_y),\n",
    "                      RF.score(train_x,train_y)],\n",
    "        'Precision': [precision_score(train_y, LR.predict(train_x)),\n",
    "                      precision_score(train_y, LDA.predict(train_x)),\n",
    "                      precision_score(train_y, DT.predict(train_x)),\n",
    "                      precision_score(train_y, KN.predict(train_x)),\n",
    "                      precision_score(train_y, SVM.predict(train_x)),\n",
    "                      precision_score(train_y, RF.predict(train_x))],\n",
    "        'Recall' :   [recall_score(train_y,LR.predict(train_x)),\n",
    "                      recall_score(train_y, LDA.predict(train_x)),\n",
    "                      recall_score(train_y, DT.predict(train_x)),\n",
    "                      recall_score(train_y, KN.predict(train_x)),\n",
    "                      recall_score(train_y, SVM.predict(train_x)),\n",
    "                      recall_score(train_y, RF.predict(train_x))]\n",
    "        }\n",
    "\n",
    "dados = pd.DataFrame(metricas_treino, \n",
    "                     columns = ['Accuracy', 'Precision','Recall'],\n",
    "                     index=['LR','LDA','DT','KN','SVM','RF'])\n",
    "\n",
    "dados"
   ]
  },
  {
   "cell_type": "markdown",
   "id": "5a554be5",
   "metadata": {},
   "source": [
    "# Acurácia, Precision e Recall da Validação"
   ]
  },
  {
   "cell_type": "code",
   "execution_count": 78,
   "id": "c89bd186",
   "metadata": {},
   "outputs": [
    {
     "data": {
      "text/html": [
       "<div>\n",
       "<style scoped>\n",
       "    .dataframe tbody tr th:only-of-type {\n",
       "        vertical-align: middle;\n",
       "    }\n",
       "\n",
       "    .dataframe tbody tr th {\n",
       "        vertical-align: top;\n",
       "    }\n",
       "\n",
       "    .dataframe thead th {\n",
       "        text-align: right;\n",
       "    }\n",
       "</style>\n",
       "<table border=\"1\" class=\"dataframe\">\n",
       "  <thead>\n",
       "    <tr style=\"text-align: right;\">\n",
       "      <th></th>\n",
       "      <th>Accuracy</th>\n",
       "      <th>Precision</th>\n",
       "      <th>Recall</th>\n",
       "    </tr>\n",
       "  </thead>\n",
       "  <tbody>\n",
       "    <tr>\n",
       "      <th>LR</th>\n",
       "      <td>0.753247</td>\n",
       "      <td>0.756757</td>\n",
       "      <td>0.491228</td>\n",
       "    </tr>\n",
       "    <tr>\n",
       "      <th>LDA</th>\n",
       "      <td>0.759740</td>\n",
       "      <td>0.738095</td>\n",
       "      <td>0.543860</td>\n",
       "    </tr>\n",
       "    <tr>\n",
       "      <th>DT</th>\n",
       "      <td>0.720779</td>\n",
       "      <td>0.625000</td>\n",
       "      <td>0.614035</td>\n",
       "    </tr>\n",
       "    <tr>\n",
       "      <th>KN</th>\n",
       "      <td>0.675325</td>\n",
       "      <td>0.571429</td>\n",
       "      <td>0.491228</td>\n",
       "    </tr>\n",
       "    <tr>\n",
       "      <th>SVM</th>\n",
       "      <td>0.636364</td>\n",
       "      <td>0.508197</td>\n",
       "      <td>0.543860</td>\n",
       "    </tr>\n",
       "    <tr>\n",
       "      <th>RF</th>\n",
       "      <td>0.740260</td>\n",
       "      <td>0.688889</td>\n",
       "      <td>0.543860</td>\n",
       "    </tr>\n",
       "  </tbody>\n",
       "</table>\n",
       "</div>"
      ],
      "text/plain": [
       "     Accuracy  Precision    Recall\n",
       "LR   0.753247   0.756757  0.491228\n",
       "LDA  0.759740   0.738095  0.543860\n",
       "DT   0.720779   0.625000  0.614035\n",
       "KN   0.675325   0.571429  0.491228\n",
       "SVM  0.636364   0.508197  0.543860\n",
       "RF   0.740260   0.688889  0.543860"
      ]
     },
     "execution_count": 78,
     "metadata": {},
     "output_type": "execute_result"
    }
   ],
   "source": [
    "metricas_validacao = {\n",
    "        'Accuracy':  [LR.score(val_x,val_y),\n",
    "                      LDA.score(val_x,val_y),\n",
    "                      DT.score(val_x,val_y),\n",
    "                      KN.score(val_x,val_y),\n",
    "                      SVM.score(val_x,val_y),\n",
    "                      RF.score(val_x,val_y)],\n",
    "        'Precision': [precision_score(val_y, LR.predict(val_x),zero_division=1),\n",
    "                      precision_score(val_y, LDA.predict(val_x)),\n",
    "                      precision_score(val_y, DT.predict(val_x)),\n",
    "                      precision_score(val_y, KN.predict(val_x)),\n",
    "                      precision_score(val_y, SVM.predict(val_x)),\n",
    "                      precision_score(val_y, RF.predict(val_x))],\n",
    "        'Recall' :   [recall_score(val_y,LR.predict(val_x)),\n",
    "                      recall_score(val_y, LDA.predict(val_x)),\n",
    "                      recall_score(val_y, DT.predict(val_x)),\n",
    "                      recall_score(val_y, KN.predict(val_x)),\n",
    "                      recall_score(val_y, SVM.predict(val_x)),\n",
    "                      recall_score(val_y, RF.predict(val_x))]\n",
    "        }\n",
    "\n",
    "dados = pd.DataFrame(metricas_validacao, \n",
    "                     columns = ['Accuracy', 'Precision','Recall'],\n",
    "                     index=['LR','LDA','DT','KN','SVM','RF'])\n",
    "\n",
    "dados"
   ]
  },
  {
   "cell_type": "markdown",
   "id": "b39abe22",
   "metadata": {},
   "source": [
    "# Acurácia, Precision e Recall do Teste"
   ]
  },
  {
   "cell_type": "code",
   "execution_count": 79,
   "id": "99526ae5",
   "metadata": {},
   "outputs": [
    {
     "data": {
      "text/html": [
       "<div>\n",
       "<style scoped>\n",
       "    .dataframe tbody tr th:only-of-type {\n",
       "        vertical-align: middle;\n",
       "    }\n",
       "\n",
       "    .dataframe tbody tr th {\n",
       "        vertical-align: top;\n",
       "    }\n",
       "\n",
       "    .dataframe thead th {\n",
       "        text-align: right;\n",
       "    }\n",
       "</style>\n",
       "<table border=\"1\" class=\"dataframe\">\n",
       "  <thead>\n",
       "    <tr style=\"text-align: right;\">\n",
       "      <th></th>\n",
       "      <th>Accuracy</th>\n",
       "      <th>Precision</th>\n",
       "      <th>Recall</th>\n",
       "    </tr>\n",
       "  </thead>\n",
       "  <tbody>\n",
       "    <tr>\n",
       "      <th>LR</th>\n",
       "      <td>0.772727</td>\n",
       "      <td>0.596774</td>\n",
       "      <td>0.787234</td>\n",
       "    </tr>\n",
       "    <tr>\n",
       "      <th>LDA</th>\n",
       "      <td>0.753247</td>\n",
       "      <td>0.561644</td>\n",
       "      <td>0.872340</td>\n",
       "    </tr>\n",
       "    <tr>\n",
       "      <th>DT</th>\n",
       "      <td>0.623377</td>\n",
       "      <td>0.430380</td>\n",
       "      <td>0.723404</td>\n",
       "    </tr>\n",
       "    <tr>\n",
       "      <th>KN</th>\n",
       "      <td>0.720779</td>\n",
       "      <td>0.555556</td>\n",
       "      <td>0.425532</td>\n",
       "    </tr>\n",
       "    <tr>\n",
       "      <th>SVM</th>\n",
       "      <td>0.681818</td>\n",
       "      <td>0.478261</td>\n",
       "      <td>0.468085</td>\n",
       "    </tr>\n",
       "    <tr>\n",
       "      <th>RF</th>\n",
       "      <td>0.766234</td>\n",
       "      <td>0.600000</td>\n",
       "      <td>0.702128</td>\n",
       "    </tr>\n",
       "  </tbody>\n",
       "</table>\n",
       "</div>"
      ],
      "text/plain": [
       "     Accuracy  Precision    Recall\n",
       "LR   0.772727   0.596774  0.787234\n",
       "LDA  0.753247   0.561644  0.872340\n",
       "DT   0.623377   0.430380  0.723404\n",
       "KN   0.720779   0.555556  0.425532\n",
       "SVM  0.681818   0.478261  0.468085\n",
       "RF   0.766234   0.600000  0.702128"
      ]
     },
     "execution_count": 79,
     "metadata": {},
     "output_type": "execute_result"
    }
   ],
   "source": [
    "metricas_teste = {\n",
    "        'Accuracy':  [LR.score(test_x,test_y),\n",
    "                      LDA.score(test_x,test_y),\n",
    "                      DT.score(test_x,test_y),\n",
    "                      KN.score(test_x,test_y),\n",
    "                      SVM.score(test_x,test_y),\n",
    "                      RF.score(test_x,test_y)],\n",
    "        'Precision': [precision_score(test_y, LR.predict(test_x)),\n",
    "                      precision_score(test_y, LDA.predict(test_x)),\n",
    "                      precision_score(test_y, DT.predict(test_x)),\n",
    "                      precision_score(test_y, KN.predict(test_x)),\n",
    "                      precision_score(test_y, SVM.predict(test_x)),\n",
    "                      precision_score(test_y, RF.predict(test_x))],\n",
    "        'Recall' :   [recall_score(test_y, LR.predict(test_x)),\n",
    "                      recall_score(test_y, LDA.predict(test_x)),\n",
    "                      recall_score(test_y, DT.predict(test_x)),\n",
    "                      recall_score(test_y, KN.predict(test_x)),\n",
    "                      recall_score(test_y, SVM.predict(test_x)),\n",
    "                      recall_score(test_y, RF.predict(test_x))]\n",
    "        }\n",
    "\n",
    "dados = pd.DataFrame(metricas_teste, \n",
    "                     columns = ['Accuracy', 'Precision','Recall'],\n",
    "                     index=['LR','LDA','DT','KN','SVM','RF'])\n",
    "\n",
    "dados"
   ]
  },
  {
   "cell_type": "markdown",
   "id": "5d336da0-a967-435d-b1c6-bf63f8e4890e",
   "metadata": {},
   "source": [
    "## Matriz de confusão + Métricas\n",
    "<img src=\"https://www.researchgate.net/profile/Rune-Jacobsen/publication/334840641/figure/fig3/AS:794222751928321@1566368868347/Confusion-matrix-and-evaluation-metrics.png\" width=\"350\" height=\"80\"/>"
   ]
  },
  {
   "cell_type": "code",
   "execution_count": 80,
   "id": "f1813827-8801-4b2d-a6fc-b58c24955759",
   "metadata": {},
   "outputs": [
    {
     "data": {
      "image/png": "[encoded data removed]",
      "text/plain": [
       "<Figure size 432x288 with 2 Axes>"
      ]
     },
     "metadata": {
      "needs_background": "light"
     },
     "output_type": "display_data"
    }
   ],
   "source": [
    "plot_confusion_matrix(RF, test_x, test_y)\n",
    "plt.show()"
   ]
  },
  {
   "cell_type": "markdown",
   "id": "1ba88b46-0bec-44a9-8319-eb8d1736f2ee",
   "metadata": {},
   "source": [
    "## Curva ROC\n",
    "<img src=\"https://upload.wikimedia.org/wikipedia/commons/thumb/3/36/Roc-draft-xkcd-style.svg/250px-Roc-draft-xkcd-style.svg.png\" width=\"350\" height=\"80\"/>"
   ]
  },
  {
   "cell_type": "code",
   "execution_count": 81,
   "id": "732b406d-3ce8-4a88-9528-2b83a7c2c271",
   "metadata": {},
   "outputs": [
    {
     "data": {
      "text/plain": [
       "<sklearn.metrics._plot.roc_curve.RocCurveDisplay at 0x14187c640>"
      ]
     },
     "execution_count": 81,
     "metadata": {},
     "output_type": "execute_result"
    },
    {
     "data": {
      "image/png": "[encoded data removed]",
      "text/plain": [
       "<Figure size 432x288 with 1 Axes>"
      ]
     },
     "metadata": {
      "needs_background": "light"
     },
     "output_type": "display_data"
    }
   ],
   "source": [
    "#classifiers = [LR, LDA, DT, KN, SVM, RF]\n",
    "plot_roc_curve(LR, test_x, test_y, ax=plt.gca())\n",
    "plot_roc_curve(LDA, test_x, test_y, ax=plt.gca())\n",
    "plot_roc_curve(DT, test_x, test_y, ax=plt.gca())\n",
    "plot_roc_curve(KN, test_x, test_y, ax=plt.gca())\n",
    "plot_roc_curve(SVM, test_x, test_y, ax=plt.gca())\n",
    "plot_roc_curve(RF, test_x, test_y, ax=plt.gca())"
   ]
  },
  {
   "cell_type": "code",
   "execution_count": 82,
   "id": "c851e0a1",
   "metadata": {},
   "outputs": [
    {
     "data": {
      "text/plain": [
       "<sklearn.metrics._plot.precision_recall_curve.PrecisionRecallDisplay at 0x141ad5ee0>"
      ]
     },
     "execution_count": 82,
     "metadata": {},
     "output_type": "execute_result"
    },
    {
     "data": {
      "image/png": "[encoded data removed]",
      "text/plain": [
       "<Figure size 432x288 with 1 Axes>"
      ]
     },
     "metadata": {
      "needs_background": "light"
     },
     "output_type": "display_data"
    }
   ],
   "source": [
    "plot_precision_recall_curve(LR, test_x, test_y, ax=plt.gca())\n",
    "plot_precision_recall_curve(LDA, test_x, test_y, ax=plt.gca())\n",
    "plot_precision_recall_curve(DT, test_x, test_y, ax=plt.gca())\n",
    "plot_precision_recall_curve(KN, test_x, test_y, ax=plt.gca())\n",
    "plot_precision_recall_curve(SVM, test_x, test_y, ax=plt.gca())\n",
    "plot_precision_recall_curve(RF, test_x, test_y, ax=plt.gca())"
   ]
  },
  {
   "cell_type": "code",
   "execution_count": null,
   "id": "0de28964",
   "metadata": {},
   "outputs": [],
   "source": []
  }
 ],
 "metadata": {
  "kernelspec": {
   "display_name": "Python 3",
   "language": "python",
   "name": "python3"
  },
  "language_info": {
   "codemirror_mode": {
    "name": "ipython",
    "version": 3
   },
   "file_extension": ".py",
   "mimetype": "text/x-python",
   "name": "python",
   "nbconvert_exporter": "python",
   "pygments_lexer": "ipython3",
   "version": "3.9.0"
  }
 },
 "nbformat": 4,
 "nbformat_minor": 5
}
