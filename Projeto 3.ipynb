{
 "cells": [
  {
   "cell_type": "code",
   "execution_count": 3,
   "id": "bc83e397-24fb-4d3b-b432-5bc308cba72c",
   "metadata": {},
   "outputs": [],
   "source": [
    "import numpy as np\n",
    "import pandas as pd\n",
    "import matplotlib.pyplot as plt\n",
    "from sklearn.model_selection import train_test_split\n",
    "from sklearn.linear_model import LogisticRegression\n",
    "from sklearn.tree import DecisionTreeClassifier\n",
    "from sklearn.neighbors import KNeighborsClassifier\n",
    "from sklearn.discriminant_analysis import LinearDiscriminantAnalysis\n",
    "from sklearn.ensemble import RandomForestClassifier\n",
    "from sklearn.svm import SVC\n",
    "from sklearn.metrics import plot_confusion_matrix\n",
    "from sklearn.metrics import precision_score\n",
    "from sklearn.metrics import recall_score\n",
    "from sklearn.metrics import plot_roc_curve"
   ]
  },
  {
   "cell_type": "markdown",
   "id": "0514232e-36f7-41ab-a140-c27cb936655e",
   "metadata": {},
   "source": [
    "# Titanic\n",
    "<img src=\"https://ibcdn.canaltech.com.br/5uFYyzz-BCXzkZk1OlnDzYs9lc8=/512x288/smart/i248658.jpeg\" width=\"400\" height=\"100\"/>"
   ]
  },
  {
   "cell_type": "code",
   "execution_count": 4,
   "id": "38f9f0f7-851b-4e75-97a1-ccf43248ae54",
   "metadata": {},
   "outputs": [],
   "source": [
    "df=pd.read_csv('https://raw.githubusercontent.com/massquantity/Kaggle-Titanic/master/Data/train.csv')"
   ]
  },
  {
   "cell_type": "code",
   "execution_count": 5,
   "id": "d783826f-9126-4880-ae29-225a2d31ba2c",
   "metadata": {},
   "outputs": [
    {
     "data": {
      "text/plain": [
       "0    0\n",
       "1    1\n",
       "Name: Survived, dtype: int64"
      ]
     },
     "execution_count": 5,
     "metadata": {},
     "output_type": "execute_result"
    }
   ],
   "source": [
    "df['Survived'].drop_duplicates()"
   ]
  },
  {
   "cell_type": "code",
   "execution_count": 6,
   "id": "11516a80-4271-45eb-8f5b-62565f4534aa",
   "metadata": {},
   "outputs": [
    {
     "data": {
      "text/plain": [
       "0    549\n",
       "1    342\n",
       "Name: Survived, dtype: int64"
      ]
     },
     "execution_count": 6,
     "metadata": {},
     "output_type": "execute_result"
    }
   ],
   "source": [
    "df['Survived'].value_counts()"
   ]
  },
  {
   "cell_type": "markdown",
   "id": "c46be0de-22b2-4060-a81b-37c4f9ec2b67",
   "metadata": {},
   "source": [
    "# Separar em Treino e Teste\n",
    "\n",
    "<img src=\"data:image/png;base64,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\" width=\"400\" height=\"100\">"
   ]
  },
  {
   "cell_type": "code",
   "execution_count": 7,
   "id": "c3c6f45a-8425-46c5-a510-50cdf7cfd277",
   "metadata": {},
   "outputs": [],
   "source": [
    "train , test = train_test_split(df,test_size=0.2,random_state=0)"
   ]
  },
  {
   "cell_type": "markdown",
   "id": "8cb639e6-f9cf-4712-8cbb-4fc4a6302439",
   "metadata": {},
   "source": [
    "# Retirar colunas que não usaremos\n",
    "\n",
    "<img src=\"https://cdn2.iconfinder.com/data/icons/flat-pro-word-processing-set-5/32/table-column-delete-512.png\" width=\"200\" height=\"100\"/>"
   ]
  },
  {
   "cell_type": "code",
   "execution_count": 8,
   "id": "6be384a6-131a-4720-8008-576ff58fbd5f",
   "metadata": {},
   "outputs": [],
   "source": [
    "train = train.drop(['PassengerId','Ticket','Name','Cabin'], axis = 1)\n",
    "test = test.drop(['PassengerId','Ticket','Name','Cabin'], axis = 1)"
   ]
  },
  {
   "cell_type": "markdown",
   "id": "b873ec80-f253-4f50-a391-8c3a0904501d",
   "metadata": {},
   "source": [
    "# Valor Vazio\n",
    "\n",
    "<img src=\"https://www.logianalytics.com/wp-content/uploads/2019/06/Missing-values-2.png\" width=\"250\" height=\"100\"/>"
   ]
  },
  {
   "cell_type": "code",
   "execution_count": 9,
   "id": "dadac681-457b-46a3-b89c-eb41445d728a",
   "metadata": {},
   "outputs": [
    {
     "data": {
      "text/html": [
       "<div>\n",
       "<style scoped>\n",
       "    .dataframe tbody tr th:only-of-type {\n",
       "        vertical-align: middle;\n",
       "    }\n",
       "\n",
       "    .dataframe tbody tr th {\n",
       "        vertical-align: top;\n",
       "    }\n",
       "\n",
       "    .dataframe thead th {\n",
       "        text-align: right;\n",
       "    }\n",
       "</style>\n",
       "<table border=\"1\" class=\"dataframe\">\n",
       "  <thead>\n",
       "    <tr style=\"text-align: right;\">\n",
       "      <th></th>\n",
       "      <th>Valor Vazio</th>\n",
       "    </tr>\n",
       "  </thead>\n",
       "  <tbody>\n",
       "    <tr>\n",
       "      <th>PassengerId</th>\n",
       "      <td>0</td>\n",
       "    </tr>\n",
       "    <tr>\n",
       "      <th>Survived</th>\n",
       "      <td>0</td>\n",
       "    </tr>\n",
       "    <tr>\n",
       "      <th>Pclass</th>\n",
       "      <td>0</td>\n",
       "    </tr>\n",
       "    <tr>\n",
       "      <th>Name</th>\n",
       "      <td>0</td>\n",
       "    </tr>\n",
       "    <tr>\n",
       "      <th>Sex</th>\n",
       "      <td>0</td>\n",
       "    </tr>\n",
       "    <tr>\n",
       "      <th>Age</th>\n",
       "      <td>177</td>\n",
       "    </tr>\n",
       "    <tr>\n",
       "      <th>SibSp</th>\n",
       "      <td>0</td>\n",
       "    </tr>\n",
       "    <tr>\n",
       "      <th>Parch</th>\n",
       "      <td>0</td>\n",
       "    </tr>\n",
       "    <tr>\n",
       "      <th>Ticket</th>\n",
       "      <td>0</td>\n",
       "    </tr>\n",
       "    <tr>\n",
       "      <th>Fare</th>\n",
       "      <td>0</td>\n",
       "    </tr>\n",
       "    <tr>\n",
       "      <th>Cabin</th>\n",
       "      <td>687</td>\n",
       "    </tr>\n",
       "    <tr>\n",
       "      <th>Embarked</th>\n",
       "      <td>2</td>\n",
       "    </tr>\n",
       "  </tbody>\n",
       "</table>\n",
       "</div>"
      ],
      "text/plain": [
       "             Valor Vazio\n",
       "PassengerId            0\n",
       "Survived               0\n",
       "Pclass                 0\n",
       "Name                   0\n",
       "Sex                    0\n",
       "Age                  177\n",
       "SibSp                  0\n",
       "Parch                  0\n",
       "Ticket                 0\n",
       "Fare                   0\n",
       "Cabin                687\n",
       "Embarked               2"
      ]
     },
     "execution_count": 9,
     "metadata": {},
     "output_type": "execute_result"
    }
   ],
   "source": [
    "pd.isna(df).sum().to_frame(\"Valor Vazio\")"
   ]
  },
  {
   "cell_type": "code",
   "execution_count": 10,
   "id": "65639608-e02d-4f92-93f3-29ef684d358c",
   "metadata": {},
   "outputs": [],
   "source": [
    "train['Age'].fillna(train['Age'].mean(), inplace = True)\n",
    "train.dropna(how='any',inplace=True)\n",
    "\n",
    "test['Age'].fillna(train['Age'].mean(), inplace = True)\n",
    "test.dropna(how='any',inplace=True)"
   ]
  },
  {
   "cell_type": "markdown",
   "id": "2576e9e2-843b-467e-b008-025b6ad7b41a",
   "metadata": {},
   "source": [
    "# Categóricas em numéricas\n",
    "\n",
    "<img src=\"https://miro.medium.com/max/772/1*QQe-4476Oy3_dI1vhb3dDg.png\" width=\"300\" height=\"100\"/>"
   ]
  },
  {
   "cell_type": "code",
   "execution_count": 11,
   "id": "17d3107d-9797-4605-8109-ca9d394595af",
   "metadata": {
    "tags": []
   },
   "outputs": [],
   "source": [
    "train['Sex'] = np.where(train['Sex'] == 'male', 1,0)\n",
    "train['Embarked'] = np.where(train['Embarked'] == 'S', 0,\n",
    "                         np.where(train['Embarked'] == 'Q',1,2))\n",
    "\n",
    "\n",
    "test['Sex'] = np.where(test['Sex'] == 'male', 1,0)\n",
    "test['Embarked'] = np.where(test['Embarked'] == 'S', 0,\n",
    "                         np.where(test['Embarked'] == 'Q',1,2))"
   ]
  },
  {
   "cell_type": "markdown",
   "id": "fec76282-00cb-473c-b57f-7ae5a571d7ea",
   "metadata": {},
   "source": [
    "# Separar a variável target das features (tanto do treino como do teste)\n",
    "<img src=\"https://i.ibb.co/3csjYT2/image.png\" width=\"400\" height=\"100\"/>"
   ]
  },
  {
   "cell_type": "code",
   "execution_count": 12,
   "id": "bc550b22-5c21-43db-bcb7-cb52e2974680",
   "metadata": {},
   "outputs": [],
   "source": [
    "train_x = train.drop(columns=['Survived'],axis=1)\n",
    "train_y = train['Survived']"
   ]
  },
  {
   "cell_type": "code",
   "execution_count": 13,
   "id": "a0034692-2014-4edd-b166-9c249253e382",
   "metadata": {},
   "outputs": [],
   "source": [
    "test_x = test.drop(columns=['Survived'],axis=1)\n",
    "test_y = test['Survived']"
   ]
  },
  {
   "cell_type": "markdown",
   "id": "c0a4426e-0025-40fb-a685-088f31fb173d",
   "metadata": {},
   "source": [
    "## Treinar o modelo com os principais algorítimos supervisionados de Classificação\n",
    "<img src=\"https://i.ibb.co/N3pbLFp/LR-LDA-DT-KNN-SVM-RF.png\" width=\"200\" height=\"80\"/>"
   ]
  },
  {
   "cell_type": "code",
   "execution_count": 14,
   "id": "56fde71f-cb13-442e-842c-26102a174c2e",
   "metadata": {},
   "outputs": [],
   "source": [
    "LR = LogisticRegression(solver='lbfgs', max_iter=10000).fit(train_x, train_y)\n",
    "LDA = LinearDiscriminantAnalysis().fit(train_x, train_y)\n",
    "DT = DecisionTreeClassifier().fit(train_x, train_y)\n",
    "KN = KNeighborsClassifier().fit(train_x, train_y)\n",
    "SVM = SVC().fit(train_x,train_y)\n",
    "RF = RandomForestClassifier().fit(train_x,train_y)"
   ]
  },
  {
   "cell_type": "markdown",
   "id": "25cb814d-cf68-439c-af17-8a91f0227ca3",
   "metadata": {},
   "source": [
    "## Matriz de confusão + Métricas\n",
    "<img src=\"https://www.researchgate.net/profile/Rune-Jacobsen/publication/334840641/figure/fig3/AS:794222751928321@1566368868347/Confusion-matrix-and-evaluation-metrics.png\" width=\"350\" height=\"80\"/>"
   ]
  },
  {
   "cell_type": "code",
   "execution_count": 15,
   "id": "86cfc40a-3e28-4e83-81fc-9bc969228bdb",
   "metadata": {},
   "outputs": [
    {
     "data": {
      "image/png": "[encoded data removed]",
      "text/plain": [
       "<Figure size 432x288 with 2 Axes>"
      ]
     },
     "metadata": {
      "needs_background": "light"
     },
     "output_type": "display_data"
    }
   ],
   "source": [
    "plot_confusion_matrix(RF, test_x, test_y)\n",
    "plt.show()"
   ]
  },
  {
   "cell_type": "code",
   "execution_count": 18,
   "id": "a59811e1-65dc-4574-ab55-adb357b55854",
   "metadata": {},
   "outputs": [
    {
     "data": {
      "text/html": [
       "<div>\n",
       "<style scoped>\n",
       "    .dataframe tbody tr th:only-of-type {\n",
       "        vertical-align: middle;\n",
       "    }\n",
       "\n",
       "    .dataframe tbody tr th {\n",
       "        vertical-align: top;\n",
       "    }\n",
       "\n",
       "    .dataframe thead th {\n",
       "        text-align: right;\n",
       "    }\n",
       "</style>\n",
       "<table border=\"1\" class=\"dataframe\">\n",
       "  <thead>\n",
       "    <tr style=\"text-align: right;\">\n",
       "      <th></th>\n",
       "      <th>Accuracy</th>\n",
       "      <th>Precision</th>\n",
       "      <th>Recall</th>\n",
       "    </tr>\n",
       "  </thead>\n",
       "  <tbody>\n",
       "    <tr>\n",
       "      <th>LR</th>\n",
       "      <td>0.798883</td>\n",
       "      <td>0.739130</td>\n",
       "      <td>0.739130</td>\n",
       "    </tr>\n",
       "    <tr>\n",
       "      <th>LDA</th>\n",
       "      <td>0.787709</td>\n",
       "      <td>0.731343</td>\n",
       "      <td>0.710145</td>\n",
       "    </tr>\n",
       "    <tr>\n",
       "      <th>DT</th>\n",
       "      <td>0.770950</td>\n",
       "      <td>0.725806</td>\n",
       "      <td>0.652174</td>\n",
       "    </tr>\n",
       "    <tr>\n",
       "      <th>KN</th>\n",
       "      <td>0.743017</td>\n",
       "      <td>0.709091</td>\n",
       "      <td>0.565217</td>\n",
       "    </tr>\n",
       "    <tr>\n",
       "      <th>SVM</th>\n",
       "      <td>0.720670</td>\n",
       "      <td>0.806452</td>\n",
       "      <td>0.362319</td>\n",
       "    </tr>\n",
       "    <tr>\n",
       "      <th>RF</th>\n",
       "      <td>0.832402</td>\n",
       "      <td>0.809524</td>\n",
       "      <td>0.739130</td>\n",
       "    </tr>\n",
       "  </tbody>\n",
       "</table>\n",
       "</div>"
      ],
      "text/plain": [
       "     Accuracy  Precision    Recall\n",
       "LR   0.798883   0.739130  0.739130\n",
       "LDA  0.787709   0.731343  0.710145\n",
       "DT   0.770950   0.725806  0.652174\n",
       "KN   0.743017   0.709091  0.565217\n",
       "SVM  0.720670   0.806452  0.362319\n",
       "RF   0.832402   0.809524  0.739130"
      ]
     },
     "execution_count": 18,
     "metadata": {},
     "output_type": "execute_result"
    }
   ],
   "source": [
    "metricas = {\n",
    "        'Accuracy': [LR.score(test_x,test_y),\n",
    "                 LDA.score(test_x,test_y),\n",
    "                 DT.score(test_x,test_y),\n",
    "                 KN.score(test_x,test_y),\n",
    "                 SVM.score(test_x,test_y),\n",
    "                 RF.score(test_x,test_y)],\n",
    "        'Precision': [precision_score(test_y, LR.predict(test_x)),\n",
    "                      precision_score(test_y, LDA.predict(test_x)),\n",
    "                      precision_score(test_y, DT.predict(test_x)),\n",
    "                      precision_score(test_y, KN.predict(test_x)),\n",
    "                      precision_score(test_y, SVM.predict(test_x)),\n",
    "                      precision_score(test_y, RF.predict(test_x))],\n",
    "        'Recall' : [recall_score(test_y,LR.predict(test_x)),\n",
    "                    recall_score(test_y, LDA.predict(test_x)),\n",
    "                    recall_score(test_y, DT.predict(test_x)),\n",
    "                    recall_score(test_y, KN.predict(test_x)),\n",
    "                    recall_score(test_y, SVM.predict(test_x)),\n",
    "                    recall_score(test_y, RF.predict(test_x))]\n",
    "        }\n",
    "\n",
    "dados = pd.DataFrame(metricas, columns = ['Accuracy', 'Precision','Recall'], index=['LR','LDA','DT','KN','SVM','RF'])\n",
    "\n",
    "dados"
   ]
  },
  {
   "cell_type": "markdown",
   "id": "d4b3c58d-56b3-47d7-81f0-d4b8d03466f0",
   "metadata": {},
   "source": [
    "## Curva ROC\n",
    "<img src=\"https://upload.wikimedia.org/wikipedia/commons/thumb/3/36/Roc-draft-xkcd-style.svg/250px-Roc-draft-xkcd-style.svg.png\" width=\"350\" height=\"80\"/>"
   ]
  },
  {
   "cell_type": "code",
   "execution_count": 17,
   "id": "e27738b8-8797-4761-9a08-809a0b007f2f",
   "metadata": {},
   "outputs": [
    {
     "data": {
      "text/plain": [
       "<sklearn.metrics._plot.roc_curve.RocCurveDisplay at 0x138cd37c0>"
      ]
     },
     "execution_count": 17,
     "metadata": {},
     "output_type": "execute_result"
    },
    {
     "data": {
      "image/png": "[encoded data removed]",
      "text/plain": [
       "<Figure size 432x288 with 1 Axes>"
      ]
     },
     "metadata": {
      "needs_background": "light"
     },
     "output_type": "display_data"
    }
   ],
   "source": [
    "#classifiers = [LR, LDA, DT, KN, SVM, RF]\n",
    "plot_roc_curve(LR, test_x, test_y, ax=plt.gca())\n",
    "plot_roc_curve(LDA, test_x, test_y, ax=plt.gca())\n",
    "plot_roc_curve(DT, test_x, test_y, ax=plt.gca())\n",
    "plot_roc_curve(KN, test_x, test_y, ax=plt.gca())\n",
    "plot_roc_curve(SVM, test_x, test_y, ax=plt.gca())\n",
    "plot_roc_curve(RF, test_x, test_y, ax=plt.gca())"
   ]
  }
 ],
 "metadata": {
  "kernelspec": {
   "display_name": "Python 3",
   "language": "python",
   "name": "python3"
  },
  "language_info": {
   "codemirror_mode": {
    "name": "ipython",
    "version": 3
   },
   "file_extension": ".py",
   "mimetype": "text/x-python",
   "name": "python",
   "nbconvert_exporter": "python",
   "pygments_lexer": "ipython3",
   "version": "3.9.0"
  }
 },
 "nbformat": 4,
 "nbformat_minor": 5
}
